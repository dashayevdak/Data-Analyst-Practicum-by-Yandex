{
 "cells": [
  {
   "cell_type": "markdown",
   "metadata": {},
   "source": [
    "## Общая информация. Подготовка данных к работе"
   ]
  },
  {
   "cell_type": "markdown",
   "metadata": {},
   "source": [
    "# Определение перспективного тарифа для телеком компании\n",
    "\n",
    "### Клиентам предлагают два тарифных плана: «Смарт» и «Ультра». Чтобы скорректировать рекламный бюджет, коммерческий департамент хочет понять, какой тариф приносит больше денег. \n",
    "\n",
    "### Тариф «Смарт»\n",
    "Ежемесячная плата: 550 рублей\n",
    "Включено 500 минут разговора, 50 сообщений и 15 Гб интернет-трафика\n",
    "Стоимость услуг сверх тарифного пакета:\n",
    "минута разговора: 3 рубля\n",
    "сообщение: 3 рубля\n",
    "1 Гб интернет-трафика: 200 рублей\n",
    "\n",
    "\n",
    "### Тариф «Ультра»\n",
    "Ежемесячная плата: 1950 рублей\n",
    "Включено 3000 минут разговора, 1000 сообщений и 30 Гб интернет-трафика\n",
    "Стоимость услуг сверх тарифного пакета:\n",
    "минута разговора: 1 рубль\n",
    "сообщение: 1 рубль\n",
    "1 Гб интернет-трафика: 150 рублей\n",
    "\n",
    "«Мегалайн» всегда округляет вверх значения минут и мегабайтов. Если пользователь проговорил всего 1 секунду, в тарифе засчитывается целая минута."
   ]
  },
  {
   "cell_type": "code",
   "execution_count": 1,
   "metadata": {},
   "outputs": [],
   "source": [
    "import pandas as pd"
   ]
  },
  {
   "cell_type": "code",
   "execution_count": 2,
   "metadata": {},
   "outputs": [],
   "source": [
    "import numpy as np"
   ]
  },
  {
   "cell_type": "code",
   "execution_count": 3,
   "metadata": {},
   "outputs": [],
   "source": [
    "calls = pd.read_csv('/datasets/calls.csv')"
   ]
  },
  {
   "cell_type": "code",
   "execution_count": 4,
   "metadata": {},
   "outputs": [],
   "source": [
    "internet = pd.read_csv('/datasets/internet.csv')"
   ]
  },
  {
   "cell_type": "code",
   "execution_count": 5,
   "metadata": {},
   "outputs": [],
   "source": [
    "messages = pd.read_csv('/datasets/messages.csv')"
   ]
  },
  {
   "cell_type": "code",
   "execution_count": 6,
   "metadata": {},
   "outputs": [],
   "source": [
    "tariffs = pd.read_csv('/datasets/tariffs.csv')"
   ]
  },
  {
   "cell_type": "code",
   "execution_count": 7,
   "metadata": {},
   "outputs": [],
   "source": [
    "users = pd.read_csv('/datasets/users.csv')"
   ]
  },
  {
   "cell_type": "markdown",
   "metadata": {},
   "source": [
    "### Начнем знакомство с таблицей \"calls\"."
   ]
  },
  {
   "cell_type": "markdown",
   "metadata": {},
   "source": [
    "id — уникальный номер звонка\n",
    "\n",
    "\n",
    "call_date — дата звонка\n",
    "\n",
    "\n",
    "duration — длительность звонка в минутах\n",
    "\n",
    "\n",
    "user_id — идентификатор пользователя, сделавшего звонок"
   ]
  },
  {
   "cell_type": "code",
   "execution_count": 8,
   "metadata": {},
   "outputs": [
    {
     "name": "stdout",
     "output_type": "stream",
     "text": [
      "<class 'pandas.core.frame.DataFrame'>\n",
      "RangeIndex: 202607 entries, 0 to 202606\n",
      "Data columns (total 4 columns):\n",
      "id           202607 non-null object\n",
      "call_date    202607 non-null object\n",
      "duration     202607 non-null float64\n",
      "user_id      202607 non-null int64\n",
      "dtypes: float64(1), int64(1), object(2)\n",
      "memory usage: 6.2+ MB\n"
     ]
    }
   ],
   "source": [
    "calls.info()"
   ]
  },
  {
   "cell_type": "code",
   "execution_count": 9,
   "metadata": {},
   "outputs": [
    {
     "data": {
      "text/plain": [
       "id           0\n",
       "call_date    0\n",
       "duration     0\n",
       "user_id      0\n",
       "dtype: int64"
      ]
     },
     "execution_count": 9,
     "metadata": {},
     "output_type": "execute_result"
    }
   ],
   "source": [
    "calls.isnull().sum()"
   ]
  },
  {
   "cell_type": "code",
   "execution_count": 10,
   "metadata": {},
   "outputs": [
    {
     "data": {
      "text/plain": [
       "0"
      ]
     },
     "execution_count": 10,
     "metadata": {},
     "output_type": "execute_result"
    }
   ],
   "source": [
    "calls.duplicated().sum()"
   ]
  },
  {
   "cell_type": "code",
   "execution_count": 11,
   "metadata": {},
   "outputs": [
    {
     "data": {
      "text/plain": [
       "(202607, 4)"
      ]
     },
     "execution_count": 11,
     "metadata": {},
     "output_type": "execute_result"
    }
   ],
   "source": [
    "calls.shape"
   ]
  },
  {
   "cell_type": "code",
   "execution_count": 12,
   "metadata": {},
   "outputs": [],
   "source": [
    "calls['call_date'] = pd.to_datetime(calls['call_date'], format='%Y-%m-%d')"
   ]
  },
  {
   "cell_type": "code",
   "execution_count": 13,
   "metadata": {},
   "outputs": [],
   "source": [
    "calls['id']=calls['id'].astype('int64')"
   ]
  },
  {
   "cell_type": "code",
   "execution_count": 14,
   "metadata": {},
   "outputs": [
    {
     "data": {
      "text/plain": [
       "id                    int64\n",
       "call_date    datetime64[ns]\n",
       "duration            float64\n",
       "user_id               int64\n",
       "dtype: object"
      ]
     },
     "execution_count": 14,
     "metadata": {},
     "output_type": "execute_result"
    }
   ],
   "source": [
    "calls.dtypes"
   ]
  },
  {
   "cell_type": "code",
   "execution_count": 15,
   "metadata": {},
   "outputs": [
    {
     "data": {
      "text/html": [
       "<div>\n",
       "<style scoped>\n",
       "    .dataframe tbody tr th:only-of-type {\n",
       "        vertical-align: middle;\n",
       "    }\n",
       "\n",
       "    .dataframe tbody tr th {\n",
       "        vertical-align: top;\n",
       "    }\n",
       "\n",
       "    .dataframe thead th {\n",
       "        text-align: right;\n",
       "    }\n",
       "</style>\n",
       "<table border=\"1\" class=\"dataframe\">\n",
       "  <thead>\n",
       "    <tr style=\"text-align: right;\">\n",
       "      <th></th>\n",
       "      <th>id</th>\n",
       "      <th>call_date</th>\n",
       "      <th>duration</th>\n",
       "      <th>user_id</th>\n",
       "    </tr>\n",
       "  </thead>\n",
       "  <tbody>\n",
       "    <tr>\n",
       "      <td>0</td>\n",
       "      <td>10000</td>\n",
       "      <td>2018-07-25</td>\n",
       "      <td>0.00</td>\n",
       "      <td>1000</td>\n",
       "    </tr>\n",
       "    <tr>\n",
       "      <td>1</td>\n",
       "      <td>10001</td>\n",
       "      <td>2018-08-17</td>\n",
       "      <td>0.00</td>\n",
       "      <td>1000</td>\n",
       "    </tr>\n",
       "    <tr>\n",
       "      <td>2</td>\n",
       "      <td>10002</td>\n",
       "      <td>2018-06-11</td>\n",
       "      <td>2.85</td>\n",
       "      <td>1000</td>\n",
       "    </tr>\n",
       "    <tr>\n",
       "      <td>3</td>\n",
       "      <td>10003</td>\n",
       "      <td>2018-09-21</td>\n",
       "      <td>13.80</td>\n",
       "      <td>1000</td>\n",
       "    </tr>\n",
       "    <tr>\n",
       "      <td>4</td>\n",
       "      <td>10004</td>\n",
       "      <td>2018-12-15</td>\n",
       "      <td>5.18</td>\n",
       "      <td>1000</td>\n",
       "    </tr>\n",
       "    <tr>\n",
       "      <td>5</td>\n",
       "      <td>10005</td>\n",
       "      <td>2018-11-02</td>\n",
       "      <td>0.00</td>\n",
       "      <td>1000</td>\n",
       "    </tr>\n",
       "    <tr>\n",
       "      <td>6</td>\n",
       "      <td>10006</td>\n",
       "      <td>2018-10-18</td>\n",
       "      <td>0.00</td>\n",
       "      <td>1000</td>\n",
       "    </tr>\n",
       "    <tr>\n",
       "      <td>7</td>\n",
       "      <td>10007</td>\n",
       "      <td>2018-08-22</td>\n",
       "      <td>18.31</td>\n",
       "      <td>1000</td>\n",
       "    </tr>\n",
       "    <tr>\n",
       "      <td>8</td>\n",
       "      <td>10008</td>\n",
       "      <td>2018-09-15</td>\n",
       "      <td>18.44</td>\n",
       "      <td>1000</td>\n",
       "    </tr>\n",
       "    <tr>\n",
       "      <td>9</td>\n",
       "      <td>10009</td>\n",
       "      <td>2018-08-15</td>\n",
       "      <td>0.00</td>\n",
       "      <td>1000</td>\n",
       "    </tr>\n",
       "  </tbody>\n",
       "</table>\n",
       "</div>"
      ],
      "text/plain": [
       "      id  call_date  duration  user_id\n",
       "0  10000 2018-07-25      0.00     1000\n",
       "1  10001 2018-08-17      0.00     1000\n",
       "2  10002 2018-06-11      2.85     1000\n",
       "3  10003 2018-09-21     13.80     1000\n",
       "4  10004 2018-12-15      5.18     1000\n",
       "5  10005 2018-11-02      0.00     1000\n",
       "6  10006 2018-10-18      0.00     1000\n",
       "7  10007 2018-08-22     18.31     1000\n",
       "8  10008 2018-09-15     18.44     1000\n",
       "9  10009 2018-08-15      0.00     1000"
      ]
     },
     "execution_count": 15,
     "metadata": {},
     "output_type": "execute_result"
    }
   ],
   "source": [
    "calls.head(10)"
   ]
  },
  {
   "cell_type": "code",
   "execution_count": 16,
   "metadata": {},
   "outputs": [],
   "source": [
    "calls['duration'] = calls['duration'].apply(np.ceil)"
   ]
  },
  {
   "cell_type": "markdown",
   "metadata": {},
   "source": [
    "В таблице 'calls' изменен тип данных в столбце 'call_date' на datetime64 и в столбце 'id' на int64. Замечены нули(0.00) в столбце 'duration'. Оставим нулевые значения как есть. Заполнять или удалять, в данном случае - это исказить данные. Нулевые значения могли появиться, когда абонент делал звонок, но ему не ответили, сбросили звонок или абонент был не в сети. Так что это важная часть данных. 'duration' округлили в большую сторону, так как «Мегалайн» всегда округляет вверх значения минут и мегабайтов."
   ]
  },
  {
   "cell_type": "markdown",
   "metadata": {},
   "source": [
    "### Знакомство с таблицей \"internet\"."
   ]
  },
  {
   "cell_type": "markdown",
   "metadata": {},
   "source": [
    "id — уникальный номер сессии\n",
    "\n",
    "\n",
    "mb_used — объём потраченного за сессию интернет-трафика (в мегабайтах)\n",
    "\n",
    "\n",
    "session_date — дата интернет-сессии\n",
    "\n",
    "\n",
    "user_id — идентификатор пользователя"
   ]
  },
  {
   "cell_type": "code",
   "execution_count": 17,
   "metadata": {},
   "outputs": [
    {
     "name": "stdout",
     "output_type": "stream",
     "text": [
      "<class 'pandas.core.frame.DataFrame'>\n",
      "RangeIndex: 149396 entries, 0 to 149395\n",
      "Data columns (total 5 columns):\n",
      "Unnamed: 0      149396 non-null int64\n",
      "id              149396 non-null object\n",
      "mb_used         149396 non-null float64\n",
      "session_date    149396 non-null object\n",
      "user_id         149396 non-null int64\n",
      "dtypes: float64(1), int64(2), object(2)\n",
      "memory usage: 5.7+ MB\n"
     ]
    }
   ],
   "source": [
    "internet.info()"
   ]
  },
  {
   "cell_type": "code",
   "execution_count": 18,
   "metadata": {},
   "outputs": [
    {
     "data": {
      "text/plain": [
       "Unnamed: 0      0\n",
       "id              0\n",
       "mb_used         0\n",
       "session_date    0\n",
       "user_id         0\n",
       "dtype: int64"
      ]
     },
     "execution_count": 18,
     "metadata": {},
     "output_type": "execute_result"
    }
   ],
   "source": [
    "internet.isnull().sum()"
   ]
  },
  {
   "cell_type": "code",
   "execution_count": 19,
   "metadata": {},
   "outputs": [
    {
     "data": {
      "text/plain": [
       "0"
      ]
     },
     "execution_count": 19,
     "metadata": {},
     "output_type": "execute_result"
    }
   ],
   "source": [
    "internet.duplicated().sum()"
   ]
  },
  {
   "cell_type": "code",
   "execution_count": 20,
   "metadata": {},
   "outputs": [
    {
     "data": {
      "text/plain": [
       "(149396, 5)"
      ]
     },
     "execution_count": 20,
     "metadata": {},
     "output_type": "execute_result"
    }
   ],
   "source": [
    "internet.shape"
   ]
  },
  {
   "cell_type": "code",
   "execution_count": 21,
   "metadata": {},
   "outputs": [],
   "source": [
    "internet['session_date'] = pd.to_datetime(internet['session_date'], format='%Y-%m-%d')"
   ]
  },
  {
   "cell_type": "code",
   "execution_count": 22,
   "metadata": {},
   "outputs": [],
   "source": [
    "internet['id']=internet['id'].astype('int64')"
   ]
  },
  {
   "cell_type": "code",
   "execution_count": 23,
   "metadata": {},
   "outputs": [],
   "source": [
    "internet['mb_used'] = internet['mb_used'].apply(np.ceil)"
   ]
  },
  {
   "cell_type": "code",
   "execution_count": 24,
   "metadata": {},
   "outputs": [
    {
     "data": {
      "text/html": [
       "<div>\n",
       "<style scoped>\n",
       "    .dataframe tbody tr th:only-of-type {\n",
       "        vertical-align: middle;\n",
       "    }\n",
       "\n",
       "    .dataframe tbody tr th {\n",
       "        vertical-align: top;\n",
       "    }\n",
       "\n",
       "    .dataframe thead th {\n",
       "        text-align: right;\n",
       "    }\n",
       "</style>\n",
       "<table border=\"1\" class=\"dataframe\">\n",
       "  <thead>\n",
       "    <tr style=\"text-align: right;\">\n",
       "      <th></th>\n",
       "      <th>Unnamed: 0</th>\n",
       "      <th>id</th>\n",
       "      <th>mb_used</th>\n",
       "      <th>session_date</th>\n",
       "      <th>user_id</th>\n",
       "    </tr>\n",
       "  </thead>\n",
       "  <tbody>\n",
       "    <tr>\n",
       "      <td>0</td>\n",
       "      <td>0</td>\n",
       "      <td>10000</td>\n",
       "      <td>113.0</td>\n",
       "      <td>2018-11-25</td>\n",
       "      <td>1000</td>\n",
       "    </tr>\n",
       "    <tr>\n",
       "      <td>1</td>\n",
       "      <td>1</td>\n",
       "      <td>10001</td>\n",
       "      <td>1053.0</td>\n",
       "      <td>2018-09-07</td>\n",
       "      <td>1000</td>\n",
       "    </tr>\n",
       "    <tr>\n",
       "      <td>2</td>\n",
       "      <td>2</td>\n",
       "      <td>10002</td>\n",
       "      <td>1198.0</td>\n",
       "      <td>2018-06-25</td>\n",
       "      <td>1000</td>\n",
       "    </tr>\n",
       "    <tr>\n",
       "      <td>3</td>\n",
       "      <td>3</td>\n",
       "      <td>10003</td>\n",
       "      <td>551.0</td>\n",
       "      <td>2018-08-22</td>\n",
       "      <td>1000</td>\n",
       "    </tr>\n",
       "    <tr>\n",
       "      <td>4</td>\n",
       "      <td>4</td>\n",
       "      <td>10004</td>\n",
       "      <td>303.0</td>\n",
       "      <td>2018-09-24</td>\n",
       "      <td>1000</td>\n",
       "    </tr>\n",
       "    <tr>\n",
       "      <td>5</td>\n",
       "      <td>5</td>\n",
       "      <td>10005</td>\n",
       "      <td>400.0</td>\n",
       "      <td>2018-10-02</td>\n",
       "      <td>1000</td>\n",
       "    </tr>\n",
       "    <tr>\n",
       "      <td>6</td>\n",
       "      <td>6</td>\n",
       "      <td>10006</td>\n",
       "      <td>541.0</td>\n",
       "      <td>2018-09-07</td>\n",
       "      <td>1000</td>\n",
       "    </tr>\n",
       "    <tr>\n",
       "      <td>7</td>\n",
       "      <td>7</td>\n",
       "      <td>10007</td>\n",
       "      <td>416.0</td>\n",
       "      <td>2018-07-11</td>\n",
       "      <td>1000</td>\n",
       "    </tr>\n",
       "    <tr>\n",
       "      <td>8</td>\n",
       "      <td>8</td>\n",
       "      <td>10008</td>\n",
       "      <td>506.0</td>\n",
       "      <td>2018-10-08</td>\n",
       "      <td>1000</td>\n",
       "    </tr>\n",
       "    <tr>\n",
       "      <td>9</td>\n",
       "      <td>9</td>\n",
       "      <td>10009</td>\n",
       "      <td>346.0</td>\n",
       "      <td>2018-09-03</td>\n",
       "      <td>1000</td>\n",
       "    </tr>\n",
       "  </tbody>\n",
       "</table>\n",
       "</div>"
      ],
      "text/plain": [
       "   Unnamed: 0     id  mb_used session_date  user_id\n",
       "0           0  10000    113.0   2018-11-25     1000\n",
       "1           1  10001   1053.0   2018-09-07     1000\n",
       "2           2  10002   1198.0   2018-06-25     1000\n",
       "3           3  10003    551.0   2018-08-22     1000\n",
       "4           4  10004    303.0   2018-09-24     1000\n",
       "5           5  10005    400.0   2018-10-02     1000\n",
       "6           6  10006    541.0   2018-09-07     1000\n",
       "7           7  10007    416.0   2018-07-11     1000\n",
       "8           8  10008    506.0   2018-10-08     1000\n",
       "9           9  10009    346.0   2018-09-03     1000"
      ]
     },
     "execution_count": 24,
     "metadata": {},
     "output_type": "execute_result"
    }
   ],
   "source": [
    "internet.head(10)"
   ]
  },
  {
   "cell_type": "markdown",
   "metadata": {},
   "source": [
    "В таблице 'internet' изменен тип данных в столбце 'session_date' на datetime64 и в столбце 'id' на int64. 'mb_used' округлили в большую сторону, так как «Мегалайн» всегда округляет вверх значения минут и мегабайтов."
   ]
  },
  {
   "cell_type": "markdown",
   "metadata": {},
   "source": [
    "### Знакомство с таблицей \"messages\"."
   ]
  },
  {
   "cell_type": "markdown",
   "metadata": {},
   "source": [
    "id — уникальный номер сообщения\n",
    "\n",
    "\n",
    "message_date — дата сообщения\n",
    "\n",
    "\n",
    "user_id — идентификатор пользователя, отправившего сообщение"
   ]
  },
  {
   "cell_type": "code",
   "execution_count": 25,
   "metadata": {},
   "outputs": [
    {
     "name": "stdout",
     "output_type": "stream",
     "text": [
      "<class 'pandas.core.frame.DataFrame'>\n",
      "RangeIndex: 123036 entries, 0 to 123035\n",
      "Data columns (total 3 columns):\n",
      "id              123036 non-null object\n",
      "message_date    123036 non-null object\n",
      "user_id         123036 non-null int64\n",
      "dtypes: int64(1), object(2)\n",
      "memory usage: 2.8+ MB\n"
     ]
    }
   ],
   "source": [
    "messages.info()"
   ]
  },
  {
   "cell_type": "code",
   "execution_count": 26,
   "metadata": {},
   "outputs": [
    {
     "data": {
      "text/plain": [
       "id              0\n",
       "message_date    0\n",
       "user_id         0\n",
       "dtype: int64"
      ]
     },
     "execution_count": 26,
     "metadata": {},
     "output_type": "execute_result"
    }
   ],
   "source": [
    "messages.isnull().sum()"
   ]
  },
  {
   "cell_type": "code",
   "execution_count": 27,
   "metadata": {},
   "outputs": [
    {
     "data": {
      "text/plain": [
       "0"
      ]
     },
     "execution_count": 27,
     "metadata": {},
     "output_type": "execute_result"
    }
   ],
   "source": [
    "messages.duplicated().sum()"
   ]
  },
  {
   "cell_type": "code",
   "execution_count": 28,
   "metadata": {},
   "outputs": [
    {
     "data": {
      "text/plain": [
       "(123036, 3)"
      ]
     },
     "execution_count": 28,
     "metadata": {},
     "output_type": "execute_result"
    }
   ],
   "source": [
    "messages.shape"
   ]
  },
  {
   "cell_type": "code",
   "execution_count": 29,
   "metadata": {},
   "outputs": [],
   "source": [
    "messages['message_date'] = pd.to_datetime(messages['message_date'], format='%Y-%m-%d')"
   ]
  },
  {
   "cell_type": "code",
   "execution_count": 30,
   "metadata": {},
   "outputs": [],
   "source": [
    "messages['id'] = messages['id'].astype('int64')"
   ]
  },
  {
   "cell_type": "code",
   "execution_count": 31,
   "metadata": {},
   "outputs": [
    {
     "data": {
      "text/plain": [
       "id                       int64\n",
       "message_date    datetime64[ns]\n",
       "user_id                  int64\n",
       "dtype: object"
      ]
     },
     "execution_count": 31,
     "metadata": {},
     "output_type": "execute_result"
    }
   ],
   "source": [
    "messages.dtypes"
   ]
  },
  {
   "cell_type": "code",
   "execution_count": 32,
   "metadata": {},
   "outputs": [
    {
     "data": {
      "text/html": [
       "<div>\n",
       "<style scoped>\n",
       "    .dataframe tbody tr th:only-of-type {\n",
       "        vertical-align: middle;\n",
       "    }\n",
       "\n",
       "    .dataframe tbody tr th {\n",
       "        vertical-align: top;\n",
       "    }\n",
       "\n",
       "    .dataframe thead th {\n",
       "        text-align: right;\n",
       "    }\n",
       "</style>\n",
       "<table border=\"1\" class=\"dataframe\">\n",
       "  <thead>\n",
       "    <tr style=\"text-align: right;\">\n",
       "      <th></th>\n",
       "      <th>id</th>\n",
       "      <th>message_date</th>\n",
       "      <th>user_id</th>\n",
       "    </tr>\n",
       "  </thead>\n",
       "  <tbody>\n",
       "    <tr>\n",
       "      <td>0</td>\n",
       "      <td>10000</td>\n",
       "      <td>2018-06-27</td>\n",
       "      <td>1000</td>\n",
       "    </tr>\n",
       "    <tr>\n",
       "      <td>1</td>\n",
       "      <td>10001</td>\n",
       "      <td>2018-10-08</td>\n",
       "      <td>1000</td>\n",
       "    </tr>\n",
       "    <tr>\n",
       "      <td>2</td>\n",
       "      <td>10002</td>\n",
       "      <td>2018-08-04</td>\n",
       "      <td>1000</td>\n",
       "    </tr>\n",
       "    <tr>\n",
       "      <td>3</td>\n",
       "      <td>10003</td>\n",
       "      <td>2018-06-16</td>\n",
       "      <td>1000</td>\n",
       "    </tr>\n",
       "    <tr>\n",
       "      <td>4</td>\n",
       "      <td>10004</td>\n",
       "      <td>2018-12-05</td>\n",
       "      <td>1000</td>\n",
       "    </tr>\n",
       "    <tr>\n",
       "      <td>5</td>\n",
       "      <td>10005</td>\n",
       "      <td>2018-06-20</td>\n",
       "      <td>1000</td>\n",
       "    </tr>\n",
       "    <tr>\n",
       "      <td>6</td>\n",
       "      <td>10006</td>\n",
       "      <td>2018-11-19</td>\n",
       "      <td>1000</td>\n",
       "    </tr>\n",
       "    <tr>\n",
       "      <td>7</td>\n",
       "      <td>10007</td>\n",
       "      <td>2018-10-29</td>\n",
       "      <td>1000</td>\n",
       "    </tr>\n",
       "    <tr>\n",
       "      <td>8</td>\n",
       "      <td>10008</td>\n",
       "      <td>2018-06-25</td>\n",
       "      <td>1000</td>\n",
       "    </tr>\n",
       "    <tr>\n",
       "      <td>9</td>\n",
       "      <td>10009</td>\n",
       "      <td>2018-12-18</td>\n",
       "      <td>1000</td>\n",
       "    </tr>\n",
       "  </tbody>\n",
       "</table>\n",
       "</div>"
      ],
      "text/plain": [
       "      id message_date  user_id\n",
       "0  10000   2018-06-27     1000\n",
       "1  10001   2018-10-08     1000\n",
       "2  10002   2018-08-04     1000\n",
       "3  10003   2018-06-16     1000\n",
       "4  10004   2018-12-05     1000\n",
       "5  10005   2018-06-20     1000\n",
       "6  10006   2018-11-19     1000\n",
       "7  10007   2018-10-29     1000\n",
       "8  10008   2018-06-25     1000\n",
       "9  10009   2018-12-18     1000"
      ]
     },
     "execution_count": 32,
     "metadata": {},
     "output_type": "execute_result"
    }
   ],
   "source": [
    "messages.head(10)"
   ]
  },
  {
   "cell_type": "markdown",
   "metadata": {},
   "source": [
    "В таблице 'messages' изменен тип данных в столбце '\tmessage_date' на datetime64 и в столбце 'id' на int64. "
   ]
  },
  {
   "cell_type": "markdown",
   "metadata": {},
   "source": [
    "### Знакомство с таблицей \"tariffs\"."
   ]
  },
  {
   "cell_type": "markdown",
   "metadata": {},
   "source": [
    "tariff_name — название тарифа\n",
    "\n",
    "\n",
    "rub_monthly_fee — ежемесячная абонентская плата в рублях\n",
    "\n",
    "\n",
    "minutes_included — количество минут разговора в месяц, включённых в абонентскую плату\n",
    "\n",
    "\n",
    "messages_included — количество сообщений в месяц, включённых в абонентскую плату\n",
    "\n",
    "\n",
    "mb_per_month_included — объём интернет-трафика, включённого в абонентскую плату (в мегабайтах)\n",
    "\n",
    "\n",
    "rub_per_minute — стоимость минуты разговора сверх тарифного пакета (например, если в тарифе 100 минут разговора в месяц, то со 101 минуты будет взиматься плата)\n",
    "\n",
    "\n",
    "rub_per_message — стоимость отправки сообщения сверх тарифного пакета\n",
    "\n",
    "\n",
    "rub_per_gb — стоимость дополнительного гигабайта интернет-трафика сверх тарифного пакета (1 гигабайт = 1024 мегабайта)"
   ]
  },
  {
   "cell_type": "code",
   "execution_count": 33,
   "metadata": {},
   "outputs": [
    {
     "name": "stdout",
     "output_type": "stream",
     "text": [
      "<class 'pandas.core.frame.DataFrame'>\n",
      "RangeIndex: 2 entries, 0 to 1\n",
      "Data columns (total 8 columns):\n",
      "messages_included        2 non-null int64\n",
      "mb_per_month_included    2 non-null int64\n",
      "minutes_included         2 non-null int64\n",
      "rub_monthly_fee          2 non-null int64\n",
      "rub_per_gb               2 non-null int64\n",
      "rub_per_message          2 non-null int64\n",
      "rub_per_minute           2 non-null int64\n",
      "tariff_name              2 non-null object\n",
      "dtypes: int64(7), object(1)\n",
      "memory usage: 256.0+ bytes\n"
     ]
    }
   ],
   "source": [
    "tariffs.info()"
   ]
  },
  {
   "cell_type": "code",
   "execution_count": 34,
   "metadata": {},
   "outputs": [
    {
     "data": {
      "text/plain": [
       "messages_included        0\n",
       "mb_per_month_included    0\n",
       "minutes_included         0\n",
       "rub_monthly_fee          0\n",
       "rub_per_gb               0\n",
       "rub_per_message          0\n",
       "rub_per_minute           0\n",
       "tariff_name              0\n",
       "dtype: int64"
      ]
     },
     "execution_count": 34,
     "metadata": {},
     "output_type": "execute_result"
    }
   ],
   "source": [
    "tariffs.isnull().sum()"
   ]
  },
  {
   "cell_type": "code",
   "execution_count": 35,
   "metadata": {},
   "outputs": [
    {
     "data": {
      "text/plain": [
       "0"
      ]
     },
     "execution_count": 35,
     "metadata": {},
     "output_type": "execute_result"
    }
   ],
   "source": [
    "tariffs.duplicated().sum()"
   ]
  },
  {
   "cell_type": "code",
   "execution_count": 36,
   "metadata": {},
   "outputs": [
    {
     "data": {
      "text/plain": [
       "(2, 8)"
      ]
     },
     "execution_count": 36,
     "metadata": {},
     "output_type": "execute_result"
    }
   ],
   "source": [
    "tariffs.shape"
   ]
  },
  {
   "cell_type": "code",
   "execution_count": 37,
   "metadata": {},
   "outputs": [
    {
     "data": {
      "text/html": [
       "<div>\n",
       "<style scoped>\n",
       "    .dataframe tbody tr th:only-of-type {\n",
       "        vertical-align: middle;\n",
       "    }\n",
       "\n",
       "    .dataframe tbody tr th {\n",
       "        vertical-align: top;\n",
       "    }\n",
       "\n",
       "    .dataframe thead th {\n",
       "        text-align: right;\n",
       "    }\n",
       "</style>\n",
       "<table border=\"1\" class=\"dataframe\">\n",
       "  <thead>\n",
       "    <tr style=\"text-align: right;\">\n",
       "      <th></th>\n",
       "      <th>messages_included</th>\n",
       "      <th>mb_per_month_included</th>\n",
       "      <th>minutes_included</th>\n",
       "      <th>rub_monthly_fee</th>\n",
       "      <th>rub_per_gb</th>\n",
       "      <th>rub_per_message</th>\n",
       "      <th>rub_per_minute</th>\n",
       "      <th>tariff_name</th>\n",
       "    </tr>\n",
       "  </thead>\n",
       "  <tbody>\n",
       "    <tr>\n",
       "      <td>0</td>\n",
       "      <td>50</td>\n",
       "      <td>15360</td>\n",
       "      <td>500</td>\n",
       "      <td>550</td>\n",
       "      <td>200</td>\n",
       "      <td>3</td>\n",
       "      <td>3</td>\n",
       "      <td>smart</td>\n",
       "    </tr>\n",
       "    <tr>\n",
       "      <td>1</td>\n",
       "      <td>1000</td>\n",
       "      <td>30720</td>\n",
       "      <td>3000</td>\n",
       "      <td>1950</td>\n",
       "      <td>150</td>\n",
       "      <td>1</td>\n",
       "      <td>1</td>\n",
       "      <td>ultra</td>\n",
       "    </tr>\n",
       "  </tbody>\n",
       "</table>\n",
       "</div>"
      ],
      "text/plain": [
       "   messages_included  mb_per_month_included  minutes_included  \\\n",
       "0                 50                  15360               500   \n",
       "1               1000                  30720              3000   \n",
       "\n",
       "   rub_monthly_fee  rub_per_gb  rub_per_message  rub_per_minute tariff_name  \n",
       "0              550         200                3               3       smart  \n",
       "1             1950         150                1               1       ultra  "
      ]
     },
     "execution_count": 37,
     "metadata": {},
     "output_type": "execute_result"
    }
   ],
   "source": [
    "tariffs.head(10)"
   ]
  },
  {
   "cell_type": "markdown",
   "metadata": {},
   "source": [
    "В таблице tariffs предобработка не требуется "
   ]
  },
  {
   "cell_type": "markdown",
   "metadata": {},
   "source": [
    "### Знакомство с таблицей \"users\"."
   ]
  },
  {
   "cell_type": "markdown",
   "metadata": {},
   "source": [
    "user_id — уникальный идентификатор пользователя\n",
    "\n",
    "\n",
    "first_name — имя пользователя\n",
    "\n",
    "\n",
    "last_name — фамилия пользователя\n",
    "\n",
    "\n",
    "age — возраст пользователя (годы)\n",
    "\n",
    "\n",
    "reg_date — дата подключения тарифа (день, месяц, год)\n",
    "\n",
    "\n",
    "churn_date — дата прекращения пользования тарифом (если значение пропущено, то тариф ещё действовал на момент выгрузки данных)"
   ]
  },
  {
   "cell_type": "code",
   "execution_count": 38,
   "metadata": {},
   "outputs": [
    {
     "name": "stdout",
     "output_type": "stream",
     "text": [
      "<class 'pandas.core.frame.DataFrame'>\n",
      "RangeIndex: 500 entries, 0 to 499\n",
      "Data columns (total 8 columns):\n",
      "user_id       500 non-null int64\n",
      "age           500 non-null int64\n",
      "churn_date    38 non-null object\n",
      "city          500 non-null object\n",
      "first_name    500 non-null object\n",
      "last_name     500 non-null object\n",
      "reg_date      500 non-null object\n",
      "tariff        500 non-null object\n",
      "dtypes: int64(2), object(6)\n",
      "memory usage: 31.4+ KB\n"
     ]
    }
   ],
   "source": [
    "users.info()"
   ]
  },
  {
   "cell_type": "code",
   "execution_count": 39,
   "metadata": {},
   "outputs": [
    {
     "data": {
      "text/plain": [
       "user_id         0\n",
       "age             0\n",
       "churn_date    462\n",
       "city            0\n",
       "first_name      0\n",
       "last_name       0\n",
       "reg_date        0\n",
       "tariff          0\n",
       "dtype: int64"
      ]
     },
     "execution_count": 39,
     "metadata": {},
     "output_type": "execute_result"
    }
   ],
   "source": [
    "users.isnull().sum()"
   ]
  },
  {
   "cell_type": "code",
   "execution_count": 40,
   "metadata": {},
   "outputs": [
    {
     "data": {
      "text/plain": [
       "0"
      ]
     },
     "execution_count": 40,
     "metadata": {},
     "output_type": "execute_result"
    }
   ],
   "source": [
    "users.duplicated().sum()"
   ]
  },
  {
   "cell_type": "code",
   "execution_count": 41,
   "metadata": {},
   "outputs": [
    {
     "data": {
      "text/plain": [
       "(500, 8)"
      ]
     },
     "execution_count": 41,
     "metadata": {},
     "output_type": "execute_result"
    }
   ],
   "source": [
    "users.shape"
   ]
  },
  {
   "cell_type": "markdown",
   "metadata": {},
   "source": [
    "В столбце 'churn_date' есть пропущенные значения. Оставим их, как они есть, ведь это означает, что тариф еще используется и договор с оператором действителен. "
   ]
  },
  {
   "cell_type": "markdown",
   "metadata": {},
   "source": [
    "### Ознакомились с таблицами\n",
    "\n",
    "Все таблицы открыты и изучены. Методомами isnull().sum()найденны и изучены пропуски, методомами duplicated().sum()дубликаты по таблицам. Нигде, кроме таблицы users не было обнаружено пропусков или дубликатов. Но и в той таблице пропуски не мешают анализу и их решено оставить как есть. "
   ]
  },
  {
   "cell_type": "markdown",
   "metadata": {},
   "source": [
    "# Анализ пользователей "
   ]
  },
  {
   "cell_type": "markdown",
   "metadata": {},
   "source": [
    "### Подсчет количества сделанных звонков и израсходованных минут разговора по месяцам для каждого пользователя"
   ]
  },
  {
   "cell_type": "code",
   "execution_count": 42,
   "metadata": {},
   "outputs": [],
   "source": [
    "calls['date_month'] = pd.DatetimeIndex(calls['call_date']).month"
   ]
  },
  {
   "cell_type": "code",
   "execution_count": 43,
   "metadata": {},
   "outputs": [],
   "source": [
    "user_calls = calls.groupby(['user_id', 'date_month'])['duration'].agg(['count', 'sum'])"
   ]
  },
  {
   "cell_type": "code",
   "execution_count": 44,
   "metadata": {},
   "outputs": [
    {
     "data": {
      "text/html": [
       "<div>\n",
       "<style scoped>\n",
       "    .dataframe tbody tr th:only-of-type {\n",
       "        vertical-align: middle;\n",
       "    }\n",
       "\n",
       "    .dataframe tbody tr th {\n",
       "        vertical-align: top;\n",
       "    }\n",
       "\n",
       "    .dataframe thead th {\n",
       "        text-align: right;\n",
       "    }\n",
       "</style>\n",
       "<table border=\"1\" class=\"dataframe\">\n",
       "  <thead>\n",
       "    <tr style=\"text-align: right;\">\n",
       "      <th></th>\n",
       "      <th></th>\n",
       "      <th>count</th>\n",
       "      <th>sum</th>\n",
       "    </tr>\n",
       "    <tr>\n",
       "      <th>user_id</th>\n",
       "      <th>date_month</th>\n",
       "      <th></th>\n",
       "      <th></th>\n",
       "    </tr>\n",
       "  </thead>\n",
       "  <tbody>\n",
       "    <tr>\n",
       "      <td rowspan=\"8\" valign=\"top\">1000</td>\n",
       "      <td>5</td>\n",
       "      <td>22</td>\n",
       "      <td>159.0</td>\n",
       "    </tr>\n",
       "    <tr>\n",
       "      <td>6</td>\n",
       "      <td>43</td>\n",
       "      <td>172.0</td>\n",
       "    </tr>\n",
       "    <tr>\n",
       "      <td>7</td>\n",
       "      <td>47</td>\n",
       "      <td>340.0</td>\n",
       "    </tr>\n",
       "    <tr>\n",
       "      <td>8</td>\n",
       "      <td>52</td>\n",
       "      <td>408.0</td>\n",
       "    </tr>\n",
       "    <tr>\n",
       "      <td>9</td>\n",
       "      <td>58</td>\n",
       "      <td>466.0</td>\n",
       "    </tr>\n",
       "    <tr>\n",
       "      <td>10</td>\n",
       "      <td>57</td>\n",
       "      <td>350.0</td>\n",
       "    </tr>\n",
       "    <tr>\n",
       "      <td>11</td>\n",
       "      <td>43</td>\n",
       "      <td>338.0</td>\n",
       "    </tr>\n",
       "    <tr>\n",
       "      <td>12</td>\n",
       "      <td>46</td>\n",
       "      <td>333.0</td>\n",
       "    </tr>\n",
       "    <tr>\n",
       "      <td rowspan=\"2\" valign=\"top\">1001</td>\n",
       "      <td>11</td>\n",
       "      <td>59</td>\n",
       "      <td>430.0</td>\n",
       "    </tr>\n",
       "    <tr>\n",
       "      <td>12</td>\n",
       "      <td>63</td>\n",
       "      <td>414.0</td>\n",
       "    </tr>\n",
       "    <tr>\n",
       "      <td rowspan=\"7\" valign=\"top\">1002</td>\n",
       "      <td>6</td>\n",
       "      <td>15</td>\n",
       "      <td>117.0</td>\n",
       "    </tr>\n",
       "    <tr>\n",
       "      <td>7</td>\n",
       "      <td>26</td>\n",
       "      <td>214.0</td>\n",
       "    </tr>\n",
       "    <tr>\n",
       "      <td>8</td>\n",
       "      <td>42</td>\n",
       "      <td>289.0</td>\n",
       "    </tr>\n",
       "    <tr>\n",
       "      <td>9</td>\n",
       "      <td>36</td>\n",
       "      <td>206.0</td>\n",
       "    </tr>\n",
       "    <tr>\n",
       "      <td>10</td>\n",
       "      <td>33</td>\n",
       "      <td>212.0</td>\n",
       "    </tr>\n",
       "    <tr>\n",
       "      <td>11</td>\n",
       "      <td>32</td>\n",
       "      <td>243.0</td>\n",
       "    </tr>\n",
       "    <tr>\n",
       "      <td>12</td>\n",
       "      <td>33</td>\n",
       "      <td>236.0</td>\n",
       "    </tr>\n",
       "    <tr>\n",
       "      <td rowspan=\"3\" valign=\"top\">1003</td>\n",
       "      <td>8</td>\n",
       "      <td>55</td>\n",
       "      <td>380.0</td>\n",
       "    </tr>\n",
       "    <tr>\n",
       "      <td>9</td>\n",
       "      <td>134</td>\n",
       "      <td>961.0</td>\n",
       "    </tr>\n",
       "    <tr>\n",
       "      <td>10</td>\n",
       "      <td>108</td>\n",
       "      <td>855.0</td>\n",
       "    </tr>\n",
       "  </tbody>\n",
       "</table>\n",
       "</div>"
      ],
      "text/plain": [
       "                    count    sum\n",
       "user_id date_month              \n",
       "1000    5              22  159.0\n",
       "        6              43  172.0\n",
       "        7              47  340.0\n",
       "        8              52  408.0\n",
       "        9              58  466.0\n",
       "        10             57  350.0\n",
       "        11             43  338.0\n",
       "        12             46  333.0\n",
       "1001    11             59  430.0\n",
       "        12             63  414.0\n",
       "1002    6              15  117.0\n",
       "        7              26  214.0\n",
       "        8              42  289.0\n",
       "        9              36  206.0\n",
       "        10             33  212.0\n",
       "        11             32  243.0\n",
       "        12             33  236.0\n",
       "1003    8              55  380.0\n",
       "        9             134  961.0\n",
       "        10            108  855.0"
      ]
     },
     "execution_count": 44,
     "metadata": {},
     "output_type": "execute_result"
    }
   ],
   "source": [
    "user_calls.head(20)"
   ]
  },
  {
   "cell_type": "markdown",
   "metadata": {},
   "source": [
    "### Количество отправленных сообщений по месяцам"
   ]
  },
  {
   "cell_type": "code",
   "execution_count": 45,
   "metadata": {},
   "outputs": [],
   "source": [
    "messages['date_month'] = pd.DatetimeIndex(messages['message_date']).month"
   ]
  },
  {
   "cell_type": "code",
   "execution_count": 46,
   "metadata": {},
   "outputs": [
    {
     "data": {
      "text/plain": [
       "user_id  date_month\n",
       "1000     5             22\n",
       "         6             60\n",
       "         7             75\n",
       "         8             81\n",
       "         9             57\n",
       "         10            73\n",
       "         11            58\n",
       "         12            70\n",
       "1002     6              4\n",
       "         7             11\n",
       "         8             13\n",
       "         9              4\n",
       "         10            10\n",
       "         11            16\n",
       "         12            12\n",
       "1003     8             37\n",
       "         9             91\n",
       "         10            83\n",
       "         11            94\n",
       "         12            75\n",
       "Name: id, dtype: int64"
      ]
     },
     "execution_count": 46,
     "metadata": {},
     "output_type": "execute_result"
    }
   ],
   "source": [
    "user_messages = messages.groupby(['user_id', 'date_month'])['id'].count()\n",
    "user_messages.head(20)"
   ]
  },
  {
   "cell_type": "markdown",
   "metadata": {},
   "source": [
    "### Объем израсходованного интернет-трафика по месяцам для каждого абомнента "
   ]
  },
  {
   "cell_type": "code",
   "execution_count": 47,
   "metadata": {},
   "outputs": [],
   "source": [
    "internet['date_month'] = pd.DatetimeIndex(internet['session_date']).month"
   ]
  },
  {
   "cell_type": "code",
   "execution_count": 48,
   "metadata": {},
   "outputs": [],
   "source": [
    "user_internet = internet.groupby(['user_id', 'date_month', ]).sum()['mb_used']"
   ]
  },
  {
   "cell_type": "code",
   "execution_count": 49,
   "metadata": {},
   "outputs": [
    {
     "data": {
      "text/plain": [
       "user_id  date_month\n",
       "1000     5              2256.0\n",
       "         6             23257.0\n",
       "         7             14016.0\n",
       "         8             14070.0\n",
       "         9             14581.0\n",
       "         10            14717.0\n",
       "         11            14768.0\n",
       "         12             9827.0\n",
       "1001     11            18452.0\n",
       "         12            14053.0\n",
       "1002     6             10871.0\n",
       "         7             17601.0\n",
       "         8             20347.0\n",
       "         9             16712.0\n",
       "         10            13905.0\n",
       "         11            18610.0\n",
       "         12            18137.0\n",
       "1003     8              8571.0\n",
       "         9             12479.0\n",
       "         10            14779.0\n",
       "Name: mb_used, dtype: float64"
      ]
     },
     "execution_count": 49,
     "metadata": {},
     "output_type": "execute_result"
    }
   ],
   "source": [
    "user_internet.head(20)"
   ]
  },
  {
   "cell_type": "markdown",
   "metadata": {},
   "source": [
    "Объединим все в одну таблицу для наглядности методом concat()"
   ]
  },
  {
   "cell_type": "code",
   "execution_count": 50,
   "metadata": {},
   "outputs": [],
   "source": [
    "megaline_500 = pd.concat([user_calls, user_messages, user_internet], axis=1)\n",
    "megaline_500 = megaline_500.reset_index()\n"
   ]
  },
  {
   "cell_type": "code",
   "execution_count": 51,
   "metadata": {},
   "outputs": [
    {
     "data": {
      "text/html": [
       "<div>\n",
       "<style scoped>\n",
       "    .dataframe tbody tr th:only-of-type {\n",
       "        vertical-align: middle;\n",
       "    }\n",
       "\n",
       "    .dataframe tbody tr th {\n",
       "        vertical-align: top;\n",
       "    }\n",
       "\n",
       "    .dataframe thead th {\n",
       "        text-align: right;\n",
       "    }\n",
       "</style>\n",
       "<table border=\"1\" class=\"dataframe\">\n",
       "  <thead>\n",
       "    <tr style=\"text-align: right;\">\n",
       "      <th></th>\n",
       "      <th>user_id</th>\n",
       "      <th>date_month</th>\n",
       "      <th>count</th>\n",
       "      <th>sum</th>\n",
       "      <th>id</th>\n",
       "      <th>mb_used</th>\n",
       "    </tr>\n",
       "  </thead>\n",
       "  <tbody>\n",
       "    <tr>\n",
       "      <td>0</td>\n",
       "      <td>1000</td>\n",
       "      <td>5</td>\n",
       "      <td>22.0</td>\n",
       "      <td>159.0</td>\n",
       "      <td>22.0</td>\n",
       "      <td>2256.0</td>\n",
       "    </tr>\n",
       "    <tr>\n",
       "      <td>1</td>\n",
       "      <td>1000</td>\n",
       "      <td>6</td>\n",
       "      <td>43.0</td>\n",
       "      <td>172.0</td>\n",
       "      <td>60.0</td>\n",
       "      <td>23257.0</td>\n",
       "    </tr>\n",
       "    <tr>\n",
       "      <td>2</td>\n",
       "      <td>1000</td>\n",
       "      <td>7</td>\n",
       "      <td>47.0</td>\n",
       "      <td>340.0</td>\n",
       "      <td>75.0</td>\n",
       "      <td>14016.0</td>\n",
       "    </tr>\n",
       "    <tr>\n",
       "      <td>3</td>\n",
       "      <td>1000</td>\n",
       "      <td>8</td>\n",
       "      <td>52.0</td>\n",
       "      <td>408.0</td>\n",
       "      <td>81.0</td>\n",
       "      <td>14070.0</td>\n",
       "    </tr>\n",
       "    <tr>\n",
       "      <td>4</td>\n",
       "      <td>1000</td>\n",
       "      <td>9</td>\n",
       "      <td>58.0</td>\n",
       "      <td>466.0</td>\n",
       "      <td>57.0</td>\n",
       "      <td>14581.0</td>\n",
       "    </tr>\n",
       "    <tr>\n",
       "      <td>5</td>\n",
       "      <td>1000</td>\n",
       "      <td>10</td>\n",
       "      <td>57.0</td>\n",
       "      <td>350.0</td>\n",
       "      <td>73.0</td>\n",
       "      <td>14717.0</td>\n",
       "    </tr>\n",
       "    <tr>\n",
       "      <td>6</td>\n",
       "      <td>1000</td>\n",
       "      <td>11</td>\n",
       "      <td>43.0</td>\n",
       "      <td>338.0</td>\n",
       "      <td>58.0</td>\n",
       "      <td>14768.0</td>\n",
       "    </tr>\n",
       "    <tr>\n",
       "      <td>7</td>\n",
       "      <td>1000</td>\n",
       "      <td>12</td>\n",
       "      <td>46.0</td>\n",
       "      <td>333.0</td>\n",
       "      <td>70.0</td>\n",
       "      <td>9827.0</td>\n",
       "    </tr>\n",
       "    <tr>\n",
       "      <td>8</td>\n",
       "      <td>1001</td>\n",
       "      <td>11</td>\n",
       "      <td>59.0</td>\n",
       "      <td>430.0</td>\n",
       "      <td>NaN</td>\n",
       "      <td>18452.0</td>\n",
       "    </tr>\n",
       "    <tr>\n",
       "      <td>9</td>\n",
       "      <td>1001</td>\n",
       "      <td>12</td>\n",
       "      <td>63.0</td>\n",
       "      <td>414.0</td>\n",
       "      <td>NaN</td>\n",
       "      <td>14053.0</td>\n",
       "    </tr>\n",
       "  </tbody>\n",
       "</table>\n",
       "</div>"
      ],
      "text/plain": [
       "   user_id  date_month  count    sum    id  mb_used\n",
       "0     1000           5   22.0  159.0  22.0   2256.0\n",
       "1     1000           6   43.0  172.0  60.0  23257.0\n",
       "2     1000           7   47.0  340.0  75.0  14016.0\n",
       "3     1000           8   52.0  408.0  81.0  14070.0\n",
       "4     1000           9   58.0  466.0  57.0  14581.0\n",
       "5     1000          10   57.0  350.0  73.0  14717.0\n",
       "6     1000          11   43.0  338.0  58.0  14768.0\n",
       "7     1000          12   46.0  333.0  70.0   9827.0\n",
       "8     1001          11   59.0  430.0   NaN  18452.0\n",
       "9     1001          12   63.0  414.0   NaN  14053.0"
      ]
     },
     "execution_count": 51,
     "metadata": {},
     "output_type": "execute_result"
    }
   ],
   "source": [
    "megaline_500.head(10)"
   ]
  },
  {
   "cell_type": "markdown",
   "metadata": {},
   "source": [
    "Так же нам нужны данные по пользователям из таблицы users. В новой таблице megaline_all мы соберем вместе все необхожиммые нам данные с помощью метода merge()"
   ]
  },
  {
   "cell_type": "code",
   "execution_count": 52,
   "metadata": {},
   "outputs": [],
   "source": [
    "megaline_all = pd.merge(megaline_500, users.loc[:, ['tariff', 'city', 'age', 'reg_date', 'user_id']], on='user_id')"
   ]
  },
  {
   "cell_type": "code",
   "execution_count": 53,
   "metadata": {},
   "outputs": [
    {
     "data": {
      "text/html": [
       "<div>\n",
       "<style scoped>\n",
       "    .dataframe tbody tr th:only-of-type {\n",
       "        vertical-align: middle;\n",
       "    }\n",
       "\n",
       "    .dataframe tbody tr th {\n",
       "        vertical-align: top;\n",
       "    }\n",
       "\n",
       "    .dataframe thead th {\n",
       "        text-align: right;\n",
       "    }\n",
       "</style>\n",
       "<table border=\"1\" class=\"dataframe\">\n",
       "  <thead>\n",
       "    <tr style=\"text-align: right;\">\n",
       "      <th></th>\n",
       "      <th>user_id</th>\n",
       "      <th>date_month</th>\n",
       "      <th>count</th>\n",
       "      <th>sum</th>\n",
       "      <th>id</th>\n",
       "      <th>mb_used</th>\n",
       "      <th>tariff</th>\n",
       "      <th>city</th>\n",
       "      <th>age</th>\n",
       "      <th>reg_date</th>\n",
       "    </tr>\n",
       "  </thead>\n",
       "  <tbody>\n",
       "    <tr>\n",
       "      <td>0</td>\n",
       "      <td>1000</td>\n",
       "      <td>5</td>\n",
       "      <td>22.0</td>\n",
       "      <td>159.0</td>\n",
       "      <td>22.0</td>\n",
       "      <td>2256.0</td>\n",
       "      <td>ultra</td>\n",
       "      <td>Краснодар</td>\n",
       "      <td>52</td>\n",
       "      <td>2018-05-25</td>\n",
       "    </tr>\n",
       "    <tr>\n",
       "      <td>1</td>\n",
       "      <td>1000</td>\n",
       "      <td>6</td>\n",
       "      <td>43.0</td>\n",
       "      <td>172.0</td>\n",
       "      <td>60.0</td>\n",
       "      <td>23257.0</td>\n",
       "      <td>ultra</td>\n",
       "      <td>Краснодар</td>\n",
       "      <td>52</td>\n",
       "      <td>2018-05-25</td>\n",
       "    </tr>\n",
       "    <tr>\n",
       "      <td>2</td>\n",
       "      <td>1000</td>\n",
       "      <td>7</td>\n",
       "      <td>47.0</td>\n",
       "      <td>340.0</td>\n",
       "      <td>75.0</td>\n",
       "      <td>14016.0</td>\n",
       "      <td>ultra</td>\n",
       "      <td>Краснодар</td>\n",
       "      <td>52</td>\n",
       "      <td>2018-05-25</td>\n",
       "    </tr>\n",
       "    <tr>\n",
       "      <td>3</td>\n",
       "      <td>1000</td>\n",
       "      <td>8</td>\n",
       "      <td>52.0</td>\n",
       "      <td>408.0</td>\n",
       "      <td>81.0</td>\n",
       "      <td>14070.0</td>\n",
       "      <td>ultra</td>\n",
       "      <td>Краснодар</td>\n",
       "      <td>52</td>\n",
       "      <td>2018-05-25</td>\n",
       "    </tr>\n",
       "    <tr>\n",
       "      <td>4</td>\n",
       "      <td>1000</td>\n",
       "      <td>9</td>\n",
       "      <td>58.0</td>\n",
       "      <td>466.0</td>\n",
       "      <td>57.0</td>\n",
       "      <td>14581.0</td>\n",
       "      <td>ultra</td>\n",
       "      <td>Краснодар</td>\n",
       "      <td>52</td>\n",
       "      <td>2018-05-25</td>\n",
       "    </tr>\n",
       "    <tr>\n",
       "      <td>5</td>\n",
       "      <td>1000</td>\n",
       "      <td>10</td>\n",
       "      <td>57.0</td>\n",
       "      <td>350.0</td>\n",
       "      <td>73.0</td>\n",
       "      <td>14717.0</td>\n",
       "      <td>ultra</td>\n",
       "      <td>Краснодар</td>\n",
       "      <td>52</td>\n",
       "      <td>2018-05-25</td>\n",
       "    </tr>\n",
       "    <tr>\n",
       "      <td>6</td>\n",
       "      <td>1000</td>\n",
       "      <td>11</td>\n",
       "      <td>43.0</td>\n",
       "      <td>338.0</td>\n",
       "      <td>58.0</td>\n",
       "      <td>14768.0</td>\n",
       "      <td>ultra</td>\n",
       "      <td>Краснодар</td>\n",
       "      <td>52</td>\n",
       "      <td>2018-05-25</td>\n",
       "    </tr>\n",
       "    <tr>\n",
       "      <td>7</td>\n",
       "      <td>1000</td>\n",
       "      <td>12</td>\n",
       "      <td>46.0</td>\n",
       "      <td>333.0</td>\n",
       "      <td>70.0</td>\n",
       "      <td>9827.0</td>\n",
       "      <td>ultra</td>\n",
       "      <td>Краснодар</td>\n",
       "      <td>52</td>\n",
       "      <td>2018-05-25</td>\n",
       "    </tr>\n",
       "    <tr>\n",
       "      <td>8</td>\n",
       "      <td>1001</td>\n",
       "      <td>11</td>\n",
       "      <td>59.0</td>\n",
       "      <td>430.0</td>\n",
       "      <td>NaN</td>\n",
       "      <td>18452.0</td>\n",
       "      <td>smart</td>\n",
       "      <td>Москва</td>\n",
       "      <td>41</td>\n",
       "      <td>2018-11-01</td>\n",
       "    </tr>\n",
       "    <tr>\n",
       "      <td>9</td>\n",
       "      <td>1001</td>\n",
       "      <td>12</td>\n",
       "      <td>63.0</td>\n",
       "      <td>414.0</td>\n",
       "      <td>NaN</td>\n",
       "      <td>14053.0</td>\n",
       "      <td>smart</td>\n",
       "      <td>Москва</td>\n",
       "      <td>41</td>\n",
       "      <td>2018-11-01</td>\n",
       "    </tr>\n",
       "  </tbody>\n",
       "</table>\n",
       "</div>"
      ],
      "text/plain": [
       "   user_id  date_month  count    sum    id  mb_used tariff       city  age  \\\n",
       "0     1000           5   22.0  159.0  22.0   2256.0  ultra  Краснодар   52   \n",
       "1     1000           6   43.0  172.0  60.0  23257.0  ultra  Краснодар   52   \n",
       "2     1000           7   47.0  340.0  75.0  14016.0  ultra  Краснодар   52   \n",
       "3     1000           8   52.0  408.0  81.0  14070.0  ultra  Краснодар   52   \n",
       "4     1000           9   58.0  466.0  57.0  14581.0  ultra  Краснодар   52   \n",
       "5     1000          10   57.0  350.0  73.0  14717.0  ultra  Краснодар   52   \n",
       "6     1000          11   43.0  338.0  58.0  14768.0  ultra  Краснодар   52   \n",
       "7     1000          12   46.0  333.0  70.0   9827.0  ultra  Краснодар   52   \n",
       "8     1001          11   59.0  430.0   NaN  18452.0  smart     Москва   41   \n",
       "9     1001          12   63.0  414.0   NaN  14053.0  smart     Москва   41   \n",
       "\n",
       "     reg_date  \n",
       "0  2018-05-25  \n",
       "1  2018-05-25  \n",
       "2  2018-05-25  \n",
       "3  2018-05-25  \n",
       "4  2018-05-25  \n",
       "5  2018-05-25  \n",
       "6  2018-05-25  \n",
       "7  2018-05-25  \n",
       "8  2018-11-01  \n",
       "9  2018-11-01  "
      ]
     },
     "execution_count": 53,
     "metadata": {},
     "output_type": "execute_result"
    }
   ],
   "source": [
    "megaline_all.head(10)"
   ]
  },
  {
   "cell_type": "markdown",
   "metadata": {},
   "source": [
    "Общая таблица megaline_all:\n",
    "\n",
    "\n",
    "user_id - уникальный идентификатор пользователя\n",
    "\n",
    "\n",
    "date_month - месяц в году\n",
    "\n",
    "\n",
    "count\t- кол-во звонков в месяце\n",
    "\n",
    "\n",
    "sum - сумма минут в месяце\n",
    "\n",
    "\n",
    "id - кол-во смс в месяце\n",
    "\n",
    "\n",
    "mb_used\t - кол-во мб в месце\n",
    "\n",
    "\n",
    "tariff - тариф, используемый абонентом\n",
    "\n",
    "\n",
    "city - город абонента\n",
    "\n",
    "\n",
    "age - возраст абонента\n",
    "\n",
    "\n",
    "reg_date - дата заключение договора\n",
    "\n"
   ]
  },
  {
   "cell_type": "code",
   "execution_count": 54,
   "metadata": {},
   "outputs": [],
   "source": [
    "def user_internet_1(raw):\n",
    "    if raw['tariff'] == 'smart':\n",
    "        if raw['id']/1024 - 15 > 0:\n",
    "            return (raw['id']/1024 - 15)*200\n",
    "        return 0\n",
    "    else:\n",
    "        if raw['id']/1024 - 30 > 0:\n",
    "            return (raw['id']/1024 - 30)*150\n",
    "        return 0"
   ]
  },
  {
   "cell_type": "code",
   "execution_count": 55,
   "metadata": {},
   "outputs": [],
   "source": [
    "def user_calls_1(raw):\n",
    "    if raw['tariff'] == 'smart':\n",
    "        if raw['sum'] - 500 > 0:\n",
    "            return (raw['sum'] - 500)*3\n",
    "        return 0\n",
    "    else:\n",
    "        if raw['sum'] - 3000 > 0:\n",
    "            return (raw['sum'] - 3000) + (raw['sum'] - 3000)\n",
    "        return 0"
   ]
  },
  {
   "cell_type": "code",
   "execution_count": 56,
   "metadata": {},
   "outputs": [],
   "source": [
    "def user_messages_1(raw):\n",
    "    if raw['tariff'] == 'smart':\n",
    "        if raw['id'] - 50 > 0:\n",
    "            return (raw['id'] - 50)*3\n",
    "        return 0\n",
    "    else:\n",
    "        if raw['id'] - 1000 > 0:\n",
    "            return (raw['id'] - 1000) + (raw['sum'] - 1000)\n",
    "        return 0"
   ]
  },
  {
   "cell_type": "code",
   "execution_count": 57,
   "metadata": {},
   "outputs": [],
   "source": [
    "def tarif_pay_f(raw):\n",
    "    if raw['tariff'] == 'smart':\n",
    "        return 550\n",
    "    return 1950"
   ]
  },
  {
   "cell_type": "code",
   "execution_count": 58,
   "metadata": {},
   "outputs": [],
   "source": [
    "megaline_all['mb_up_rub'] = megaline_all.apply(user_internet_1, axis =1)\n",
    "megaline_all['min_up_rub'] = megaline_all.apply(user_calls_1, axis =1)\n",
    "megaline_all['mes_up_rub'] = megaline_all.apply(user_messages_1, axis =1)\n",
    "megaline_all['tarif_pay'] = megaline_all.apply(tarif_pay_f, axis =1)\n",
    "megaline_all['all_month_money'] = (megaline_all['mb_up_rub'] + \n",
    "                                   megaline_all['min_up_rub'] +\n",
    "                                   megaline_all['mes_up_rub'] +\n",
    "                                   megaline_all['tarif_pay']\n",
    "                                  )"
   ]
  },
  {
   "cell_type": "code",
   "execution_count": 59,
   "metadata": {},
   "outputs": [
    {
     "data": {
      "text/html": [
       "<div>\n",
       "<style scoped>\n",
       "    .dataframe tbody tr th:only-of-type {\n",
       "        vertical-align: middle;\n",
       "    }\n",
       "\n",
       "    .dataframe tbody tr th {\n",
       "        vertical-align: top;\n",
       "    }\n",
       "\n",
       "    .dataframe thead th {\n",
       "        text-align: right;\n",
       "    }\n",
       "</style>\n",
       "<table border=\"1\" class=\"dataframe\">\n",
       "  <thead>\n",
       "    <tr style=\"text-align: right;\">\n",
       "      <th></th>\n",
       "      <th>user_id</th>\n",
       "      <th>date_month</th>\n",
       "      <th>count</th>\n",
       "      <th>sum</th>\n",
       "      <th>id</th>\n",
       "      <th>mb_used</th>\n",
       "      <th>tariff</th>\n",
       "      <th>city</th>\n",
       "      <th>age</th>\n",
       "      <th>reg_date</th>\n",
       "      <th>mb_up_rub</th>\n",
       "      <th>min_up_rub</th>\n",
       "      <th>mes_up_rub</th>\n",
       "      <th>tarif_pay</th>\n",
       "      <th>all_month_money</th>\n",
       "    </tr>\n",
       "  </thead>\n",
       "  <tbody>\n",
       "    <tr>\n",
       "      <td>0</td>\n",
       "      <td>1000</td>\n",
       "      <td>5</td>\n",
       "      <td>22.0</td>\n",
       "      <td>159.0</td>\n",
       "      <td>22.0</td>\n",
       "      <td>2256.0</td>\n",
       "      <td>ultra</td>\n",
       "      <td>Краснодар</td>\n",
       "      <td>52</td>\n",
       "      <td>2018-05-25</td>\n",
       "      <td>0</td>\n",
       "      <td>0.0</td>\n",
       "      <td>0.0</td>\n",
       "      <td>1950</td>\n",
       "      <td>1950.0</td>\n",
       "    </tr>\n",
       "    <tr>\n",
       "      <td>1</td>\n",
       "      <td>1000</td>\n",
       "      <td>6</td>\n",
       "      <td>43.0</td>\n",
       "      <td>172.0</td>\n",
       "      <td>60.0</td>\n",
       "      <td>23257.0</td>\n",
       "      <td>ultra</td>\n",
       "      <td>Краснодар</td>\n",
       "      <td>52</td>\n",
       "      <td>2018-05-25</td>\n",
       "      <td>0</td>\n",
       "      <td>0.0</td>\n",
       "      <td>0.0</td>\n",
       "      <td>1950</td>\n",
       "      <td>1950.0</td>\n",
       "    </tr>\n",
       "    <tr>\n",
       "      <td>2</td>\n",
       "      <td>1000</td>\n",
       "      <td>7</td>\n",
       "      <td>47.0</td>\n",
       "      <td>340.0</td>\n",
       "      <td>75.0</td>\n",
       "      <td>14016.0</td>\n",
       "      <td>ultra</td>\n",
       "      <td>Краснодар</td>\n",
       "      <td>52</td>\n",
       "      <td>2018-05-25</td>\n",
       "      <td>0</td>\n",
       "      <td>0.0</td>\n",
       "      <td>0.0</td>\n",
       "      <td>1950</td>\n",
       "      <td>1950.0</td>\n",
       "    </tr>\n",
       "    <tr>\n",
       "      <td>3</td>\n",
       "      <td>1000</td>\n",
       "      <td>8</td>\n",
       "      <td>52.0</td>\n",
       "      <td>408.0</td>\n",
       "      <td>81.0</td>\n",
       "      <td>14070.0</td>\n",
       "      <td>ultra</td>\n",
       "      <td>Краснодар</td>\n",
       "      <td>52</td>\n",
       "      <td>2018-05-25</td>\n",
       "      <td>0</td>\n",
       "      <td>0.0</td>\n",
       "      <td>0.0</td>\n",
       "      <td>1950</td>\n",
       "      <td>1950.0</td>\n",
       "    </tr>\n",
       "    <tr>\n",
       "      <td>4</td>\n",
       "      <td>1000</td>\n",
       "      <td>9</td>\n",
       "      <td>58.0</td>\n",
       "      <td>466.0</td>\n",
       "      <td>57.0</td>\n",
       "      <td>14581.0</td>\n",
       "      <td>ultra</td>\n",
       "      <td>Краснодар</td>\n",
       "      <td>52</td>\n",
       "      <td>2018-05-25</td>\n",
       "      <td>0</td>\n",
       "      <td>0.0</td>\n",
       "      <td>0.0</td>\n",
       "      <td>1950</td>\n",
       "      <td>1950.0</td>\n",
       "    </tr>\n",
       "  </tbody>\n",
       "</table>\n",
       "</div>"
      ],
      "text/plain": [
       "   user_id  date_month  count    sum    id  mb_used tariff       city  age  \\\n",
       "0     1000           5   22.0  159.0  22.0   2256.0  ultra  Краснодар   52   \n",
       "1     1000           6   43.0  172.0  60.0  23257.0  ultra  Краснодар   52   \n",
       "2     1000           7   47.0  340.0  75.0  14016.0  ultra  Краснодар   52   \n",
       "3     1000           8   52.0  408.0  81.0  14070.0  ultra  Краснодар   52   \n",
       "4     1000           9   58.0  466.0  57.0  14581.0  ultra  Краснодар   52   \n",
       "\n",
       "     reg_date  mb_up_rub  min_up_rub  mes_up_rub  tarif_pay  all_month_money  \n",
       "0  2018-05-25          0         0.0         0.0       1950           1950.0  \n",
       "1  2018-05-25          0         0.0         0.0       1950           1950.0  \n",
       "2  2018-05-25          0         0.0         0.0       1950           1950.0  \n",
       "3  2018-05-25          0         0.0         0.0       1950           1950.0  \n",
       "4  2018-05-25          0         0.0         0.0       1950           1950.0  "
      ]
     },
     "execution_count": 59,
     "metadata": {},
     "output_type": "execute_result"
    }
   ],
   "source": [
    "megaline_all.head(5)"
   ]
  },
  {
   "cell_type": "markdown",
   "metadata": {},
   "source": [
    "К таблице megaline_all добавились столбцы: \n",
    "\n",
    "mb_up_rub - сколько сверх тарифа заплатил абонент за интернет \n",
    "\n",
    "min_up_rub - сколько сверх тарифа заплатил абонент за минуты разговора \n",
    "\n",
    "mes_up_rub - сколько сверх тарифа заплатил абонент за сообщения \n",
    "\n",
    "tarif_pay - сколько абонент платит по тарифу \n",
    "\n",
    "all_month_money - сколько всего за месяц заплатил абонент \n"
   ]
  },
  {
   "cell_type": "markdown",
   "metadata": {},
   "source": [
    "В таблицы есть значения Nan. Их не следует удалять. Лучше заменить на 0. Так будет понятно, что в данный месяц абонент не пользовался какой-то из услуг тарифного пакета."
   ]
  },
  {
   "cell_type": "code",
   "execution_count": 60,
   "metadata": {},
   "outputs": [
    {
     "data": {
      "text/plain": [
       "user_id              0\n",
       "date_month           0\n",
       "count               40\n",
       "sum                 40\n",
       "id                 497\n",
       "mb_used             11\n",
       "tariff               0\n",
       "city                 0\n",
       "age                  0\n",
       "reg_date             0\n",
       "mb_up_rub            0\n",
       "min_up_rub           0\n",
       "mes_up_rub           0\n",
       "tarif_pay            0\n",
       "all_month_money      0\n",
       "dtype: int64"
      ]
     },
     "execution_count": 60,
     "metadata": {},
     "output_type": "execute_result"
    }
   ],
   "source": [
    "megaline_all.isnull().sum()"
   ]
  },
  {
   "cell_type": "code",
   "execution_count": 61,
   "metadata": {},
   "outputs": [],
   "source": [
    "megaline_all = megaline_all.fillna(0)"
   ]
  },
  {
   "cell_type": "code",
   "execution_count": 62,
   "metadata": {},
   "outputs": [
    {
     "data": {
      "text/plain": [
       "user_id            0\n",
       "date_month         0\n",
       "count              0\n",
       "sum                0\n",
       "id                 0\n",
       "mb_used            0\n",
       "tariff             0\n",
       "city               0\n",
       "age                0\n",
       "reg_date           0\n",
       "mb_up_rub          0\n",
       "min_up_rub         0\n",
       "mes_up_rub         0\n",
       "tarif_pay          0\n",
       "all_month_money    0\n",
       "dtype: int64"
      ]
     },
     "execution_count": 62,
     "metadata": {},
     "output_type": "execute_result"
    }
   ],
   "source": [
    "megaline_all.isnull().sum()"
   ]
  },
  {
   "cell_type": "markdown",
   "metadata": {},
   "source": [
    "Теперь в таблице нет пропущенных значений, а если абонент не пользовался какой-то из услуг, то нам это будет видно на гистограммах. "
   ]
  },
  {
   "cell_type": "markdown",
   "metadata": {},
   "source": [
    "# Сколько минут разговора требуется пользователям каждого тарифа в месяц?"
   ]
  },
  {
   "cell_type": "markdown",
   "metadata": {},
   "source": [
    "Подсчитаем среднее, медиану, дисперсию и стандартное отклонение методами 'mean','median','var','std'"
   ]
  },
  {
   "cell_type": "code",
   "execution_count": 63,
   "metadata": {},
   "outputs": [],
   "source": [
    "import matplotlib.pyplot as plt"
   ]
  },
  {
   "cell_type": "code",
   "execution_count": 64,
   "metadata": {},
   "outputs": [
    {
     "data": {
      "text/plain": [
       "Text(0, 0.5, 'Частота')"
      ]
     },
     "execution_count": 64,
     "metadata": {},
     "output_type": "execute_result"
    },
    {
     "data": {
      "image/png": "[encoded data removed]",
      "text/plain": [
       "<Figure size 864x432 with 1 Axes>"
      ]
     },
     "metadata": {
      "needs_background": "light"
     },
     "output_type": "display_data"
    }
   ],
   "source": [
    "\n",
    "ax = plt.gca()\n",
    "\n",
    "column = 'sum'\n",
    "\n",
    "title = 'Гистограмма длительности звонков, мин.'\n",
    "megaline_all[megaline_all['tariff'] == 'smart'][column].plot(kind='hist', bins=40, figsize=(12,6), \n",
    "                                                                    ec='black', ax=ax, color='#f8c4ff', \n",
    "                                                                    title=title, xlim=0)\n",
    "megaline_all[megaline_all['tariff'] == 'ultra'][column].plot(kind='hist', bins=40, figsize=(12,6), \n",
    "                                                                    ec='black', ax=ax, color='#97F0AA', \n",
    "                                                                    title=title, xlim=0, alpha=0.7)\n",
    "\n",
    "plt.axvline(x=megaline_all[megaline_all['tariff'] == 'smart'][column].median(),\n",
    "            linewidth=3, color='#f8c4ff', linestyle='--')\n",
    "ax.text(megaline_all[megaline_all['tariff'] == 'smart'][column].median()-65, 170, \n",
    "        '{0:.0f}'.format(megaline_all[megaline_all['tariff'] == 'smart'][column].median()), \n",
    "        fontweight='bold', fontsize='large')\n",
    "plt.axvline(x=megaline_all[megaline_all['tariff'] == 'ultra'][column].median(),\n",
    "            linewidth=3, color='#35B815', linestyle='--')\n",
    "ax.text(megaline_all[megaline_all['tariff'] == 'ultra'][column].median()+7, 170, \n",
    "        '{0:.0f}'.format(megaline_all[megaline_all['tariff'] == 'ultra'][column].median()), \n",
    "        fontweight='bold', fontsize='large')\n",
    "\n",
    "plt.legend(['Медиана Смарт', 'Медиана Ультра', 'Смарт', 'Ультра'], prop={'size':12})\n",
    "\n",
    "ax.text(1100, 75, 'Расчетные данные\\n Smart: Среднее = 417.93\\n Дисперсия = 36219\\n std = 190\\n Ultra: Среднее = 526.62\\n Дисперсия = 100873\\n std = 317', fontweight='bold', fontsize='large')\n",
    "\n",
    "ax.set_xlabel('минут в месяц')\n",
    "ax.set_ylabel('Частота')"
   ]
  },
  {
   "cell_type": "code",
   "execution_count": 65,
   "metadata": {},
   "outputs": [],
   "source": [
    "megaline_smart = (\n",
    "    megaline_all\n",
    "    .query('tariff in (\"smart\")')\n",
    ")\n",
    "megaline_ultra = (\n",
    "    megaline_all\n",
    "    .query('tariff in (\"ultra\")')\n",
    ")\n"
   ]
  },
  {
   "cell_type": "code",
   "execution_count": 66,
   "metadata": {},
   "outputs": [
    {
     "data": {
      "text/plain": [
       "mean        417.934948\n",
       "median      422.000000\n",
       "var       36219.315784\n",
       "std         190.313730\n",
       "Name: sum, dtype: float64"
      ]
     },
     "execution_count": 66,
     "metadata": {},
     "output_type": "execute_result"
    }
   ],
   "source": [
    "megaline_smart_minutes = megaline_smart['sum'].agg(['mean','median','var','std'])\n",
    "megaline_smart_minutes"
   ]
  },
  {
   "cell_type": "code",
   "execution_count": 67,
   "metadata": {},
   "outputs": [
    {
     "data": {
      "text/plain": [
       "mean         526.623350\n",
       "median       518.000000\n",
       "var       100873.633397\n",
       "std          317.606098\n",
       "Name: sum, dtype: float64"
      ]
     },
     "execution_count": 67,
     "metadata": {},
     "output_type": "execute_result"
    }
   ],
   "source": [
    "megaline_ultra_minutes = megaline_ultra['sum'].agg(['mean','median','var','std'])\n",
    "megaline_ultra_minutes"
   ]
  },
  {
   "cell_type": "markdown",
   "metadata": {},
   "source": [
    "Как видно на гистограмме, в среднем пользователем тарифа smart требуется в месяц 417-422 минуты, при 500 доступных бесплатно. Для тарифа ultra в среднем около 518-526 минут, при 3000 доступных. Есть так же те, кто звонками в некоторые месяцы не пользовался или же совершал звонки, но они так и не были начаты. И таких среди пользователей тарифа ultra больше, чем среди smart. Возможно, это свзяано с тем, что все больше людей совершают звонки через мессенджеры, чем расходуют больше интернет трафика, чем минуты звонков. если некоторая величина отклоняется от среднего под воздействием слабых, независимых друг от друга\n",
    "факторов, она имеет нормальное распределение. Так что в целом мы видим нормальное распределение по звонкам, если отбросить нулевые значения. "
   ]
  },
  {
   "cell_type": "markdown",
   "metadata": {},
   "source": [
    "# Сколько сообщений требуется пользователям каждого тарифа в месяц?"
   ]
  },
  {
   "cell_type": "markdown",
   "metadata": {},
   "source": [
    "Подсчитаем среднее, медиану, дисперсию и стандартное отклонение методами 'mean','median','var','std'"
   ]
  },
  {
   "cell_type": "code",
   "execution_count": 68,
   "metadata": {},
   "outputs": [
    {
     "data": {
      "text/plain": [
       "Text(0, 0.5, 'Частота')"
      ]
     },
     "execution_count": 68,
     "metadata": {},
     "output_type": "execute_result"
    },
    {
     "data": {
      "image/png": "[encoded data removed]",
      "text/plain": [
       "<Figure size 864x432 with 1 Axes>"
      ]
     },
     "metadata": {
      "needs_background": "light"
     },
     "output_type": "display_data"
    }
   ],
   "source": [
    "ax = plt.gca()\n",
    "column = 'id'\n",
    "title = 'Гистограмма отправленных смс.'\n",
    "megaline_all[megaline_all['tariff'] == 'smart'][column].plot(kind='hist', bins=40, figsize=(12,6), \n",
    "                                                                    ec='black', ax=ax, color='#f8c4ff', \n",
    "                                                                    title=title, xlim=0)\n",
    "\n",
    "megaline_all[megaline_all['tariff'] == 'ultra'][column].plot(kind='hist', bins=40, figsize=(12,6), \n",
    "                                                                    ec='black', ax=ax, color='#97F0AA', \n",
    "                                                                    title=title, xlim=0, alpha=0.7)\n",
    "\n",
    "plt.axvline(x=megaline_all[megaline_all['tariff'] == 'smart'][column].median(),\n",
    "            linewidth=3, color='#f8c4ff', linestyle='--')\n",
    "ax.text(megaline_all[megaline_all['tariff'] == 'smart'][column].median()-6, 170, \n",
    "        '{0:.0f}'.format(megaline_all[megaline_all['tariff'] == 'smart'][column].median()), \n",
    "        fontweight='bold', fontsize='large')\n",
    "plt.axvline(x=megaline_all[megaline_all['tariff'] == 'ultra'][column].median(),\n",
    "            linewidth=3, color='#35B815', linestyle='--')\n",
    "ax.text(megaline_all[megaline_all['tariff'] == 'ultra'][column].median()+7, 170, \n",
    "        '{0:.0f}'.format(megaline_all[megaline_all['tariff'] == 'ultra'][column].median()), \n",
    "        fontweight='bold', fontsize='large')\n",
    "\n",
    "plt.legend(['Медиана Смарт', 'Медиана Ультра', 'Смарт', 'Ультра'], prop={'size':12})\n",
    "\n",
    "ax.text(120, 75, 'Расчетные данные\\n Smart: Среднее = 33.38\\n Дисперсия = 796\\n std = 28\\n Ultra: Среднее = 49.36\\n Дисперсия = 2285\\n std = 47', fontweight='bold', fontsize='large')\n",
    "\n",
    "ax.set_xlabel('Смс в месяц')\n",
    "ax.set_ylabel('Частота')"
   ]
  },
  {
   "cell_type": "code",
   "execution_count": 69,
   "metadata": {},
   "outputs": [
    {
     "data": {
      "text/plain": [
       "mean       33.384029\n",
       "median     28.000000\n",
       "var       796.812958\n",
       "std        28.227876\n",
       "Name: id, dtype: float64"
      ]
     },
     "execution_count": 69,
     "metadata": {},
     "output_type": "execute_result"
    }
   ],
   "source": [
    "megaline_smart_sms = megaline_smart['id'].agg(['mean','median','var','std'])\n",
    "megaline_smart_sms"
   ]
  },
  {
   "cell_type": "code",
   "execution_count": 70,
   "metadata": {},
   "outputs": [
    {
     "data": {
      "text/plain": [
       "mean        49.363452\n",
       "median      38.000000\n",
       "var       2285.266143\n",
       "std         47.804457\n",
       "Name: id, dtype: float64"
      ]
     },
     "execution_count": 70,
     "metadata": {},
     "output_type": "execute_result"
    }
   ],
   "source": [
    "megaline_ultra_sms = megaline_ultra['id'].agg(['mean','median','var','std'])\n",
    "megaline_ultra_sms"
   ]
  },
  {
   "cell_type": "markdown",
   "metadata": {},
   "source": [
    "С сообщениями очень интересная ситуация, гистограмма явно идет на спад. При том что самые высокие значения у обоих тарифов около 0. Это можно связать с тем, что сейчас больше людей переписываются в мессенджерах, не используюя выделенное колличество смс из тарифного пакета услуг. Тем ни мение, в среднем, пользователи тарифа ultra используют сообщений больше, чем пользователи тарифа smart (38 и 28) "
   ]
  },
  {
   "cell_type": "markdown",
   "metadata": {},
   "source": [
    "# Какой объём интернет-трафика требуется пользователям каждого тарифа в месяц?"
   ]
  },
  {
   "cell_type": "markdown",
   "metadata": {},
   "source": [
    "Подсчитаем среднее, медиану, дисперсию и стандартное отклонение методами 'mean','median','var','std'"
   ]
  },
  {
   "cell_type": "code",
   "execution_count": 71,
   "metadata": {},
   "outputs": [
    {
     "data": {
      "text/plain": [
       "Text(0, 0.5, 'Частота')"
      ]
     },
     "execution_count": 71,
     "metadata": {},
     "output_type": "execute_result"
    },
    {
     "data": {
      "image/png": "[encoded data removed]",
      "text/plain": [
       "<Figure size 864x432 with 1 Axes>"
      ]
     },
     "metadata": {
      "needs_background": "light"
     },
     "output_type": "display_data"
    }
   ],
   "source": [
    "ax = plt.gca()\n",
    "column = 'mb_used'\n",
    "title = 'Гистограмма отправленных смс.'\n",
    "megaline_all[megaline_all['tariff'] == 'smart'][column].plot(kind='hist', bins=40, figsize=(12,6), \n",
    "                                                                    ec='black', ax=ax, color='#f8c4ff', \n",
    "                                                                    title=title, xlim=0)\n",
    "\n",
    "megaline_all[megaline_all['tariff'] == 'ultra'][column].plot(kind='hist', bins=40, figsize=(12,6), \n",
    "                                                                    ec='black', ax=ax, color='#97F0AA', \n",
    "                                                                    title=title, xlim=0, alpha=0.7)\n",
    " \n",
    "plt.axvline(x=megaline_all[megaline_all['tariff'] == 'smart'][column].median(),\n",
    "            linewidth=3, color='#f8c4ff', linestyle='--')\n",
    "ax.text(megaline_all[megaline_all['tariff'] == 'smart'][column].median()-6, 170, \n",
    "        '{0:.0f}'.format(megaline_all[megaline_all['tariff'] == 'smart'][column].median()), \n",
    "        fontweight='bold', fontsize='large')\n",
    "plt.axvline(x=megaline_all[megaline_all['tariff'] == 'ultra'][column].median(),\n",
    "            linewidth=3, color='#35B815', linestyle='--')\n",
    "ax.text(megaline_all[megaline_all['tariff'] == 'ultra'][column].median()+7, 170, \n",
    "        '{0:.0f}'.format(megaline_all[megaline_all['tariff'] == 'ultra'][column].median()), \n",
    "        fontweight='bold', fontsize='large')\n",
    "\n",
    "plt.legend(['Медиана Смарт', 'Медиана Ультра', 'Смарт', 'Ультра'], prop={'size':12})\n",
    "\n",
    "ax.text(28000, 75, 'Расчетные данные\\n Smart: Среднее = 16229\\n Дисперсия = 34545911\\n std = 5877\\n Ultra: Среднее = 19486\\n Дисперсия = 101935611\\n std = 10096', fontweight='bold', fontsize='large')\n",
    "\n",
    "ax.set_xlabel('Мб в месяц')\n",
    "ax.set_ylabel('Частота')"
   ]
  },
  {
   "cell_type": "code",
   "execution_count": 72,
   "metadata": {},
   "outputs": [
    {
     "data": {
      "text/plain": [
       "mean         15.848817\n",
       "median       16.143555\n",
       "var       33736.241335\n",
       "std           5.739821\n",
       "Name: mb_used, dtype: float64"
      ]
     },
     "execution_count": 72,
     "metadata": {},
     "output_type": "execute_result"
    }
   ],
   "source": [
    "megaline_smart_mb = megaline_smart['mb_used'].agg(['mean','median','var','std'])\n",
    "megaline_smart_mb = megaline_smart_mb / 1024 #переведем в Гб\n",
    "megaline_smart_mb"
   ]
  },
  {
   "cell_type": "code",
   "execution_count": 73,
   "metadata": {},
   "outputs": [
    {
     "data": {
      "text/plain": [
       "mean         19.030177\n",
       "median       18.871094\n",
       "var       99546.504930\n",
       "std           9.859685\n",
       "Name: mb_used, dtype: float64"
      ]
     },
     "execution_count": 73,
     "metadata": {},
     "output_type": "execute_result"
    }
   ],
   "source": [
    "megaline_ultra_mb = megaline_ultra['mb_used'].agg(['mean','median','var','std'])\n",
    "megaline_ultra_mb = megaline_ultra_mb / 1024 #переведем в Гб\n",
    "megaline_ultra_mb"
   ]
  },
  {
   "cell_type": "markdown",
   "metadata": {},
   "source": [
    "Среднее колиичество используемых Гб в тарифе smart = 15.84, что больше положенных по тарифу 15 Гб в месяц, при этом медиата тоже выше этого значение = 16.14. Но пользователи тарифа ultra не превышают 30 Гб, которые включены им в пакет. Пользователи тарифа smart имеют более нормальное распеределние, чем пользователи талифа ultra."
   ]
  },
  {
   "cell_type": "markdown",
   "metadata": {},
   "source": [
    "# Средняя выручка пользователей тарифов «Ультра» и «Смарт» различается или нет?"
   ]
  },
  {
   "cell_type": "code",
   "execution_count": 74,
   "metadata": {},
   "outputs": [],
   "source": [
    "from scipy import stats as st"
   ]
  },
  {
   "cell_type": "code",
   "execution_count": 75,
   "metadata": {},
   "outputs": [
    {
     "data": {
      "text/plain": [
       "mean        692.216689\n",
       "median      550.000000\n",
       "var       68131.241624\n",
       "std         261.019619\n",
       "Name: all_month_money, dtype: float64"
      ]
     },
     "execution_count": 75,
     "metadata": {},
     "output_type": "execute_result"
    }
   ],
   "source": [
    "all_month_money_smart = (\n",
    "    megaline_all\n",
    "    .query('tariff in (\"smart\")')\n",
    ")\n",
    "all_month_money_smart['all_month_money'].agg(['mean','median','var','std'])\n",
    " "
   ]
  },
  {
   "cell_type": "code",
   "execution_count": 76,
   "metadata": {},
   "outputs": [
    {
     "data": {
      "text/plain": [
       "mean      1950.0\n",
       "median    1950.0\n",
       "var          0.0\n",
       "std          0.0\n",
       "Name: all_month_money, dtype: float64"
      ]
     },
     "execution_count": 76,
     "metadata": {},
     "output_type": "execute_result"
    }
   ],
   "source": [
    "all_month_money_ultra = (\n",
    "    megaline_all\n",
    "    .query('tariff in (\"ultra\")')\n",
    ")\n",
    "all_month_money_ultra['all_month_money'].agg(['mean','median','var','std'])\n"
   ]
  },
  {
   "cell_type": "code",
   "execution_count": 77,
   "metadata": {},
   "outputs": [
    {
     "data": {
      "text/plain": [
       "Text(0, 0.5, 'Частота')"
      ]
     },
     "execution_count": 77,
     "metadata": {},
     "output_type": "execute_result"
    },
    {
     "data": {
      "image/png": "[encoded data removed]",
      "text/plain": [
       "<Figure size 864x432 with 1 Axes>"
      ]
     },
     "metadata": {
      "needs_background": "light"
     },
     "output_type": "display_data"
    }
   ],
   "source": [
    "ax = plt.gca()\n",
    "column = 'all_month_money'\n",
    "title = 'Гистограмма средней выручки пользователей.'\n",
    "megaline_all[megaline_all['tariff'] == 'smart'][column].plot(kind='hist', bins=40, figsize=(12,6), \n",
    "                                                                    ec='black', ax=ax, color='#f8c4ff', \n",
    "                                                                    title=title, xlim=0)\n",
    "\n",
    "megaline_all[megaline_all['tariff'] == 'ultra'][column].plot(kind='hist', bins=40, figsize=(12,6), \n",
    "                                                                    ec='black', ax=ax, color='#97F0AA', \n",
    "                                                                    title=title, xlim=0, alpha=0.7)\n",
    " \n",
    "plt.axvline(x=megaline_all[megaline_all['tariff'] == 'smart'][column].median(),\n",
    "            linewidth=3, color='#f8c4ff', linestyle='--')\n",
    "ax.text(megaline_all[megaline_all['tariff'] == 'smart'][column].median()-6, 170, \n",
    "        '{0:.0f}'.format(megaline_all[megaline_all['tariff'] == 'smart'][column].median()), \n",
    "        fontweight='bold', fontsize='large')\n",
    "plt.axvline(x=megaline_all[megaline_all['tariff'] == 'ultra'][column].median(),\n",
    "            linewidth=3, color='#35B815', linestyle='--')\n",
    "ax.text(megaline_all[megaline_all['tariff'] == 'ultra'][column].median()+7, 170, \n",
    "        '{0:.0f}'.format(megaline_all[megaline_all['tariff'] == 'ultra'][column].median()), \n",
    "        fontweight='bold', fontsize='large')\n",
    "\n",
    "plt.legend(['Медиана Смарт', 'Медиана Ультра', 'Смарт', 'Ультра'], prop={'size':12})\n",
    "\n",
    "ax.text(2800, 80, 'Расчетные данные\\n Smart: Среднее = 692.21\\n Дисперсия = 68131\\n std = 261\\n Ultra: Среднее = 1950.0\\n Дисперсия = 0.0\\n std = 0.0', fontweight='bold', fontsize='large')\n",
    "\n",
    "ax.set_xlabel('Денег в месяц')\n",
    "ax.set_ylabel('Частота')"
   ]
  },
  {
   "cell_type": "markdown",
   "metadata": {},
   "source": [
    "Дисперсии по двум группам в столбце all_month_money не равны. Это важно при проверке гипотез. Параментру equal_var нужно придать значение False."
   ]
  },
  {
   "cell_type": "markdown",
   "metadata": {},
   "source": [
    "### И так, у нас два тарифа, нужно понять, различается или нет средняя выручка по двум тарифам?\n",
    "\n",
    "Выдвинем гипотезы:\n",
    "\n",
    "\n",
    "H₀ - средняя выручка по двум тарифам различается\n",
    "\n",
    "\n",
    "H1 - средняя выручка по двум тарифам не различается \n",
    "\n",
    "alpha = .05 - критический уровень статистической значимости. Если p-value окажется меньше него - отвергнем гипотезу."
   ]
  },
  {
   "cell_type": "code",
   "execution_count": 78,
   "metadata": {},
   "outputs": [
    {
     "name": "stdout",
     "output_type": "stream",
     "text": [
      "p-значение: 0.0\n",
      "Отвергаем нулевую гипотезу\n"
     ]
    }
   ],
   "source": [
    "alpha = .05\n",
    "\n",
    "results = st.ttest_ind(\n",
    "    megaline_all[megaline_all['tariff'] == 'ultra']['all_month_money'], \n",
    "    megaline_all[megaline_all['tariff'] == 'smart']['all_month_money'],\n",
    "    equal_var = False)\n",
    "print('p-значение:', results.pvalue)\n",
    "\n",
    "if (results.pvalue < alpha):\n",
    "    print(\"Отвергаем нулевую гипотезу\")\n",
    "else:\n",
    "    print(\"Не получилось отвергнуть нулевую гипотезу\")"
   ]
  },
  {
   "cell_type": "markdown",
   "metadata": {},
   "source": [
    "Статистически значимыми различия между выручкой тарифа Ультра и Тарифа смарт назвать нельзя. При том что средняя выручка по месяцам между двумя тарифами явно разная: смарт = 692, а ултра = 1950. То есть среднаяя выручка по двум тарифам не однинакова, но такое различие можно получить случайно, что нам продемонстрировало  p-значение: 0.0"
   ]
  },
  {
   "cell_type": "markdown",
   "metadata": {},
   "source": [
    "## Средняя выручка пользователей из Москвы отличается от выручки пользователей из других регионов или нет?"
   ]
  },
  {
   "cell_type": "markdown",
   "metadata": {},
   "source": [
    "Сделаем две выборки: абонентов из города Москвы, и абонентов из других городов. Посмотрим, есть ли в этих выборках выбросы, если есть - избавимся от них."
   ]
  },
  {
   "cell_type": "code",
   "execution_count": 79,
   "metadata": {},
   "outputs": [
    {
     "data": {
      "text/plain": [
       "mean        1147.859247\n",
       "median       784.000000\n",
       "var       410704.006386\n",
       "std          640.861925\n",
       "Name: all_month_money, dtype: float64"
      ]
     },
     "execution_count": 79,
     "metadata": {},
     "output_type": "execute_result"
    }
   ],
   "source": [
    "megaline_Msk = (\n",
    "    megaline_all\n",
    "    .query('city in (\"Москва\")')\n",
    ")\n",
    "megaline_Msk['all_month_money'].agg(['mean','median','var','std'])"
   ]
  },
  {
   "cell_type": "code",
   "execution_count": 80,
   "metadata": {},
   "outputs": [
    {
     "data": {
      "text/plain": [
       "count     611.000000\n",
       "mean     1147.859247\n",
       "std       640.861925\n",
       "min       550.000000\n",
       "25%       550.000000\n",
       "50%       784.000000\n",
       "75%      1950.000000\n",
       "max      2116.000000\n",
       "Name: all_month_money, dtype: float64"
      ]
     },
     "execution_count": 80,
     "metadata": {},
     "output_type": "execute_result"
    }
   ],
   "source": [
    "megaline_Msk['all_month_money'].describe()"
   ]
  },
  {
   "cell_type": "code",
   "execution_count": 81,
   "metadata": {},
   "outputs": [
    {
     "data": {
      "image/png": "[encoded data removed]",
      "text/plain": [
       "<Figure size 432x288 with 1 Axes>"
      ]
     },
     "metadata": {
      "needs_background": "light"
     },
     "output_type": "display_data"
    }
   ],
   "source": [
    "megaline_Msk.boxplot(column='all_month_money') \n",
    "plt.show()"
   ]
  },
  {
   "cell_type": "code",
   "execution_count": 82,
   "metadata": {},
   "outputs": [
    {
     "data": {
      "image/png": "[encoded data removed]",
      "text/plain": [
       "<Figure size 432x288 with 1 Axes>"
      ]
     },
     "metadata": {
      "needs_background": "light"
     },
     "output_type": "display_data"
    }
   ],
   "source": [
    "megaline_Msk['all_month_money'].plot(kind='hist', bins=30)\n",
    "plt.show()"
   ]
  },
  {
   "cell_type": "code",
   "execution_count": 83,
   "metadata": {},
   "outputs": [
    {
     "data": {
      "text/plain": [
       "1950.0"
      ]
     },
     "execution_count": 83,
     "metadata": {},
     "output_type": "execute_result"
    }
   ],
   "source": [
    "megaline_Msk['all_month_money'].quantile(0.75) #посомтрим при 75% всей выборки"
   ]
  },
  {
   "cell_type": "code",
   "execution_count": 84,
   "metadata": {},
   "outputs": [
    {
     "data": {
      "text/plain": [
       "1950.0"
      ]
     },
     "execution_count": 84,
     "metadata": {},
     "output_type": "execute_result"
    }
   ],
   "source": [
    "megaline_Msk['all_month_money'].quantile(0.99) #при 90% всей выборки"
   ]
  },
  {
   "cell_type": "markdown",
   "metadata": {},
   "source": [
    "На гистограмме видно, что есть редкие выбросы просле 1950. Так что дальнейших анализ продолжим без них "
   ]
  },
  {
   "cell_type": "markdown",
   "metadata": {},
   "source": [
    "Составим выборку без выбросов, где крайние знаяние 550 и 1950"
   ]
  },
  {
   "cell_type": "code",
   "execution_count": 85,
   "metadata": {},
   "outputs": [
    {
     "data": {
      "text/plain": [
       "mean        1146.272131\n",
       "median       782.500000\n",
       "var       409836.799386\n",
       "std          640.184973\n",
       "Name: all_month_money, dtype: float64"
      ]
     },
     "execution_count": 85,
     "metadata": {},
     "output_type": "execute_result"
    }
   ],
   "source": [
    "megaline_Msk_1 = (\n",
    "    megaline_all\n",
    "    .query('city in (\"Москва\")')\n",
    "    .query('550 <= all_month_money <= 1950')\n",
    ")\n",
    "megaline_Msk_1['all_month_money'].agg(['mean','median','var','std'])"
   ]
  },
  {
   "cell_type": "markdown",
   "metadata": {},
   "source": [
    "Среднее, дисперсия и стандартное отклоения у нас изменились. \n",
    "\n",
    "Рассмотрим выборку, куда не  вошла Москва "
   ]
  },
  {
   "cell_type": "code",
   "execution_count": 86,
   "metadata": {},
   "outputs": [
    {
     "data": {
      "text/plain": [
       "mean        1061.221283\n",
       "median       676.000000\n",
       "var       375968.421422\n",
       "std          613.162639\n",
       "Name: all_month_money, dtype: float64"
      ]
     },
     "execution_count": 86,
     "metadata": {},
     "output_type": "execute_result"
    }
   ],
   "source": [
    "megaline_others = (\n",
    "    megaline_all\n",
    "    .query('city != \"Москва\"')\n",
    ")\n",
    "megaline_others['all_month_money'].agg(['mean','median','var','std'])"
   ]
  },
  {
   "cell_type": "code",
   "execution_count": 87,
   "metadata": {},
   "outputs": [
    {
     "data": {
      "text/plain": [
       "count    2603.000000\n",
       "mean     1061.221283\n",
       "std       613.162639\n",
       "min       550.000000\n",
       "25%       550.000000\n",
       "50%       676.000000\n",
       "75%      1950.000000\n",
       "max      3397.000000\n",
       "Name: all_month_money, dtype: float64"
      ]
     },
     "execution_count": 87,
     "metadata": {},
     "output_type": "execute_result"
    }
   ],
   "source": [
    "megaline_others['all_month_money'].describe()"
   ]
  },
  {
   "cell_type": "code",
   "execution_count": 88,
   "metadata": {
    "scrolled": true
   },
   "outputs": [
    {
     "data": {
      "image/png": "[encoded data removed]",
      "text/plain": [
       "<Figure size 432x288 with 1 Axes>"
      ]
     },
     "metadata": {
      "needs_background": "light"
     },
     "output_type": "display_data"
    }
   ],
   "source": [
    "megaline_others.boxplot(column='all_month_money') \n",
    "plt.show()"
   ]
  },
  {
   "cell_type": "code",
   "execution_count": 89,
   "metadata": {},
   "outputs": [
    {
     "data": {
      "image/png": "[encoded data removed]",
      "text/plain": [
       "<Figure size 432x288 with 1 Axes>"
      ]
     },
     "metadata": {
      "needs_background": "light"
     },
     "output_type": "display_data"
    }
   ],
   "source": [
    "megaline_others['all_month_money'].plot(kind='hist', bins=30)\n",
    "plt.show()"
   ]
  },
  {
   "cell_type": "markdown",
   "metadata": {},
   "source": [
    "По графицу видно, что тоже есть редкие выбросы после 1950. Посмотрим, что без них"
   ]
  },
  {
   "cell_type": "code",
   "execution_count": 90,
   "metadata": {},
   "outputs": [
    {
     "data": {
      "text/plain": [
       "1950.0"
      ]
     },
     "execution_count": 90,
     "metadata": {},
     "output_type": "execute_result"
    }
   ],
   "source": [
    "megaline_others['all_month_money'].quantile(0.75)"
   ]
  },
  {
   "cell_type": "markdown",
   "metadata": {},
   "source": [
    "Составляем выброку с крайними занчениями  550 и 1950 "
   ]
  },
  {
   "cell_type": "code",
   "execution_count": 91,
   "metadata": {},
   "outputs": [
    {
     "data": {
      "text/plain": [
       "mean        1058.114363\n",
       "median       673.000000\n",
       "var       372145.477286\n",
       "std          610.037275\n",
       "Name: all_month_money, dtype: float64"
      ]
     },
     "execution_count": 91,
     "metadata": {},
     "output_type": "execute_result"
    }
   ],
   "source": [
    "megaline_others_1 = (\n",
    "    megaline_all\n",
    "    .query('city != \"Москва\"')\n",
    "    .query('550 <= all_month_money <= 1950')\n",
    ")\n",
    "megaline_others_1['all_month_money'].agg(['mean','median','var','std'])"
   ]
  },
  {
   "cell_type": "markdown",
   "metadata": {},
   "source": [
    "Среднее, дисперсия и стандартное отклоения у нас изменились."
   ]
  },
  {
   "cell_type": "markdown",
   "metadata": {},
   "source": [
    "Дисперсия megaline_others_1['all_month_money'] = 372145, Дисперсия megaline_Msk_1['all_month_money'] = 409836 - разница не велика, так что при проверки гипотезы параметр equal_var = True."
   ]
  },
  {
   "cell_type": "markdown",
   "metadata": {},
   "source": [
    "### Нужно выяснить, средняя выручка жителей города Москвы отличается от средней выручки всех остальных пользователей тарифа смарт и ультра, которые не проживают в городе Москва?\n",
    "\n",
    "Выдвинем гипотезы:\n",
    "\n",
    "\n",
    "H₀ - средняя выручка пользователей из Москвы различается со средней выручкой пользователей из других регионов\n",
    "\n",
    "\n",
    "H1 - средняя выручка между Москвой и другими регионами не различается \n",
    "\n",
    "alpha = .05 - критический уровень статистической значимости. Если p-value окажется меньше него - отвергнем гипотезу."
   ]
  },
  {
   "cell_type": "code",
   "execution_count": 92,
   "metadata": {},
   "outputs": [
    {
     "name": "stdout",
     "output_type": "stream",
     "text": [
      "p-значение: 0.0014797258969463719\n",
      "Отвергаем нулевую гипотезу\n"
     ]
    }
   ],
   "source": [
    "alpha = .05\n",
    "\n",
    "results = st.ttest_ind(\n",
    "    megaline_Msk_1['all_month_money'],\n",
    "    megaline_others_1['all_month_money'],   \n",
    "    equal_var = True)\n",
    "print('p-значение:', results.pvalue)\n",
    "\n",
    "if (results.pvalue < alpha):\n",
    "    print(\"Отвергаем нулевую гипотезу\")\n",
    "else:\n",
    "    print(\"Не получилось отвергнуть нулевую гипотезу\")"
   ]
  },
  {
   "cell_type": "markdown",
   "metadata": {},
   "source": [
    "Статистичкски значимый различий между пользователи, проживающими в Москве и пользователями, проживающими в регионах, не обнаружено. Вероятность в 0.1% - этого не достаточно, чтобы делать вывод о значимом различии между средними выручками."
   ]
  },
  {
   "cell_type": "markdown",
   "metadata": {},
   "source": [
    "# Вывод по полученным результатам."
   ]
  },
  {
   "cell_type": "markdown",
   "metadata": {},
   "source": [
    "Несмотря на то, что пользователей тарифа smart больше, чем пользователей тарифа ultra, не было найдено статистически подтверженных различий между средними выручками по двум разным тарифам. Использовалась гипотеза о равенстве средних двух генеральных совокупностей. Хоть средние -  разные, но у нас на руках данные за определенный период времени, по 500 пользователям тарифами. За этот период при этой выборке статистически не подтвердились гипотезы, что различия между средними выручками значимы. Это нам говорит о том, что они могли быть случайны, обусловлены спецификой, вошедших в выборку респондентов.\n",
    "\n",
    "### На основе полученных данных нельзя статистически подтвердить, что один из тарифов ultra или smart приносит больше денег. \n"
   ]
  },
  {
   "cell_type": "code",
   "execution_count": null,
   "metadata": {},
   "outputs": [],
   "source": []
  }
 ],
 "metadata": {
  "kernelspec": {
   "display_name": "Python 3",
   "language": "python",
   "name": "python3"
  },
  "language_info": {
   "codemirror_mode": {
    "name": "ipython",
    "version": 3
   },
   "file_extension": ".py",
   "mimetype": "text/x-python",
   "name": "python",
   "nbconvert_exporter": "python",
   "pygments_lexer": "ipython3",
   "version": "3.7.4"
  }
 },
 "nbformat": 4,
 "nbformat_minor": 2
}
