{
 "cells": [
  {
   "cell_type": "markdown",
   "metadata": {},
   "source": [
    "# Исследование объявлений о продаже квартир\n",
    "\n",
    "В вашем распоряжении данные сервиса Яндекс.Недвижимость — архив объявлений о продаже квартир в Санкт-Петербурге и соседних населённых пунктов за несколько лет. Нужно научиться определять рыночную стоимость объектов недвижимости. Ваша задача — установить параметры. Это позволит построить автоматизированную систему: она отследит аномалии и мошенническую деятельность. \n",
    "\n",
    "По каждой квартире на продажу доступны два вида данных. Первые вписаны пользователем, вторые — получены автоматически на основе картографических данных. Например, расстояние до центра, аэропорта, ближайшего парка и водоёма. "
   ]
  },
  {
   "cell_type": "markdown",
   "metadata": {},
   "source": [
    "### Шаг 1. Откройте файл с данными и изучите общую информацию. "
   ]
  },
  {
   "cell_type": "code",
   "execution_count": 1,
   "metadata": {},
   "outputs": [],
   "source": [
    "import pandas as pd\n",
    "flats = pd.read_csv ('/datasets/real_estate_data.csv', sep='\\t')\n"
   ]
  },
  {
   "cell_type": "code",
   "execution_count": 2,
   "metadata": {},
   "outputs": [
    {
     "data": {
      "text/html": [
       "<div>\n",
       "<style scoped>\n",
       "    .dataframe tbody tr th:only-of-type {\n",
       "        vertical-align: middle;\n",
       "    }\n",
       "\n",
       "    .dataframe tbody tr th {\n",
       "        vertical-align: top;\n",
       "    }\n",
       "\n",
       "    .dataframe thead th {\n",
       "        text-align: right;\n",
       "    }\n",
       "</style>\n",
       "<table border=\"1\" class=\"dataframe\">\n",
       "  <thead>\n",
       "    <tr style=\"text-align: right;\">\n",
       "      <th></th>\n",
       "      <th>total_images</th>\n",
       "      <th>last_price</th>\n",
       "      <th>total_area</th>\n",
       "      <th>first_day_exposition</th>\n",
       "      <th>rooms</th>\n",
       "      <th>ceiling_height</th>\n",
       "      <th>floors_total</th>\n",
       "      <th>living_area</th>\n",
       "      <th>floor</th>\n",
       "      <th>is_apartment</th>\n",
       "      <th>...</th>\n",
       "      <th>kitchen_area</th>\n",
       "      <th>balcony</th>\n",
       "      <th>locality_name</th>\n",
       "      <th>airports_nearest</th>\n",
       "      <th>cityCenters_nearest</th>\n",
       "      <th>parks_around3000</th>\n",
       "      <th>parks_nearest</th>\n",
       "      <th>ponds_around3000</th>\n",
       "      <th>ponds_nearest</th>\n",
       "      <th>days_exposition</th>\n",
       "    </tr>\n",
       "  </thead>\n",
       "  <tbody>\n",
       "    <tr>\n",
       "      <td>0</td>\n",
       "      <td>20</td>\n",
       "      <td>13000000.0</td>\n",
       "      <td>108.00</td>\n",
       "      <td>2019-03-07T00:00:00</td>\n",
       "      <td>3</td>\n",
       "      <td>2.70</td>\n",
       "      <td>16.0</td>\n",
       "      <td>51.00</td>\n",
       "      <td>8</td>\n",
       "      <td>NaN</td>\n",
       "      <td>...</td>\n",
       "      <td>25.00</td>\n",
       "      <td>NaN</td>\n",
       "      <td>Санкт-Петербург</td>\n",
       "      <td>18863.0</td>\n",
       "      <td>16028.0</td>\n",
       "      <td>1.0</td>\n",
       "      <td>482.0</td>\n",
       "      <td>2.0</td>\n",
       "      <td>755.0</td>\n",
       "      <td>NaN</td>\n",
       "    </tr>\n",
       "    <tr>\n",
       "      <td>1</td>\n",
       "      <td>7</td>\n",
       "      <td>3350000.0</td>\n",
       "      <td>40.40</td>\n",
       "      <td>2018-12-04T00:00:00</td>\n",
       "      <td>1</td>\n",
       "      <td>NaN</td>\n",
       "      <td>11.0</td>\n",
       "      <td>18.60</td>\n",
       "      <td>1</td>\n",
       "      <td>NaN</td>\n",
       "      <td>...</td>\n",
       "      <td>11.00</td>\n",
       "      <td>2.0</td>\n",
       "      <td>посёлок Шушары</td>\n",
       "      <td>12817.0</td>\n",
       "      <td>18603.0</td>\n",
       "      <td>0.0</td>\n",
       "      <td>NaN</td>\n",
       "      <td>0.0</td>\n",
       "      <td>NaN</td>\n",
       "      <td>81.0</td>\n",
       "    </tr>\n",
       "    <tr>\n",
       "      <td>2</td>\n",
       "      <td>10</td>\n",
       "      <td>5196000.0</td>\n",
       "      <td>56.00</td>\n",
       "      <td>2015-08-20T00:00:00</td>\n",
       "      <td>2</td>\n",
       "      <td>NaN</td>\n",
       "      <td>5.0</td>\n",
       "      <td>34.30</td>\n",
       "      <td>4</td>\n",
       "      <td>NaN</td>\n",
       "      <td>...</td>\n",
       "      <td>8.30</td>\n",
       "      <td>0.0</td>\n",
       "      <td>Санкт-Петербург</td>\n",
       "      <td>21741.0</td>\n",
       "      <td>13933.0</td>\n",
       "      <td>1.0</td>\n",
       "      <td>90.0</td>\n",
       "      <td>2.0</td>\n",
       "      <td>574.0</td>\n",
       "      <td>558.0</td>\n",
       "    </tr>\n",
       "    <tr>\n",
       "      <td>3</td>\n",
       "      <td>0</td>\n",
       "      <td>64900000.0</td>\n",
       "      <td>159.00</td>\n",
       "      <td>2015-07-24T00:00:00</td>\n",
       "      <td>3</td>\n",
       "      <td>NaN</td>\n",
       "      <td>14.0</td>\n",
       "      <td>NaN</td>\n",
       "      <td>9</td>\n",
       "      <td>NaN</td>\n",
       "      <td>...</td>\n",
       "      <td>NaN</td>\n",
       "      <td>0.0</td>\n",
       "      <td>Санкт-Петербург</td>\n",
       "      <td>28098.0</td>\n",
       "      <td>6800.0</td>\n",
       "      <td>2.0</td>\n",
       "      <td>84.0</td>\n",
       "      <td>3.0</td>\n",
       "      <td>234.0</td>\n",
       "      <td>424.0</td>\n",
       "    </tr>\n",
       "    <tr>\n",
       "      <td>4</td>\n",
       "      <td>2</td>\n",
       "      <td>10000000.0</td>\n",
       "      <td>100.00</td>\n",
       "      <td>2018-06-19T00:00:00</td>\n",
       "      <td>2</td>\n",
       "      <td>3.03</td>\n",
       "      <td>14.0</td>\n",
       "      <td>32.00</td>\n",
       "      <td>13</td>\n",
       "      <td>NaN</td>\n",
       "      <td>...</td>\n",
       "      <td>41.00</td>\n",
       "      <td>NaN</td>\n",
       "      <td>Санкт-Петербург</td>\n",
       "      <td>31856.0</td>\n",
       "      <td>8098.0</td>\n",
       "      <td>2.0</td>\n",
       "      <td>112.0</td>\n",
       "      <td>1.0</td>\n",
       "      <td>48.0</td>\n",
       "      <td>121.0</td>\n",
       "    </tr>\n",
       "    <tr>\n",
       "      <td>5</td>\n",
       "      <td>10</td>\n",
       "      <td>2890000.0</td>\n",
       "      <td>30.40</td>\n",
       "      <td>2018-09-10T00:00:00</td>\n",
       "      <td>1</td>\n",
       "      <td>NaN</td>\n",
       "      <td>12.0</td>\n",
       "      <td>14.40</td>\n",
       "      <td>5</td>\n",
       "      <td>NaN</td>\n",
       "      <td>...</td>\n",
       "      <td>9.10</td>\n",
       "      <td>NaN</td>\n",
       "      <td>городской посёлок Янино-1</td>\n",
       "      <td>NaN</td>\n",
       "      <td>NaN</td>\n",
       "      <td>NaN</td>\n",
       "      <td>NaN</td>\n",
       "      <td>NaN</td>\n",
       "      <td>NaN</td>\n",
       "      <td>55.0</td>\n",
       "    </tr>\n",
       "    <tr>\n",
       "      <td>6</td>\n",
       "      <td>6</td>\n",
       "      <td>3700000.0</td>\n",
       "      <td>37.30</td>\n",
       "      <td>2017-11-02T00:00:00</td>\n",
       "      <td>1</td>\n",
       "      <td>NaN</td>\n",
       "      <td>26.0</td>\n",
       "      <td>10.60</td>\n",
       "      <td>6</td>\n",
       "      <td>NaN</td>\n",
       "      <td>...</td>\n",
       "      <td>14.40</td>\n",
       "      <td>1.0</td>\n",
       "      <td>посёлок Парголово</td>\n",
       "      <td>52996.0</td>\n",
       "      <td>19143.0</td>\n",
       "      <td>0.0</td>\n",
       "      <td>NaN</td>\n",
       "      <td>0.0</td>\n",
       "      <td>NaN</td>\n",
       "      <td>155.0</td>\n",
       "    </tr>\n",
       "    <tr>\n",
       "      <td>7</td>\n",
       "      <td>5</td>\n",
       "      <td>7915000.0</td>\n",
       "      <td>71.60</td>\n",
       "      <td>2019-04-18T00:00:00</td>\n",
       "      <td>2</td>\n",
       "      <td>NaN</td>\n",
       "      <td>24.0</td>\n",
       "      <td>NaN</td>\n",
       "      <td>22</td>\n",
       "      <td>NaN</td>\n",
       "      <td>...</td>\n",
       "      <td>18.90</td>\n",
       "      <td>2.0</td>\n",
       "      <td>Санкт-Петербург</td>\n",
       "      <td>23982.0</td>\n",
       "      <td>11634.0</td>\n",
       "      <td>0.0</td>\n",
       "      <td>NaN</td>\n",
       "      <td>0.0</td>\n",
       "      <td>NaN</td>\n",
       "      <td>NaN</td>\n",
       "    </tr>\n",
       "    <tr>\n",
       "      <td>8</td>\n",
       "      <td>20</td>\n",
       "      <td>2900000.0</td>\n",
       "      <td>33.16</td>\n",
       "      <td>2018-05-23T00:00:00</td>\n",
       "      <td>1</td>\n",
       "      <td>NaN</td>\n",
       "      <td>27.0</td>\n",
       "      <td>15.43</td>\n",
       "      <td>26</td>\n",
       "      <td>NaN</td>\n",
       "      <td>...</td>\n",
       "      <td>8.81</td>\n",
       "      <td>NaN</td>\n",
       "      <td>посёлок Мурино</td>\n",
       "      <td>NaN</td>\n",
       "      <td>NaN</td>\n",
       "      <td>NaN</td>\n",
       "      <td>NaN</td>\n",
       "      <td>NaN</td>\n",
       "      <td>NaN</td>\n",
       "      <td>189.0</td>\n",
       "    </tr>\n",
       "    <tr>\n",
       "      <td>9</td>\n",
       "      <td>18</td>\n",
       "      <td>5400000.0</td>\n",
       "      <td>61.00</td>\n",
       "      <td>2017-02-26T00:00:00</td>\n",
       "      <td>3</td>\n",
       "      <td>2.50</td>\n",
       "      <td>9.0</td>\n",
       "      <td>43.60</td>\n",
       "      <td>7</td>\n",
       "      <td>NaN</td>\n",
       "      <td>...</td>\n",
       "      <td>6.50</td>\n",
       "      <td>2.0</td>\n",
       "      <td>Санкт-Петербург</td>\n",
       "      <td>50898.0</td>\n",
       "      <td>15008.0</td>\n",
       "      <td>0.0</td>\n",
       "      <td>NaN</td>\n",
       "      <td>0.0</td>\n",
       "      <td>NaN</td>\n",
       "      <td>289.0</td>\n",
       "    </tr>\n",
       "  </tbody>\n",
       "</table>\n",
       "<p>10 rows × 22 columns</p>\n",
       "</div>"
      ],
      "text/plain": [
       "   total_images  last_price  total_area first_day_exposition  rooms  \\\n",
       "0            20  13000000.0      108.00  2019-03-07T00:00:00      3   \n",
       "1             7   3350000.0       40.40  2018-12-04T00:00:00      1   \n",
       "2            10   5196000.0       56.00  2015-08-20T00:00:00      2   \n",
       "3             0  64900000.0      159.00  2015-07-24T00:00:00      3   \n",
       "4             2  10000000.0      100.00  2018-06-19T00:00:00      2   \n",
       "5            10   2890000.0       30.40  2018-09-10T00:00:00      1   \n",
       "6             6   3700000.0       37.30  2017-11-02T00:00:00      1   \n",
       "7             5   7915000.0       71.60  2019-04-18T00:00:00      2   \n",
       "8            20   2900000.0       33.16  2018-05-23T00:00:00      1   \n",
       "9            18   5400000.0       61.00  2017-02-26T00:00:00      3   \n",
       "\n",
       "   ceiling_height  floors_total  living_area  floor is_apartment  ...  \\\n",
       "0            2.70          16.0        51.00      8          NaN  ...   \n",
       "1             NaN          11.0        18.60      1          NaN  ...   \n",
       "2             NaN           5.0        34.30      4          NaN  ...   \n",
       "3             NaN          14.0          NaN      9          NaN  ...   \n",
       "4            3.03          14.0        32.00     13          NaN  ...   \n",
       "5             NaN          12.0        14.40      5          NaN  ...   \n",
       "6             NaN          26.0        10.60      6          NaN  ...   \n",
       "7             NaN          24.0          NaN     22          NaN  ...   \n",
       "8             NaN          27.0        15.43     26          NaN  ...   \n",
       "9            2.50           9.0        43.60      7          NaN  ...   \n",
       "\n",
       "   kitchen_area  balcony              locality_name  airports_nearest  \\\n",
       "0         25.00      NaN            Санкт-Петербург           18863.0   \n",
       "1         11.00      2.0             посёлок Шушары           12817.0   \n",
       "2          8.30      0.0            Санкт-Петербург           21741.0   \n",
       "3           NaN      0.0            Санкт-Петербург           28098.0   \n",
       "4         41.00      NaN            Санкт-Петербург           31856.0   \n",
       "5          9.10      NaN  городской посёлок Янино-1               NaN   \n",
       "6         14.40      1.0          посёлок Парголово           52996.0   \n",
       "7         18.90      2.0            Санкт-Петербург           23982.0   \n",
       "8          8.81      NaN             посёлок Мурино               NaN   \n",
       "9          6.50      2.0            Санкт-Петербург           50898.0   \n",
       "\n",
       "  cityCenters_nearest  parks_around3000  parks_nearest  ponds_around3000  \\\n",
       "0             16028.0               1.0          482.0               2.0   \n",
       "1             18603.0               0.0            NaN               0.0   \n",
       "2             13933.0               1.0           90.0               2.0   \n",
       "3              6800.0               2.0           84.0               3.0   \n",
       "4              8098.0               2.0          112.0               1.0   \n",
       "5                 NaN               NaN            NaN               NaN   \n",
       "6             19143.0               0.0            NaN               0.0   \n",
       "7             11634.0               0.0            NaN               0.0   \n",
       "8                 NaN               NaN            NaN               NaN   \n",
       "9             15008.0               0.0            NaN               0.0   \n",
       "\n",
       "   ponds_nearest  days_exposition  \n",
       "0          755.0              NaN  \n",
       "1            NaN             81.0  \n",
       "2          574.0            558.0  \n",
       "3          234.0            424.0  \n",
       "4           48.0            121.0  \n",
       "5            NaN             55.0  \n",
       "6            NaN            155.0  \n",
       "7            NaN              NaN  \n",
       "8            NaN            189.0  \n",
       "9            NaN            289.0  \n",
       "\n",
       "[10 rows x 22 columns]"
      ]
     },
     "execution_count": 2,
     "metadata": {},
     "output_type": "execute_result"
    }
   ],
   "source": [
    "flats.head(10)"
   ]
  },
  {
   "cell_type": "code",
   "execution_count": 3,
   "metadata": {},
   "outputs": [
    {
     "data": {
      "text/plain": [
       "(23699, 22)"
      ]
     },
     "execution_count": 3,
     "metadata": {},
     "output_type": "execute_result"
    }
   ],
   "source": [
    "flats.shape"
   ]
  },
  {
   "cell_type": "markdown",
   "metadata": {},
   "source": [
    "### Вывод"
   ]
  },
  {
   "cell_type": "markdown",
   "metadata": {},
   "source": [
    "Параметром sep были разделены данные чтобы их проще было читать. "
   ]
  },
  {
   "cell_type": "markdown",
   "metadata": {},
   "source": [
    "### Шаг 2. Предобработка данных"
   ]
  },
  {
   "cell_type": "code",
   "execution_count": 4,
   "metadata": {},
   "outputs": [
    {
     "data": {
      "text/plain": [
       "total_images                0\n",
       "last_price                  0\n",
       "total_area                  0\n",
       "first_day_exposition        0\n",
       "rooms                       0\n",
       "ceiling_height           9195\n",
       "floors_total               86\n",
       "living_area              1903\n",
       "floor                       0\n",
       "is_apartment            20924\n",
       "studio                      0\n",
       "open_plan                   0\n",
       "kitchen_area             2278\n",
       "balcony                 11519\n",
       "locality_name              49\n",
       "airports_nearest         5542\n",
       "cityCenters_nearest      5519\n",
       "parks_around3000         5518\n",
       "parks_nearest           15620\n",
       "ponds_around3000         5518\n",
       "ponds_nearest           14589\n",
       "days_exposition          3181\n",
       "dtype: int64"
      ]
     },
     "execution_count": 4,
     "metadata": {},
     "output_type": "execute_result"
    }
   ],
   "source": [
    "flats.isnull().sum()"
   ]
  },
  {
   "cell_type": "code",
   "execution_count": 5,
   "metadata": {},
   "outputs": [
    {
     "data": {
      "text/plain": [
       "0"
      ]
     },
     "execution_count": 5,
     "metadata": {},
     "output_type": "execute_result"
    }
   ],
   "source": [
    "flats.duplicated().sum()"
   ]
  },
  {
   "cell_type": "markdown",
   "metadata": {},
   "source": [
    "Мы имеем пропуски в следующих стобцах:\n",
    "\n",
    "ceiling_height - высота потолков. К сожалению, эти пропуски придется оставить, но надо сообщить о них команде. \n",
    "\n",
    "floors_total - всего этажей. Пока тоже оставим. Ни среднее, ни медиану сюда не подставить. \n",
    "\n",
    "living_area - жилая площадь. Так как у нас есть апартаменты, то возможно, эти пропуски связаны с ними. Надо проверить. \n",
    "\n",
    "is_apartment - аппартаменты это или нет. Важная информация, надо передать ин-фц команде о пропусках. \n",
    "\n",
    "kitchen_area - площадь кухни. Опять стоит поискать зависимость с апартаментами. \n",
    "\n",
    "balcony - коллиечство балконов - пропуски можно заменить на 0. \n",
    "\n",
    "locality_name - название населенного пункта. Сообщить команде.\n",
    "\n",
    "airports_nearest - расстояние до ближ аэропорта. Оставим как есть. \n",
    "\n",
    "cityCenters_nearest - растояние до центра. Оставим как есть. \n",
    "\n",
    "parks_around3000 - парки в районе 3000м. Оставим как есть \n",
    "\n",
    "ponds_nearest - парки рядом. Оставим как есть.\n",
    "\n",
    "days_exposition - срок размещения объявления. Сообщить команде, что есть пропуски по этому пункту.  "
   ]
  },
  {
   "cell_type": "code",
   "execution_count": 6,
   "metadata": {},
   "outputs": [
    {
     "data": {
      "text/plain": [
       "is_apartment\n",
       "False    31.00\n",
       "True     33.25\n",
       "Name: living_area, dtype: float64"
      ]
     },
     "execution_count": 6,
     "metadata": {},
     "output_type": "execute_result"
    }
   ],
   "source": [
    "flats_grouped = flats.groupby('is_apartment')['living_area'].median()\n",
    "flats_grouped"
   ]
  },
  {
   "cell_type": "code",
   "execution_count": 7,
   "metadata": {},
   "outputs": [
    {
     "data": {
      "text/plain": [
       "is_apartment\n",
       "False     9.8\n",
       "True     11.7\n",
       "Name: kitchen_area, dtype: float64"
      ]
     },
     "execution_count": 7,
     "metadata": {},
     "output_type": "execute_result"
    }
   ],
   "source": [
    "flats_grouped = flats.groupby('is_apartment')['kitchen_area'].median()\n",
    "flats_grouped"
   ]
  },
  {
   "cell_type": "code",
   "execution_count": 8,
   "metadata": {},
   "outputs": [],
   "source": [
    "flats['balcony'] = flats['balcony'].fillna(0)\n",
    "flats['ceiling_height'] = flats['ceiling_height'].fillna(0)\n"
   ]
  },
  {
   "cell_type": "code",
   "execution_count": 9,
   "metadata": {},
   "outputs": [
    {
     "data": {
      "text/plain": [
       "9.742446416130512"
      ]
     },
     "execution_count": 9,
     "metadata": {},
     "output_type": "execute_result"
    }
   ],
   "source": [
    "flats_k_area_new = flats['kitchen_area'] / flats['total_area']\n",
    "flats_k_area_new_1 = flats_k_area_new.mean()\n",
    "flats_k_area_new_2 = flats_k_area_new_1 * flats['total_area']\n",
    "flats_k_area_new_2.median()"
   ]
  },
  {
   "cell_type": "code",
   "execution_count": 10,
   "metadata": {},
   "outputs": [
    {
     "data": {
      "text/plain": [
       "9.1"
      ]
     },
     "execution_count": 10,
     "metadata": {},
     "output_type": "execute_result"
    }
   ],
   "source": [
    "flats['kitchen_area'].median()"
   ]
  },
  {
   "cell_type": "code",
   "execution_count": 11,
   "metadata": {},
   "outputs": [
    {
     "data": {
      "text/plain": [
       "30.0"
      ]
     },
     "execution_count": 11,
     "metadata": {},
     "output_type": "execute_result"
    }
   ],
   "source": [
    "flats['living_area'].median()"
   ]
  },
  {
   "cell_type": "code",
   "execution_count": 12,
   "metadata": {},
   "outputs": [
    {
     "data": {
      "text/plain": [
       "29.367807128364817"
      ]
     },
     "execution_count": 12,
     "metadata": {},
     "output_type": "execute_result"
    }
   ],
   "source": [
    "flats_l_area_new = flats['living_area'] / flats['total_area']\n",
    "flats_l_area_new_1 = flats_l_area_new.mean()\n",
    "flats_l_area_new_2 = flats_l_area_new_1 * flats['total_area']\n",
    "flats_l_area_new_2.median()"
   ]
  },
  {
   "cell_type": "code",
   "execution_count": 13,
   "metadata": {},
   "outputs": [],
   "source": [
    "flats['living_area'] = flats['living_area'].fillna(flats_l_area_new_2)"
   ]
  },
  {
   "cell_type": "code",
   "execution_count": 14,
   "metadata": {},
   "outputs": [],
   "source": [
    "flats['kitchen_area'] = flats['kitchen_area'].fillna(flats_k_area_new_2)"
   ]
  },
  {
   "cell_type": "code",
   "execution_count": 15,
   "metadata": {},
   "outputs": [],
   "source": [
    "flats['ceiling_height'] = flats['ceiling_height'].fillna(0)"
   ]
  },
  {
   "cell_type": "code",
   "execution_count": 16,
   "metadata": {},
   "outputs": [
    {
     "data": {
      "text/plain": [
       "total_images                0\n",
       "last_price                  0\n",
       "total_area                  0\n",
       "first_day_exposition        0\n",
       "rooms                       0\n",
       "ceiling_height              0\n",
       "floors_total               86\n",
       "living_area                 0\n",
       "floor                       0\n",
       "is_apartment            20924\n",
       "studio                      0\n",
       "open_plan                   0\n",
       "kitchen_area                0\n",
       "balcony                     0\n",
       "locality_name              49\n",
       "airports_nearest         5542\n",
       "cityCenters_nearest      5519\n",
       "parks_around3000         5518\n",
       "parks_nearest           15620\n",
       "ponds_around3000         5518\n",
       "ponds_nearest           14589\n",
       "days_exposition          3181\n",
       "dtype: int64"
      ]
     },
     "execution_count": 16,
     "metadata": {},
     "output_type": "execute_result"
    }
   ],
   "source": [
    "flats.isnull().sum()"
   ]
  },
  {
   "cell_type": "markdown",
   "metadata": {},
   "source": [
    "Заменили пропуски в 'balcony' так как если там ничего не указано, то скорее всего их 0. Зависимость пропусков в 'kitchen_area' и  'living_area' от того, апартаменты это или нет, замечено не было. Так что везде, где пропуски нечем заменить, оставим пустое значение. Отсуствующие значения в высоте потолков заменили на 0. Пропуски в стобцах living_area и kitchen_area заменили на расчеты(средняя длина кухни/жил площади умноженные на общую площадь квартиры. Медианое значение кухни поменялось с  9.1 на 9.7. Медианное значение жил площади с 30.0 на 29.3.\n",
    "\n",
    "Пропуски не выглядт как какая-то закономерность. Вполне возможно, что они появились при невнимательном заполнении. "
   ]
  },
  {
   "cell_type": "code",
   "execution_count": 17,
   "metadata": {},
   "outputs": [
    {
     "data": {
      "text/plain": [
       "total_images              int64\n",
       "last_price              float64\n",
       "total_area              float64\n",
       "first_day_exposition     object\n",
       "rooms                     int64\n",
       "ceiling_height          float64\n",
       "floors_total            float64\n",
       "living_area             float64\n",
       "floor                     int64\n",
       "is_apartment             object\n",
       "studio                     bool\n",
       "open_plan                  bool\n",
       "kitchen_area            float64\n",
       "balcony                 float64\n",
       "locality_name            object\n",
       "airports_nearest        float64\n",
       "cityCenters_nearest     float64\n",
       "parks_around3000        float64\n",
       "parks_nearest           float64\n",
       "ponds_around3000        float64\n",
       "ponds_nearest           float64\n",
       "days_exposition         float64\n",
       "dtype: object"
      ]
     },
     "execution_count": 17,
     "metadata": {},
     "output_type": "execute_result"
    }
   ],
   "source": [
    "flats.dtypes"
   ]
  },
  {
   "cell_type": "code",
   "execution_count": 18,
   "metadata": {},
   "outputs": [
    {
     "name": "stdout",
     "output_type": "stream",
     "text": [
      "total_images              int64\n",
      "last_price                int64\n",
      "total_area              float64\n",
      "first_day_exposition     object\n",
      "rooms                     int64\n",
      "ceiling_height          float64\n",
      "floors_total            float64\n",
      "living_area             float64\n",
      "floor                     int64\n",
      "is_apartment               bool\n",
      "studio                     bool\n",
      "open_plan                  bool\n",
      "kitchen_area            float64\n",
      "balcony                   int64\n",
      "locality_name            object\n",
      "airports_nearest        float64\n",
      "cityCenters_nearest     float64\n",
      "parks_around3000        float64\n",
      "parks_nearest           float64\n",
      "ponds_around3000        float64\n",
      "ponds_nearest           float64\n",
      "days_exposition         float64\n",
      "dtype: object\n"
     ]
    }
   ],
   "source": [
    "convert_dict = {        \n",
    "                'balcony': int,\n",
    "                'is_apartment': bool,\n",
    "                'last_price': int,\n",
    "               } \n",
    " \n",
    "flats = flats.astype(convert_dict) \n",
    "print(flats.dtypes) "
   ]
  },
  {
   "cell_type": "markdown",
   "metadata": {},
   "source": [
    "Перевели balcony в int, is_apartment в bool, last_price в целочисленные значения. Столбцы living_area, total_area, ceiling_height, kitchen_area считаю не нужным переводить в тип данных int, так как изначалльно нам важны тут числа не целочисленные."
   ]
  },
  {
   "cell_type": "markdown",
   "metadata": {},
   "source": [
    "### Шаг 3. Посчитайте и добавьте в таблицу"
   ]
  },
  {
   "cell_type": "code",
   "execution_count": 19,
   "metadata": {},
   "outputs": [],
   "source": [
    "flats['price_meter'] = flats['last_price'] / flats['total_area']"
   ]
  },
  {
   "cell_type": "code",
   "execution_count": 20,
   "metadata": {},
   "outputs": [
    {
     "data": {
      "text/plain": [
       "0    2019-03-07T00:00:00\n",
       "1    2018-12-04T00:00:00\n",
       "2    2015-08-20T00:00:00\n",
       "3    2015-07-24T00:00:00\n",
       "4    2018-06-19T00:00:00\n",
       "Name: first_day_exposition, dtype: object"
      ]
     },
     "execution_count": 20,
     "metadata": {},
     "output_type": "execute_result"
    }
   ],
   "source": [
    " flats['first_day_exposition'].head(5)"
   ]
  },
  {
   "cell_type": "code",
   "execution_count": 21,
   "metadata": {},
   "outputs": [],
   "source": [
    "flats['first_day_exposition'] = pd.to_datetime(flats['first_day_exposition'],format='%Y-%m-%d %H:%M')\n",
    "flats['first_weekday_exposition'] = flats['first_day_exposition'].dt.weekday \n",
    "flats['first_month_exposition'] = pd.DatetimeIndex(flats['first_day_exposition']).month\n",
    "flats['first_year_exposition'] = pd.DatetimeIndex(flats['first_day_exposition']).year\n"
   ]
  },
  {
   "cell_type": "code",
   "execution_count": 22,
   "metadata": {},
   "outputs": [
    {
     "data": {
      "text/plain": [
       "другой       17446\n",
       "последний     3336\n",
       "первый        2917\n",
       "Name: floor_name, dtype: int64"
      ]
     },
     "execution_count": 22,
     "metadata": {},
     "output_type": "execute_result"
    }
   ],
   "source": [
    "def floor_name(row):\n",
    "    floor = row['floor']\n",
    "    floors_total = row['floors_total']\n",
    "    if floor != 1 and floor != floors_total:\n",
    "        return 'другой'\n",
    "    if floor != 1 and floor == floors_total:\n",
    "        return 'последний'\n",
    "    if floor == 1:\n",
    "        return 'первый'\n",
    "    return 'неизвестно'\n",
    "flats['floor_name'] = flats.apply(floor_name, axis=1)\n",
    "flats['floor_name'].value_counts()\n",
    "    "
   ]
  },
  {
   "cell_type": "code",
   "execution_count": 23,
   "metadata": {},
   "outputs": [
    {
     "data": {
      "text/html": [
       "<div>\n",
       "<style scoped>\n",
       "    .dataframe tbody tr th:only-of-type {\n",
       "        vertical-align: middle;\n",
       "    }\n",
       "\n",
       "    .dataframe tbody tr th {\n",
       "        vertical-align: top;\n",
       "    }\n",
       "\n",
       "    .dataframe thead th {\n",
       "        text-align: right;\n",
       "    }\n",
       "</style>\n",
       "<table border=\"1\" class=\"dataframe\">\n",
       "  <thead>\n",
       "    <tr style=\"text-align: right;\">\n",
       "      <th></th>\n",
       "      <th>total_images</th>\n",
       "      <th>last_price</th>\n",
       "      <th>total_area</th>\n",
       "      <th>first_day_exposition</th>\n",
       "      <th>rooms</th>\n",
       "      <th>ceiling_height</th>\n",
       "      <th>floors_total</th>\n",
       "      <th>living_area</th>\n",
       "      <th>floor</th>\n",
       "      <th>is_apartment</th>\n",
       "      <th>...</th>\n",
       "      <th>ponds_around3000</th>\n",
       "      <th>ponds_nearest</th>\n",
       "      <th>days_exposition</th>\n",
       "      <th>price_meter</th>\n",
       "      <th>first_weekday_exposition</th>\n",
       "      <th>first_month_exposition</th>\n",
       "      <th>first_year_exposition</th>\n",
       "      <th>floor_name</th>\n",
       "      <th>living_to_total</th>\n",
       "      <th>kitchen_to_total</th>\n",
       "    </tr>\n",
       "  </thead>\n",
       "  <tbody>\n",
       "    <tr>\n",
       "      <td>0</td>\n",
       "      <td>20</td>\n",
       "      <td>13000000</td>\n",
       "      <td>108.00</td>\n",
       "      <td>2019-03-07</td>\n",
       "      <td>3</td>\n",
       "      <td>2.70</td>\n",
       "      <td>16.0</td>\n",
       "      <td>51.000000</td>\n",
       "      <td>8</td>\n",
       "      <td>True</td>\n",
       "      <td>...</td>\n",
       "      <td>2.0</td>\n",
       "      <td>755.0</td>\n",
       "      <td>NaN</td>\n",
       "      <td>120370.370370</td>\n",
       "      <td>3</td>\n",
       "      <td>3</td>\n",
       "      <td>2019</td>\n",
       "      <td>другой</td>\n",
       "      <td>0.472222</td>\n",
       "      <td>0.231481</td>\n",
       "    </tr>\n",
       "    <tr>\n",
       "      <td>1</td>\n",
       "      <td>7</td>\n",
       "      <td>3350000</td>\n",
       "      <td>40.40</td>\n",
       "      <td>2018-12-04</td>\n",
       "      <td>1</td>\n",
       "      <td>0.00</td>\n",
       "      <td>11.0</td>\n",
       "      <td>18.600000</td>\n",
       "      <td>1</td>\n",
       "      <td>True</td>\n",
       "      <td>...</td>\n",
       "      <td>0.0</td>\n",
       "      <td>NaN</td>\n",
       "      <td>81.0</td>\n",
       "      <td>82920.792079</td>\n",
       "      <td>1</td>\n",
       "      <td>12</td>\n",
       "      <td>2018</td>\n",
       "      <td>первый</td>\n",
       "      <td>0.460396</td>\n",
       "      <td>0.272277</td>\n",
       "    </tr>\n",
       "    <tr>\n",
       "      <td>2</td>\n",
       "      <td>10</td>\n",
       "      <td>5196000</td>\n",
       "      <td>56.00</td>\n",
       "      <td>2015-08-20</td>\n",
       "      <td>2</td>\n",
       "      <td>0.00</td>\n",
       "      <td>5.0</td>\n",
       "      <td>34.300000</td>\n",
       "      <td>4</td>\n",
       "      <td>True</td>\n",
       "      <td>...</td>\n",
       "      <td>2.0</td>\n",
       "      <td>574.0</td>\n",
       "      <td>558.0</td>\n",
       "      <td>92785.714286</td>\n",
       "      <td>3</td>\n",
       "      <td>8</td>\n",
       "      <td>2015</td>\n",
       "      <td>другой</td>\n",
       "      <td>0.612500</td>\n",
       "      <td>0.148214</td>\n",
       "    </tr>\n",
       "    <tr>\n",
       "      <td>3</td>\n",
       "      <td>0</td>\n",
       "      <td>64900000</td>\n",
       "      <td>159.00</td>\n",
       "      <td>2015-07-24</td>\n",
       "      <td>3</td>\n",
       "      <td>0.00</td>\n",
       "      <td>14.0</td>\n",
       "      <td>89.797718</td>\n",
       "      <td>9</td>\n",
       "      <td>True</td>\n",
       "      <td>...</td>\n",
       "      <td>3.0</td>\n",
       "      <td>234.0</td>\n",
       "      <td>424.0</td>\n",
       "      <td>408176.100629</td>\n",
       "      <td>4</td>\n",
       "      <td>7</td>\n",
       "      <td>2015</td>\n",
       "      <td>другой</td>\n",
       "      <td>0.564766</td>\n",
       "      <td>0.187355</td>\n",
       "    </tr>\n",
       "    <tr>\n",
       "      <td>4</td>\n",
       "      <td>2</td>\n",
       "      <td>10000000</td>\n",
       "      <td>100.00</td>\n",
       "      <td>2018-06-19</td>\n",
       "      <td>2</td>\n",
       "      <td>3.03</td>\n",
       "      <td>14.0</td>\n",
       "      <td>32.000000</td>\n",
       "      <td>13</td>\n",
       "      <td>True</td>\n",
       "      <td>...</td>\n",
       "      <td>1.0</td>\n",
       "      <td>48.0</td>\n",
       "      <td>121.0</td>\n",
       "      <td>100000.000000</td>\n",
       "      <td>1</td>\n",
       "      <td>6</td>\n",
       "      <td>2018</td>\n",
       "      <td>другой</td>\n",
       "      <td>0.320000</td>\n",
       "      <td>0.410000</td>\n",
       "    </tr>\n",
       "    <tr>\n",
       "      <td>5</td>\n",
       "      <td>10</td>\n",
       "      <td>2890000</td>\n",
       "      <td>30.40</td>\n",
       "      <td>2018-09-10</td>\n",
       "      <td>1</td>\n",
       "      <td>0.00</td>\n",
       "      <td>12.0</td>\n",
       "      <td>14.400000</td>\n",
       "      <td>5</td>\n",
       "      <td>True</td>\n",
       "      <td>...</td>\n",
       "      <td>NaN</td>\n",
       "      <td>NaN</td>\n",
       "      <td>55.0</td>\n",
       "      <td>95065.789474</td>\n",
       "      <td>0</td>\n",
       "      <td>9</td>\n",
       "      <td>2018</td>\n",
       "      <td>другой</td>\n",
       "      <td>0.473684</td>\n",
       "      <td>0.299342</td>\n",
       "    </tr>\n",
       "    <tr>\n",
       "      <td>6</td>\n",
       "      <td>6</td>\n",
       "      <td>3700000</td>\n",
       "      <td>37.30</td>\n",
       "      <td>2017-11-02</td>\n",
       "      <td>1</td>\n",
       "      <td>0.00</td>\n",
       "      <td>26.0</td>\n",
       "      <td>10.600000</td>\n",
       "      <td>6</td>\n",
       "      <td>True</td>\n",
       "      <td>...</td>\n",
       "      <td>0.0</td>\n",
       "      <td>NaN</td>\n",
       "      <td>155.0</td>\n",
       "      <td>99195.710456</td>\n",
       "      <td>3</td>\n",
       "      <td>11</td>\n",
       "      <td>2017</td>\n",
       "      <td>другой</td>\n",
       "      <td>0.284182</td>\n",
       "      <td>0.386059</td>\n",
       "    </tr>\n",
       "    <tr>\n",
       "      <td>7</td>\n",
       "      <td>5</td>\n",
       "      <td>7915000</td>\n",
       "      <td>71.60</td>\n",
       "      <td>2019-04-18</td>\n",
       "      <td>2</td>\n",
       "      <td>0.00</td>\n",
       "      <td>24.0</td>\n",
       "      <td>40.437211</td>\n",
       "      <td>22</td>\n",
       "      <td>True</td>\n",
       "      <td>...</td>\n",
       "      <td>0.0</td>\n",
       "      <td>NaN</td>\n",
       "      <td>NaN</td>\n",
       "      <td>110544.692737</td>\n",
       "      <td>3</td>\n",
       "      <td>4</td>\n",
       "      <td>2019</td>\n",
       "      <td>другой</td>\n",
       "      <td>0.564766</td>\n",
       "      <td>0.263966</td>\n",
       "    </tr>\n",
       "    <tr>\n",
       "      <td>8</td>\n",
       "      <td>20</td>\n",
       "      <td>2900000</td>\n",
       "      <td>33.16</td>\n",
       "      <td>2018-05-23</td>\n",
       "      <td>1</td>\n",
       "      <td>0.00</td>\n",
       "      <td>27.0</td>\n",
       "      <td>15.430000</td>\n",
       "      <td>26</td>\n",
       "      <td>True</td>\n",
       "      <td>...</td>\n",
       "      <td>NaN</td>\n",
       "      <td>NaN</td>\n",
       "      <td>189.0</td>\n",
       "      <td>87454.764777</td>\n",
       "      <td>2</td>\n",
       "      <td>5</td>\n",
       "      <td>2018</td>\n",
       "      <td>другой</td>\n",
       "      <td>0.465320</td>\n",
       "      <td>0.265682</td>\n",
       "    </tr>\n",
       "    <tr>\n",
       "      <td>9</td>\n",
       "      <td>18</td>\n",
       "      <td>5400000</td>\n",
       "      <td>61.00</td>\n",
       "      <td>2017-02-26</td>\n",
       "      <td>3</td>\n",
       "      <td>2.50</td>\n",
       "      <td>9.0</td>\n",
       "      <td>43.600000</td>\n",
       "      <td>7</td>\n",
       "      <td>True</td>\n",
       "      <td>...</td>\n",
       "      <td>0.0</td>\n",
       "      <td>NaN</td>\n",
       "      <td>289.0</td>\n",
       "      <td>88524.590164</td>\n",
       "      <td>6</td>\n",
       "      <td>2</td>\n",
       "      <td>2017</td>\n",
       "      <td>другой</td>\n",
       "      <td>0.714754</td>\n",
       "      <td>0.106557</td>\n",
       "    </tr>\n",
       "  </tbody>\n",
       "</table>\n",
       "<p>10 rows × 29 columns</p>\n",
       "</div>"
      ],
      "text/plain": [
       "   total_images  last_price  total_area first_day_exposition  rooms  \\\n",
       "0            20    13000000      108.00           2019-03-07      3   \n",
       "1             7     3350000       40.40           2018-12-04      1   \n",
       "2            10     5196000       56.00           2015-08-20      2   \n",
       "3             0    64900000      159.00           2015-07-24      3   \n",
       "4             2    10000000      100.00           2018-06-19      2   \n",
       "5            10     2890000       30.40           2018-09-10      1   \n",
       "6             6     3700000       37.30           2017-11-02      1   \n",
       "7             5     7915000       71.60           2019-04-18      2   \n",
       "8            20     2900000       33.16           2018-05-23      1   \n",
       "9            18     5400000       61.00           2017-02-26      3   \n",
       "\n",
       "   ceiling_height  floors_total  living_area  floor  is_apartment  ...  \\\n",
       "0            2.70          16.0    51.000000      8          True  ...   \n",
       "1            0.00          11.0    18.600000      1          True  ...   \n",
       "2            0.00           5.0    34.300000      4          True  ...   \n",
       "3            0.00          14.0    89.797718      9          True  ...   \n",
       "4            3.03          14.0    32.000000     13          True  ...   \n",
       "5            0.00          12.0    14.400000      5          True  ...   \n",
       "6            0.00          26.0    10.600000      6          True  ...   \n",
       "7            0.00          24.0    40.437211     22          True  ...   \n",
       "8            0.00          27.0    15.430000     26          True  ...   \n",
       "9            2.50           9.0    43.600000      7          True  ...   \n",
       "\n",
       "   ponds_around3000  ponds_nearest  days_exposition    price_meter  \\\n",
       "0               2.0          755.0              NaN  120370.370370   \n",
       "1               0.0            NaN             81.0   82920.792079   \n",
       "2               2.0          574.0            558.0   92785.714286   \n",
       "3               3.0          234.0            424.0  408176.100629   \n",
       "4               1.0           48.0            121.0  100000.000000   \n",
       "5               NaN            NaN             55.0   95065.789474   \n",
       "6               0.0            NaN            155.0   99195.710456   \n",
       "7               0.0            NaN              NaN  110544.692737   \n",
       "8               NaN            NaN            189.0   87454.764777   \n",
       "9               0.0            NaN            289.0   88524.590164   \n",
       "\n",
       "  first_weekday_exposition  first_month_exposition  first_year_exposition  \\\n",
       "0                        3                       3                   2019   \n",
       "1                        1                      12                   2018   \n",
       "2                        3                       8                   2015   \n",
       "3                        4                       7                   2015   \n",
       "4                        1                       6                   2018   \n",
       "5                        0                       9                   2018   \n",
       "6                        3                      11                   2017   \n",
       "7                        3                       4                   2019   \n",
       "8                        2                       5                   2018   \n",
       "9                        6                       2                   2017   \n",
       "\n",
       "   floor_name  living_to_total  kitchen_to_total  \n",
       "0      другой         0.472222          0.231481  \n",
       "1      первый         0.460396          0.272277  \n",
       "2      другой         0.612500          0.148214  \n",
       "3      другой         0.564766          0.187355  \n",
       "4      другой         0.320000          0.410000  \n",
       "5      другой         0.473684          0.299342  \n",
       "6      другой         0.284182          0.386059  \n",
       "7      другой         0.564766          0.263966  \n",
       "8      другой         0.465320          0.265682  \n",
       "9      другой         0.714754          0.106557  \n",
       "\n",
       "[10 rows x 29 columns]"
      ]
     },
     "execution_count": 23,
     "metadata": {},
     "output_type": "execute_result"
    }
   ],
   "source": [
    "flats['living_to_total'] = flats['living_area'] / flats['total_area'] \n",
    "flats['kitchen_to_total'] = flats['kitchen_area'] / flats['total_area']\n",
    "flats.head(10)"
   ]
  },
  {
   "cell_type": "markdown",
   "metadata": {},
   "source": [
    "Добавили в таблицу новые столбцы: 'kitchen_to_total' и 'living_to_total' - соотношение кухни к общей площади и соотношение жилой части к общей площади. Так же появился столбец с этажами 'floor_name'. price_meter - цена за метр квадратный. irst_weekday_exposition\tfirst_month_exposition\tfirst_year_exposition - день недели, месяц и год, когда было впервые опубликовано объявление. "
   ]
  },
  {
   "cell_type": "markdown",
   "metadata": {},
   "source": [
    "### Шаг 4. Проведите исследовательский анализ данных и выполните инструкции:"
   ]
  },
  {
   "cell_type": "code",
   "execution_count": 24,
   "metadata": {},
   "outputs": [],
   "source": [
    "import matplotlib.pyplot as plt"
   ]
  },
  {
   "cell_type": "code",
   "execution_count": 25,
   "metadata": {
    "scrolled": false
   },
   "outputs": [
    {
     "name": "stdout",
     "output_type": "stream",
     "text": [
      "count    23699.000000\n",
      "mean        60.348651\n",
      "std         35.654083\n",
      "min         12.000000\n",
      "25%         40.000000\n",
      "50%         52.000000\n",
      "75%         69.900000\n",
      "max        900.000000\n",
      "Name: total_area, dtype: float64\n",
      "count    2.369900e+04\n",
      "mean     6.541549e+06\n",
      "std      1.088701e+07\n",
      "min      1.219000e+04\n",
      "25%      3.400000e+06\n",
      "50%      4.650000e+06\n",
      "75%      6.800000e+06\n",
      "max      7.630000e+08\n",
      "Name: last_price, dtype: float64\n",
      "count    23699.000000\n",
      "mean         2.070636\n",
      "std          1.078405\n",
      "min          0.000000\n",
      "25%          1.000000\n",
      "50%          2.000000\n",
      "75%          3.000000\n",
      "max         19.000000\n",
      "Name: rooms, dtype: float64\n",
      "count    23699.000000\n",
      "mean         1.696182\n",
      "std          1.672495\n",
      "min          0.000000\n",
      "25%          0.000000\n",
      "50%          2.500000\n",
      "75%          2.700000\n",
      "max        100.000000\n",
      "Name: ceiling_height, dtype: float64\n"
     ]
    }
   ],
   "source": [
    "columns = ['total_area', 'last_price', 'rooms', 'ceiling_height']\n",
    "for name in columns:\n",
    "    print(flats[name].describe())"
   ]
  },
  {
   "cell_type": "code",
   "execution_count": 26,
   "metadata": {},
   "outputs": [
    {
     "data": {
      "image/png": "[encoded data removed]",
      "text/plain": [
       "<Figure size 432x288 with 1 Axes>"
      ]
     },
     "metadata": {
      "needs_background": "light"
     },
     "output_type": "display_data"
    },
    {
     "data": {
      "image/png": "[encoded data removed]",
      "text/plain": [
       "<Figure size 432x288 with 1 Axes>"
      ]
     },
     "metadata": {
      "needs_background": "light"
     },
     "output_type": "display_data"
    },
    {
     "data": {
      "image/png": "[encoded data removed]",
      "text/plain": [
       "<Figure size 432x288 with 1 Axes>"
      ]
     },
     "metadata": {
      "needs_background": "light"
     },
     "output_type": "display_data"
    },
    {
     "data": {
      "image/png": "[encoded data removed]",
      "text/plain": [
       "<Figure size 432x288 with 1 Axes>"
      ]
     },
     "metadata": {
      "needs_background": "light"
     },
     "output_type": "display_data"
    }
   ],
   "source": [
    "columns = ['total_area', 'last_price', 'rooms', 'ceiling_height']\n",
    "for name in columns:\n",
    "    flats[name].plot(title=name, kind='hist', bins=100)\n",
    "    plt.show()"
   ]
  },
  {
   "cell_type": "markdown",
   "metadata": {},
   "source": [
    "**Вывод по площади квартир** min = 12 м кв. max = 900 м кв.Средний разброс от 40 до 69 метров квадратных, что видно на графике. От 100 до 200 тоже есть квартиры. Однако выбивающиеся значения выше 250 метров кв, они встречаются редко, их даже не видно на гистрограмме. С ними позже можно будет поработать: узнать, сколько их, не ошибочные ли они, сгруппировать в отдельную категорию.   "
   ]
  },
  {
   "cell_type": "markdown",
   "metadata": {},
   "source": [
    "**Вывод по цене** Максимальная цена: 763000000, минимальная цена: 12190, медианное значение 4650000. На гистрограмме видно, что много значений близких к нулю. И минимальное значение тоже подоздрительное. Надо выяснить, с чем это может быть связано, ошибка это или нет."
   ]
  },
  {
   "cell_type": "markdown",
   "metadata": {},
   "source": [
    "**Вывод по числу комнат** С комнатами все более мение понятно. Минимальное колличество - 0 комнат - это после замены наших значений. В дальнейшем мы отбросим эти значения. Максимальное - 19 команат. так как до этого мы видели общую сумму квадратных метров, возможно, это не ошибка, но все же стоит проверить. Есть несколько значений у нуля - нужно узнать, что эт за значения. А так, чаще всего встречаются однокомнатные или двухкомнатыне крватиры, чуть реже трех, а все остальное по убывающей."
   ]
  },
  {
   "cell_type": "markdown",
   "metadata": {},
   "source": [
    "**Вывод по высоте потолков** Высота потолков в 0 метров это наши пропуски. Так же высота потолков в 100 метров. По графику видно, что наибольшое колличество в промежутке от 2,5 до 2,8 метров. В целом, это отвечает стандартам. Встречаются много значений от 3 до 4 метров. Возможно, это дома в Санкт-Петербурге, где высота потолков в старых зданиях выше обычной современной застройки. При дальнейшей работе, высота потолков в 0 метров не будет учавствовать при анализе. "
   ]
  },
  {
   "cell_type": "markdown",
   "metadata": {},
   "source": [
    "### Время продажи квартиры"
   ]
  },
  {
   "cell_type": "code",
   "execution_count": 27,
   "metadata": {},
   "outputs": [
    {
     "data": {
      "image/png": "[encoded data removed]",
      "text/plain": [
       "<Figure size 432x288 with 1 Axes>"
      ]
     },
     "metadata": {
      "needs_background": "light"
     },
     "output_type": "display_data"
    }
   ],
   "source": [
    "flats['days_exposition'].hist(bins=200, range=(0, 1600))\n",
    "plt.show()"
   ]
  },
  {
   "cell_type": "code",
   "execution_count": 28,
   "metadata": {},
   "outputs": [
    {
     "data": {
      "text/plain": [
       "180.88863436982163"
      ]
     },
     "execution_count": 28,
     "metadata": {},
     "output_type": "execute_result"
    }
   ],
   "source": [
    "flats['days_exposition'].mean()"
   ]
  },
  {
   "cell_type": "code",
   "execution_count": 29,
   "metadata": {},
   "outputs": [
    {
     "data": {
      "text/plain": [
       "95.0"
      ]
     },
     "execution_count": 29,
     "metadata": {},
     "output_type": "execute_result"
    }
   ],
   "source": [
    "flats['days_exposition'].median()"
   ]
  },
  {
   "cell_type": "code",
   "execution_count": 30,
   "metadata": {},
   "outputs": [
    {
     "data": {
      "text/plain": [
       "count    20518.000000\n",
       "mean       180.888634\n",
       "std        219.727988\n",
       "min          1.000000\n",
       "25%         45.000000\n",
       "50%         95.000000\n",
       "75%        232.000000\n",
       "max       1580.000000\n",
       "Name: days_exposition, dtype: float64"
      ]
     },
     "execution_count": 30,
     "metadata": {},
     "output_type": "execute_result"
    }
   ],
   "source": [
    "flats['days_exposition'].describe()"
   ]
  },
  {
   "cell_type": "markdown",
   "metadata": {},
   "source": [
    "Минимальное значение - один день. Допустим, что такое может быть, тем более на гистограмме видно, что значений около 0 достаточно много. Больше вопросов у максимального значение - 1580 дней - объявление находилось на сайте больше 4 лет. Кажется не очень правдопадобным. Стоит это проверить. В целом, есть длинный хвост, после 1000 дней. Надо обратить на это внимание. Если продажа укладывается в 1 день - то это можнно считать очень быстрый разультат. Необчайно долго, если продажа заняла более 500 дней. В стреднем квартира продается за 95-200 дней."
   ]
  },
  {
   "cell_type": "markdown",
   "metadata": {},
   "source": [
    "### Работа с редкими и выбивающимися значениями"
   ]
  },
  {
   "cell_type": "markdown",
   "metadata": {},
   "source": [
    "Для всех исследуемых столбцов будет использован метод boxplot. С его помощью можно определить выбивающиеся значения, и уже без них построить новый график.  "
   ]
  },
  {
   "cell_type": "code",
   "execution_count": 31,
   "metadata": {},
   "outputs": [
    {
     "data": {
      "image/png": "[encoded data removed]",
      "text/plain": [
       "<Figure size 1440x576 with 4 Axes>"
      ]
     },
     "metadata": {
      "needs_background": "light"
     },
     "output_type": "display_data"
    }
   ],
   "source": [
    "column_list1 = ['total_area','last_price', 'rooms', 'ceiling_height']\n",
    "ax = flats[column_list1].plot(kind='box', subplots=True, layout=(2,2), figsize=(20,8))\n",
    "ylims = [300, 17000000, 10, 10]\n",
    "xlims = [1, 1, 1, 1]\n",
    "for i in range(len(column_list1)):\n",
    "    ax[column_list1[i]].set_ylim(-1, ylims[i], xlims[i])\n"
   ]
  },
  {
   "cell_type": "markdown",
   "metadata": {},
   "source": [
    "Мы видим выбросы. Удолять мы их не будем, лучше ограничим таблицу, где данные будут без выбросов, и с ней поработаем. На тот случай, если выбросы все-таки нам понадобятся мы просто вернемся к предыдущей таблице"
   ]
  },
  {
   "cell_type": "code",
   "execution_count": 32,
   "metadata": {},
   "outputs": [],
   "source": [
    "flats_cut = (\n",
    "    flats\n",
    "    .query('12 <= total_area <= 116')\n",
    "    .query('1000000 <= last_price <= 17000000')\n",
    "    .query('1 <= ceiling_height <= 6')\n",
    "    .query('1 <= rooms <= 6')\n",
    ")"
   ]
  },
  {
   "cell_type": "code",
   "execution_count": 33,
   "metadata": {},
   "outputs": [
    {
     "data": {
      "image/png": "[encoded data removed]",
      "text/plain": [
       "<Figure size 432x288 with 1 Axes>"
      ]
     },
     "metadata": {
      "needs_background": "light"
     },
     "output_type": "display_data"
    },
    {
     "data": {
      "image/png": "[encoded data removed]",
      "text/plain": [
       "<Figure size 432x288 with 1 Axes>"
      ]
     },
     "metadata": {
      "needs_background": "light"
     },
     "output_type": "display_data"
    },
    {
     "data": {
      "image/png": "[encoded data removed]",
      "text/plain": [
       "<Figure size 432x288 with 1 Axes>"
      ]
     },
     "metadata": {
      "needs_background": "light"
     },
     "output_type": "display_data"
    },
    {
     "data": {
      "image/png": "[encoded data removed]",
      "text/plain": [
       "<Figure size 432x288 with 1 Axes>"
      ]
     },
     "metadata": {
      "needs_background": "light"
     },
     "output_type": "display_data"
    }
   ],
   "source": [
    "columns = ['total_area', 'last_price', 'rooms', 'ceiling_height']\n",
    "for name in columns:\n",
    "    flats_cut[name].plot(title=name, kind='hist', bins=10)\n",
    "    plt.show()"
   ]
  },
  {
   "cell_type": "markdown",
   "metadata": {},
   "source": [
    "Как писалось выше - удалять выбросы не будем, лучше продолжим работать с таблицой, где их нет. В дальнейшем анализ выбросов нам может пригодиться. Так, убрали крайние значение в столбцах 'total_area', 'last_price', 'rooms', 'ceiling_height'. В таблице не будут учитываться пропущенные значения в столбце ceiling_height, так как ранее мы их заменили на 0, а теперь они не вошли в срез."
   ]
  },
  {
   "cell_type": "markdown",
   "metadata": {},
   "source": [
    "### Факторы,  больше всего влияющие на стоимость квартиры"
   ]
  },
  {
   "cell_type": "markdown",
   "metadata": {},
   "source": [
    "__Зависимость цены от квадратного метра__"
   ]
  },
  {
   "cell_type": "code",
   "execution_count": 34,
   "metadata": {},
   "outputs": [
    {
     "data": {
      "text/plain": [
       "0.7355564041960159"
      ]
     },
     "execution_count": 34,
     "metadata": {},
     "output_type": "execute_result"
    }
   ],
   "source": [
    "flats_cut['last_price'].corr(flats_cut['total_area'])"
   ]
  },
  {
   "cell_type": "code",
   "execution_count": 35,
   "metadata": {},
   "outputs": [
    {
     "data": {
      "text/plain": [
       "<matplotlib.axes._subplots.AxesSubplot at 0x7efc613f60d0>"
      ]
     },
     "execution_count": 35,
     "metadata": {},
     "output_type": "execute_result"
    },
    {
     "data": {
      "image/png": "[encoded data removed]",
      "text/plain": [
       "<Figure size 432x288 with 1 Axes>"
      ]
     },
     "metadata": {
      "needs_background": "light"
     },
     "output_type": "display_data"
    }
   ],
   "source": [
    "flats_cut.plot(x='total_area', y='last_price', kind='scatter', grid=True)"
   ]
  },
  {
   "cell_type": "markdown",
   "metadata": {},
   "source": [
    "__Интересный результат__ В таблице без выбросов прослеживается прямая корреляция цены и площади квартиры. Чем больше площадб - тем больше цена "
   ]
  },
  {
   "cell_type": "markdown",
   "metadata": {},
   "source": [
    "__Зависимость цены от числа комнат__"
   ]
  },
  {
   "cell_type": "code",
   "execution_count": 36,
   "metadata": {},
   "outputs": [
    {
     "data": {
      "text/plain": [
       "0.44169550509413136"
      ]
     },
     "execution_count": 36,
     "metadata": {},
     "output_type": "execute_result"
    }
   ],
   "source": [
    "flats_cut['last_price'].corr(flats_cut['rooms'])"
   ]
  },
  {
   "cell_type": "code",
   "execution_count": 37,
   "metadata": {},
   "outputs": [
    {
     "data": {
      "text/plain": [
       "<matplotlib.axes._subplots.AxesSubplot at 0x7efc613b2050>"
      ]
     },
     "execution_count": 37,
     "metadata": {},
     "output_type": "execute_result"
    },
    {
     "data": {
      "image/png": "[encoded data removed]",
      "text/plain": [
       "<Figure size 432x288 with 1 Axes>"
      ]
     },
     "metadata": {
      "needs_background": "light"
     },
     "output_type": "display_data"
    }
   ],
   "source": [
    "flats_cut.plot(x='rooms', y='last_price', kind='scatter', grid=True)"
   ]
  },
  {
   "cell_type": "markdown",
   "metadata": {},
   "source": [
    "Как мы видим на графике, четырехкомнатная квартира может стоить столько же, сколько и однокомнатная. Есть отметки где помечено. Значимой зависимости не обнаружено."
   ]
  },
  {
   "cell_type": "markdown",
   "metadata": {},
   "source": [
    "__Зависимость цены от удаленности от цента__"
   ]
  },
  {
   "cell_type": "code",
   "execution_count": 38,
   "metadata": {},
   "outputs": [
    {
     "data": {
      "text/plain": [
       "-0.35216246023226216"
      ]
     },
     "execution_count": 38,
     "metadata": {},
     "output_type": "execute_result"
    }
   ],
   "source": [
    "flats_cut['last_price'].corr(flats_cut['cityCenters_nearest'])"
   ]
  },
  {
   "cell_type": "code",
   "execution_count": 39,
   "metadata": {},
   "outputs": [
    {
     "data": {
      "text/plain": [
       "<matplotlib.axes._subplots.AxesSubplot at 0x7efc615d1510>"
      ]
     },
     "execution_count": 39,
     "metadata": {},
     "output_type": "execute_result"
    },
    {
     "data": {
      "image/png": "[encoded data removed]",
      "text/plain": [
       "<Figure size 432x288 with 1 Axes>"
      ]
     },
     "metadata": {
      "needs_background": "light"
     },
     "output_type": "display_data"
    }
   ],
   "source": [
    "flats_cut.plot(x='cityCenters_nearest', y='last_price', kind='scatter', grid=True)"
   ]
  },
  {
   "cell_type": "markdown",
   "metadata": {},
   "source": [
    "Как и ожидалось, хоть и не большая, но есть обратная зависимость, чем больше расстояние до центра, тем ниже цена. Особо этот коэффициент не назовешь значимым, но он есть. И надо его учесть при работе с отдельными городами. "
   ]
  },
  {
   "cell_type": "markdown",
   "metadata": {},
   "source": [
    "__Зависимость цены от этажа квартиры: первый, последний или другой__"
   ]
  },
  {
   "cell_type": "code",
   "execution_count": 40,
   "metadata": {},
   "outputs": [
    {
     "data": {
      "text/plain": [
       "-0.12274861297842822"
      ]
     },
     "execution_count": 40,
     "metadata": {},
     "output_type": "execute_result"
    }
   ],
   "source": [
    "flats_cut['last_price'].corr(flats_cut['floor_name'] == 'первый')"
   ]
  },
  {
   "cell_type": "code",
   "execution_count": 41,
   "metadata": {},
   "outputs": [
    {
     "data": {
      "text/plain": [
       "0.12462603565272044"
      ]
     },
     "execution_count": 41,
     "metadata": {},
     "output_type": "execute_result"
    }
   ],
   "source": [
    "flats_cut['last_price'].corr(flats_cut['floor_name'] == 'другой')"
   ]
  },
  {
   "cell_type": "code",
   "execution_count": 42,
   "metadata": {},
   "outputs": [
    {
     "data": {
      "text/plain": [
       "-0.040759123027213746"
      ]
     },
     "execution_count": 42,
     "metadata": {},
     "output_type": "execute_result"
    }
   ],
   "source": [
    "flats_cut['last_price'].corr(flats_cut['floor_name'] == 'последний')"
   ]
  },
  {
   "cell_type": "markdown",
   "metadata": {},
   "source": [
    "Зависимость минимальная и не значима. Но даже в этих минимальных значениях есть интересные данные: что у квартир, которые находятся на первом и последнем этажах обратная зависимость. Значит, что квартиры на первом и последнем этажах дешевле квартир на остальных этажах. "
   ]
  },
  {
   "cell_type": "markdown",
   "metadata": {},
   "source": [
    "__Зависимость цены от даты размещения: день недели, мечсяц, год__"
   ]
  },
  {
   "cell_type": "code",
   "execution_count": 43,
   "metadata": {},
   "outputs": [
    {
     "data": {
      "text/plain": [
       "-0.024497787607734613"
      ]
     },
     "execution_count": 43,
     "metadata": {},
     "output_type": "execute_result"
    }
   ],
   "source": [
    "flats_cut['last_price'].corr(flats_cut['first_weekday_exposition'])"
   ]
  },
  {
   "cell_type": "code",
   "execution_count": 44,
   "metadata": {},
   "outputs": [
    {
     "data": {
      "text/plain": [
       "-0.0001296607216727535"
      ]
     },
     "execution_count": 44,
     "metadata": {},
     "output_type": "execute_result"
    }
   ],
   "source": [
    "\n",
    "flats_cut['last_price'].corr(flats_cut['first_month_exposition'])"
   ]
  },
  {
   "cell_type": "code",
   "execution_count": 45,
   "metadata": {},
   "outputs": [
    {
     "data": {
      "text/plain": [
       "-0.001702255460144501"
      ]
     },
     "execution_count": 45,
     "metadata": {},
     "output_type": "execute_result"
    }
   ],
   "source": [
    "\n",
    "flats_cut['last_price'].corr(flats_cut['first_year_exposition'])"
   ]
  },
  {
   "cell_type": "code",
   "execution_count": 46,
   "metadata": {},
   "outputs": [
    {
     "data": {
      "text/plain": [
       "<matplotlib.axes._subplots.AxesSubplot at 0x7efc64bf4f50>"
      ]
     },
     "execution_count": 46,
     "metadata": {},
     "output_type": "execute_result"
    },
    {
     "data": {
      "image/png": "[encoded data removed]",
      "text/plain": [
       "<Figure size 432x288 with 1 Axes>"
      ]
     },
     "metadata": {
      "needs_background": "light"
     },
     "output_type": "display_data"
    }
   ],
   "source": [
    "flats_cut.plot(x='first_year_exposition', y='last_price', kind='scatter', grid=True)"
   ]
  },
  {
   "cell_type": "markdown",
   "metadata": {},
   "source": [
    "Значимой зависимости цены от дня недели и месяца нет. Год показвает коэффициент 0,03 - это тоже едва значимо. Так что год, месяц или день недели выставления на продажу не влияет на стоимость квартиры. "
   ]
  },
  {
   "cell_type": "markdown",
   "metadata": {},
   "source": [
    " ### Изучение 10 населённых пунктов с наибольшим числом объявлений"
   ]
  },
  {
   "cell_type": "code",
   "execution_count": 47,
   "metadata": {},
   "outputs": [
    {
     "data": {
      "text/plain": [
       "Санкт-Петербург      15721\n",
       "посёлок Мурино         522\n",
       "посёлок Шушары         440\n",
       "Всеволожск             398\n",
       "Пушкин                 369\n",
       "Колпино                338\n",
       "посёлок Парголово      327\n",
       "Гатчина                307\n",
       "деревня Кудрово        299\n",
       "Выборг                 237\n",
       "Name: locality_name, dtype: int64"
      ]
     },
     "execution_count": 47,
     "metadata": {},
     "output_type": "execute_result"
    }
   ],
   "source": [
    "flats['locality_name'].value_counts().head(10)\n",
    " "
   ]
  },
  {
   "cell_type": "code",
   "execution_count": 48,
   "metadata": {},
   "outputs": [
    {
     "data": {
      "text/html": [
       "<div>\n",
       "<style scoped>\n",
       "    .dataframe tbody tr th:only-of-type {\n",
       "        vertical-align: middle;\n",
       "    }\n",
       "\n",
       "    .dataframe tbody tr th {\n",
       "        vertical-align: top;\n",
       "    }\n",
       "\n",
       "    .dataframe thead th {\n",
       "        text-align: right;\n",
       "    }\n",
       "</style>\n",
       "<table border=\"1\" class=\"dataframe\">\n",
       "  <thead>\n",
       "    <tr style=\"text-align: right;\">\n",
       "      <th></th>\n",
       "      <th>price_meter</th>\n",
       "    </tr>\n",
       "    <tr>\n",
       "      <th>locality_name</th>\n",
       "      <th></th>\n",
       "    </tr>\n",
       "  </thead>\n",
       "  <tbody>\n",
       "    <tr>\n",
       "      <td>Санкт-Петербург</td>\n",
       "      <td>114849.008794</td>\n",
       "    </tr>\n",
       "    <tr>\n",
       "      <td>Пушкин</td>\n",
       "      <td>103125.819291</td>\n",
       "    </tr>\n",
       "    <tr>\n",
       "      <td>деревня Кудрово</td>\n",
       "      <td>92473.547576</td>\n",
       "    </tr>\n",
       "    <tr>\n",
       "      <td>посёлок Парголово</td>\n",
       "      <td>90175.913458</td>\n",
       "    </tr>\n",
       "    <tr>\n",
       "      <td>посёлок Мурино</td>\n",
       "      <td>85752.189195</td>\n",
       "    </tr>\n",
       "    <tr>\n",
       "      <td>посёлок Шушары</td>\n",
       "      <td>78677.364217</td>\n",
       "    </tr>\n",
       "    <tr>\n",
       "      <td>Колпино</td>\n",
       "      <td>75424.579098</td>\n",
       "    </tr>\n",
       "    <tr>\n",
       "      <td>Гатчина</td>\n",
       "      <td>68746.146763</td>\n",
       "    </tr>\n",
       "    <tr>\n",
       "      <td>Всеволожск</td>\n",
       "      <td>68654.473986</td>\n",
       "    </tr>\n",
       "    <tr>\n",
       "      <td>Выборг</td>\n",
       "      <td>58141.909153</td>\n",
       "    </tr>\n",
       "  </tbody>\n",
       "</table>\n",
       "</div>"
      ],
      "text/plain": [
       "                     price_meter\n",
       "locality_name                   \n",
       "Санкт-Петербург    114849.008794\n",
       "Пушкин             103125.819291\n",
       "деревня Кудрово     92473.547576\n",
       "посёлок Парголово   90175.913458\n",
       "посёлок Мурино      85752.189195\n",
       "посёлок Шушары      78677.364217\n",
       "Колпино             75424.579098\n",
       "Гатчина             68746.146763\n",
       "Всеволожск          68654.473986\n",
       "Выборг              58141.909153"
      ]
     },
     "execution_count": 48,
     "metadata": {},
     "output_type": "execute_result"
    }
   ],
   "source": [
    "top_10 = (\n",
    "    flats\n",
    "    .query('locality_name in (\"Санкт-Петербург\", \"посёлок Мурино\", \"посёлок Шушары\", \"Всеволожск\", \"Пушкин\", \"Колпино\",\"посёлок Парголово\", \"Гатчина\", \"деревня Кудрово\", \"Выборг\")')\n",
    "    .pivot_table(index= 'locality_name' ,values='price_meter',aggfunc=('mean'))\n",
    ")\n",
    "top_10.sort_values(by = 'price_meter', ascending = False)\n",
    "\n",
    "           "
   ]
  },
  {
   "cell_type": "markdown",
   "metadata": {},
   "source": [
    "Логичный вывод что самая высокая стоимость жилья будет в Санкт-Петербурге. Самая низкая оказалась в Выборге. Разница в цене за квадратный метр между Питером и Выборгом равна 56 000р. То есть в Питере в два раза стоит дороже квартиры, чем в Выборге.\n",
    "\n",
    "\n",
    "Данные собрали по общей таблице \"flats\", так как число объявлений нам необходимо должно до срезов выбивающихся значений."
   ]
  },
  {
   "cell_type": "markdown",
   "metadata": {},
   "source": [
    "### Санкт-Петербург. Как меняются цены на квартиры в зависимости от расстояния до центра"
   ]
  },
  {
   "cell_type": "code",
   "execution_count": 49,
   "metadata": {},
   "outputs": [
    {
     "data": {
      "text/html": [
       "<div>\n",
       "<style scoped>\n",
       "    .dataframe tbody tr th:only-of-type {\n",
       "        vertical-align: middle;\n",
       "    }\n",
       "\n",
       "    .dataframe tbody tr th {\n",
       "        vertical-align: top;\n",
       "    }\n",
       "\n",
       "    .dataframe thead th {\n",
       "        text-align: right;\n",
       "    }\n",
       "</style>\n",
       "<table border=\"1\" class=\"dataframe\">\n",
       "  <thead>\n",
       "    <tr style=\"text-align: right;\">\n",
       "      <th></th>\n",
       "      <th>cityCenters_nearest</th>\n",
       "      <th>last_price</th>\n",
       "      <th>total_area</th>\n",
       "      <th>rooms</th>\n",
       "      <th>ceiling_height</th>\n",
       "      <th>floor_name</th>\n",
       "      <th>first_weekday_exposition</th>\n",
       "      <th>first_month_exposition</th>\n",
       "      <th>first_year_exposition</th>\n",
       "      <th>to_the_cetner_km</th>\n",
       "    </tr>\n",
       "  </thead>\n",
       "  <tbody>\n",
       "    <tr>\n",
       "      <td>0</td>\n",
       "      <td>16028.0</td>\n",
       "      <td>13000000</td>\n",
       "      <td>108.0</td>\n",
       "      <td>3</td>\n",
       "      <td>2.70</td>\n",
       "      <td>другой</td>\n",
       "      <td>3</td>\n",
       "      <td>3</td>\n",
       "      <td>2019</td>\n",
       "      <td>16.0</td>\n",
       "    </tr>\n",
       "    <tr>\n",
       "      <td>4</td>\n",
       "      <td>8098.0</td>\n",
       "      <td>10000000</td>\n",
       "      <td>100.0</td>\n",
       "      <td>2</td>\n",
       "      <td>3.03</td>\n",
       "      <td>другой</td>\n",
       "      <td>1</td>\n",
       "      <td>6</td>\n",
       "      <td>2018</td>\n",
       "      <td>8.0</td>\n",
       "    </tr>\n",
       "    <tr>\n",
       "      <td>9</td>\n",
       "      <td>15008.0</td>\n",
       "      <td>5400000</td>\n",
       "      <td>61.0</td>\n",
       "      <td>3</td>\n",
       "      <td>2.50</td>\n",
       "      <td>другой</td>\n",
       "      <td>6</td>\n",
       "      <td>2</td>\n",
       "      <td>2017</td>\n",
       "      <td>15.0</td>\n",
       "    </tr>\n",
       "    <tr>\n",
       "      <td>10</td>\n",
       "      <td>13878.0</td>\n",
       "      <td>5050000</td>\n",
       "      <td>39.6</td>\n",
       "      <td>1</td>\n",
       "      <td>2.67</td>\n",
       "      <td>другой</td>\n",
       "      <td>3</td>\n",
       "      <td>11</td>\n",
       "      <td>2017</td>\n",
       "      <td>14.0</td>\n",
       "    </tr>\n",
       "    <tr>\n",
       "      <td>16</td>\n",
       "      <td>10698.0</td>\n",
       "      <td>6700000</td>\n",
       "      <td>82.0</td>\n",
       "      <td>3</td>\n",
       "      <td>3.05</td>\n",
       "      <td>первый</td>\n",
       "      <td>3</td>\n",
       "      <td>11</td>\n",
       "      <td>2017</td>\n",
       "      <td>11.0</td>\n",
       "    </tr>\n",
       "    <tr>\n",
       "      <td>18</td>\n",
       "      <td>10842.0</td>\n",
       "      <td>3250000</td>\n",
       "      <td>31.0</td>\n",
       "      <td>1</td>\n",
       "      <td>2.50</td>\n",
       "      <td>другой</td>\n",
       "      <td>4</td>\n",
       "      <td>1</td>\n",
       "      <td>2017</td>\n",
       "      <td>11.0</td>\n",
       "    </tr>\n",
       "    <tr>\n",
       "      <td>23</td>\n",
       "      <td>14211.0</td>\n",
       "      <td>2950000</td>\n",
       "      <td>32.0</td>\n",
       "      <td>1</td>\n",
       "      <td>2.60</td>\n",
       "      <td>последний</td>\n",
       "      <td>5</td>\n",
       "      <td>10</td>\n",
       "      <td>2016</td>\n",
       "      <td>14.0</td>\n",
       "    </tr>\n",
       "    <tr>\n",
       "      <td>25</td>\n",
       "      <td>14640.0</td>\n",
       "      <td>6800000</td>\n",
       "      <td>76.0</td>\n",
       "      <td>2</td>\n",
       "      <td>2.75</td>\n",
       "      <td>другой</td>\n",
       "      <td>3</td>\n",
       "      <td>10</td>\n",
       "      <td>2015</td>\n",
       "      <td>15.0</td>\n",
       "    </tr>\n",
       "    <tr>\n",
       "      <td>27</td>\n",
       "      <td>11456.0</td>\n",
       "      <td>7100000</td>\n",
       "      <td>70.0</td>\n",
       "      <td>3</td>\n",
       "      <td>2.60</td>\n",
       "      <td>другой</td>\n",
       "      <td>4</td>\n",
       "      <td>5</td>\n",
       "      <td>2017</td>\n",
       "      <td>11.0</td>\n",
       "    </tr>\n",
       "    <tr>\n",
       "      <td>31</td>\n",
       "      <td>12944.0</td>\n",
       "      <td>7200000</td>\n",
       "      <td>67.9</td>\n",
       "      <td>2</td>\n",
       "      <td>2.80</td>\n",
       "      <td>другой</td>\n",
       "      <td>3</td>\n",
       "      <td>10</td>\n",
       "      <td>2017</td>\n",
       "      <td>13.0</td>\n",
       "    </tr>\n",
       "  </tbody>\n",
       "</table>\n",
       "</div>"
      ],
      "text/plain": [
       "    cityCenters_nearest  last_price  total_area  rooms  ceiling_height  \\\n",
       "0               16028.0    13000000       108.0      3            2.70   \n",
       "4                8098.0    10000000       100.0      2            3.03   \n",
       "9               15008.0     5400000        61.0      3            2.50   \n",
       "10              13878.0     5050000        39.6      1            2.67   \n",
       "16              10698.0     6700000        82.0      3            3.05   \n",
       "18              10842.0     3250000        31.0      1            2.50   \n",
       "23              14211.0     2950000        32.0      1            2.60   \n",
       "25              14640.0     6800000        76.0      2            2.75   \n",
       "27              11456.0     7100000        70.0      3            2.60   \n",
       "31              12944.0     7200000        67.9      2            2.80   \n",
       "\n",
       "   floor_name  first_weekday_exposition  first_month_exposition  \\\n",
       "0      другой                         3                       3   \n",
       "4      другой                         1                       6   \n",
       "9      другой                         6                       2   \n",
       "10     другой                         3                      11   \n",
       "16     первый                         3                      11   \n",
       "18     другой                         4                       1   \n",
       "23  последний                         5                      10   \n",
       "25     другой                         3                      10   \n",
       "27     другой                         4                       5   \n",
       "31     другой                         3                      10   \n",
       "\n",
       "    first_year_exposition  to_the_cetner_km  \n",
       "0                    2019              16.0  \n",
       "4                    2018               8.0  \n",
       "9                    2017              15.0  \n",
       "10                   2017              14.0  \n",
       "16                   2017              11.0  \n",
       "18                   2017              11.0  \n",
       "23                   2016              14.0  \n",
       "25                   2015              15.0  \n",
       "27                   2017              11.0  \n",
       "31                   2017              13.0  "
      ]
     },
     "execution_count": 49,
     "metadata": {},
     "output_type": "execute_result"
    }
   ],
   "source": [
    "S_Peterburg = (\n",
    "    flats_cut\n",
    "    .query('locality_name in (\"Санкт-Петербург\")')\n",
    "    .loc[:, ('cityCenters_nearest', 'last_price', 'total_area', 'rooms', 'ceiling_height', 'floor_name', 'first_weekday_exposition', 'first_month_exposition', 'first_year_exposition')]\n",
    ")\n",
    "\n",
    "S_Peterburg['to_the_cetner_km'] = S_Peterburg['cityCenters_nearest'] / 1000\n",
    "S_Peterburg['to_the_cetner_km'] = S_Peterburg['to_the_cetner_km'].round()\n",
    "S_Peterburg.head(10)\n"
   ]
  },
  {
   "cell_type": "code",
   "execution_count": 50,
   "metadata": {},
   "outputs": [
    {
     "data": {
      "text/plain": [
       "<matplotlib.axes._subplots.AxesSubplot at 0x7efc61615ed0>"
      ]
     },
     "execution_count": 50,
     "metadata": {},
     "output_type": "execute_result"
    },
    {
     "data": {
      "image/png": "[encoded data removed]",
      "text/plain": [
       "<Figure size 864x360 with 1 Axes>"
      ]
     },
     "metadata": {
      "needs_background": "light"
     },
     "output_type": "display_data"
    }
   ],
   "source": [
    "S_Peterburg_price_km = (\n",
    "    S_Peterburg\n",
    "    .pivot_table(index='to_the_cetner_km',values='last_price',aggfunc=('mean'))\n",
    "    \n",
    ")\n",
    "S_Peterburg_price_km.plot(figsize=(12, 5))"
   ]
  },
  {
   "cell_type": "code",
   "execution_count": 51,
   "metadata": {},
   "outputs": [
    {
     "data": {
      "text/html": [
       "<div>\n",
       "<style scoped>\n",
       "    .dataframe tbody tr th:only-of-type {\n",
       "        vertical-align: middle;\n",
       "    }\n",
       "\n",
       "    .dataframe tbody tr th {\n",
       "        vertical-align: top;\n",
       "    }\n",
       "\n",
       "    .dataframe thead th {\n",
       "        text-align: right;\n",
       "    }\n",
       "</style>\n",
       "<table border=\"1\" class=\"dataframe\">\n",
       "  <thead>\n",
       "    <tr style=\"text-align: right;\">\n",
       "      <th></th>\n",
       "      <th>last_price</th>\n",
       "    </tr>\n",
       "    <tr>\n",
       "      <th>to_the_cetner_km</th>\n",
       "      <th></th>\n",
       "    </tr>\n",
       "  </thead>\n",
       "  <tbody>\n",
       "    <tr>\n",
       "      <td>25.0</td>\n",
       "      <td>4267500.0</td>\n",
       "    </tr>\n",
       "    <tr>\n",
       "      <td>26.0</td>\n",
       "      <td>4162600.0</td>\n",
       "    </tr>\n",
       "    <tr>\n",
       "      <td>27.0</td>\n",
       "      <td>14350000.0</td>\n",
       "    </tr>\n",
       "    <tr>\n",
       "      <td>28.0</td>\n",
       "      <td>7600000.0</td>\n",
       "    </tr>\n",
       "    <tr>\n",
       "      <td>29.0</td>\n",
       "      <td>4114000.0</td>\n",
       "    </tr>\n",
       "  </tbody>\n",
       "</table>\n",
       "</div>"
      ],
      "text/plain": [
       "                  last_price\n",
       "to_the_cetner_km            \n",
       "25.0               4267500.0\n",
       "26.0               4162600.0\n",
       "27.0              14350000.0\n",
       "28.0               7600000.0\n",
       "29.0               4114000.0"
      ]
     },
     "execution_count": 51,
     "metadata": {},
     "output_type": "execute_result"
    }
   ],
   "source": [
    "S_Peterburg_price_km.query('25 <= to_the_cetner_km <= 30')"
   ]
  },
  {
   "cell_type": "markdown",
   "metadata": {},
   "source": [
    "На графике видно, что цена резко снижается к 15 км от центра. Рассмотрим отрецоз в 15 км до центра отдельно. А так же интересны значения 25-30 км от центра. там наблюдается резкий скачек. Есть выбивающееся значение на 27 км, для анализа центра оно не пригодится"
   ]
  },
  {
   "cell_type": "code",
   "execution_count": 52,
   "metadata": {},
   "outputs": [
    {
     "data": {
      "text/plain": [
       "(0, 15)"
      ]
     },
     "execution_count": 52,
     "metadata": {},
     "output_type": "execute_result"
    },
    {
     "data": {
      "image/png": "[encoded data removed]",
      "text/plain": [
       "<Figure size 864x360 with 1 Axes>"
      ]
     },
     "metadata": {
      "needs_background": "light"
     },
     "output_type": "display_data"
    }
   ],
   "source": [
    "S_Peterburg_price_km.plot(figsize=(12, 5))\n",
    "plt.xlim(0,15)"
   ]
  },
  {
   "cell_type": "markdown",
   "metadata": {},
   "source": [
    "На это графике уже виднее, что самое высокое значение у 0 км от центра. Дальее идет плавнй спад к 10 км. Возьмем за основу, что центральная часть Санк-Петербурка это радиус 6 км от центра. "
   ]
  },
  {
   "cell_type": "markdown",
   "metadata": {},
   "source": [
    "### Анализ квартир в центре Санкт-Петербурга"
   ]
  },
  {
   "cell_type": "code",
   "execution_count": 53,
   "metadata": {},
   "outputs": [
    {
     "data": {
      "text/html": [
       "<div>\n",
       "<style scoped>\n",
       "    .dataframe tbody tr th:only-of-type {\n",
       "        vertical-align: middle;\n",
       "    }\n",
       "\n",
       "    .dataframe tbody tr th {\n",
       "        vertical-align: top;\n",
       "    }\n",
       "\n",
       "    .dataframe thead th {\n",
       "        text-align: right;\n",
       "    }\n",
       "</style>\n",
       "<table border=\"1\" class=\"dataframe\">\n",
       "  <thead>\n",
       "    <tr style=\"text-align: right;\">\n",
       "      <th></th>\n",
       "      <th>cityCenters_nearest</th>\n",
       "      <th>last_price</th>\n",
       "      <th>total_area</th>\n",
       "      <th>rooms</th>\n",
       "      <th>ceiling_height</th>\n",
       "      <th>floor_name</th>\n",
       "      <th>first_weekday_exposition</th>\n",
       "      <th>first_month_exposition</th>\n",
       "      <th>first_year_exposition</th>\n",
       "    </tr>\n",
       "  </thead>\n",
       "  <tbody>\n",
       "    <tr>\n",
       "      <td>114</td>\n",
       "      <td>5791.0</td>\n",
       "      <td>4000000</td>\n",
       "      <td>21.4</td>\n",
       "      <td>1</td>\n",
       "      <td>2.90</td>\n",
       "      <td>другой</td>\n",
       "      <td>3</td>\n",
       "      <td>2</td>\n",
       "      <td>2019</td>\n",
       "    </tr>\n",
       "    <tr>\n",
       "      <td>136</td>\n",
       "      <td>3618.0</td>\n",
       "      <td>6500000</td>\n",
       "      <td>51.8</td>\n",
       "      <td>2</td>\n",
       "      <td>3.45</td>\n",
       "      <td>другой</td>\n",
       "      <td>2</td>\n",
       "      <td>8</td>\n",
       "      <td>2018</td>\n",
       "    </tr>\n",
       "    <tr>\n",
       "      <td>137</td>\n",
       "      <td>4263.0</td>\n",
       "      <td>13310800</td>\n",
       "      <td>85.1</td>\n",
       "      <td>2</td>\n",
       "      <td>2.70</td>\n",
       "      <td>другой</td>\n",
       "      <td>0</td>\n",
       "      <td>1</td>\n",
       "      <td>2018</td>\n",
       "    </tr>\n",
       "    <tr>\n",
       "      <td>143</td>\n",
       "      <td>6262.0</td>\n",
       "      <td>2990000</td>\n",
       "      <td>30.0</td>\n",
       "      <td>1</td>\n",
       "      <td>2.50</td>\n",
       "      <td>последний</td>\n",
       "      <td>2</td>\n",
       "      <td>6</td>\n",
       "      <td>2016</td>\n",
       "    </tr>\n",
       "    <tr>\n",
       "      <td>154</td>\n",
       "      <td>3167.0</td>\n",
       "      <td>8200000</td>\n",
       "      <td>80.0</td>\n",
       "      <td>3</td>\n",
       "      <td>4.15</td>\n",
       "      <td>другой</td>\n",
       "      <td>1</td>\n",
       "      <td>11</td>\n",
       "      <td>2018</td>\n",
       "    </tr>\n",
       "    <tr>\n",
       "      <td>159</td>\n",
       "      <td>4937.0</td>\n",
       "      <td>7050000</td>\n",
       "      <td>66.0</td>\n",
       "      <td>3</td>\n",
       "      <td>3.00</td>\n",
       "      <td>последний</td>\n",
       "      <td>0</td>\n",
       "      <td>9</td>\n",
       "      <td>2017</td>\n",
       "    </tr>\n",
       "    <tr>\n",
       "      <td>179</td>\n",
       "      <td>2559.0</td>\n",
       "      <td>14800000</td>\n",
       "      <td>108.7</td>\n",
       "      <td>3</td>\n",
       "      <td>4.00</td>\n",
       "      <td>последний</td>\n",
       "      <td>3</td>\n",
       "      <td>4</td>\n",
       "      <td>2019</td>\n",
       "    </tr>\n",
       "    <tr>\n",
       "      <td>181</td>\n",
       "      <td>3301.0</td>\n",
       "      <td>7900000</td>\n",
       "      <td>71.8</td>\n",
       "      <td>3</td>\n",
       "      <td>3.00</td>\n",
       "      <td>первый</td>\n",
       "      <td>2</td>\n",
       "      <td>8</td>\n",
       "      <td>2017</td>\n",
       "    </tr>\n",
       "    <tr>\n",
       "      <td>207</td>\n",
       "      <td>1645.0</td>\n",
       "      <td>9000000</td>\n",
       "      <td>72.6</td>\n",
       "      <td>2</td>\n",
       "      <td>2.90</td>\n",
       "      <td>другой</td>\n",
       "      <td>5</td>\n",
       "      <td>9</td>\n",
       "      <td>2018</td>\n",
       "    </tr>\n",
       "    <tr>\n",
       "      <td>213</td>\n",
       "      <td>1218.0</td>\n",
       "      <td>8700000</td>\n",
       "      <td>111.4</td>\n",
       "      <td>4</td>\n",
       "      <td>3.10</td>\n",
       "      <td>другой</td>\n",
       "      <td>0</td>\n",
       "      <td>10</td>\n",
       "      <td>2016</td>\n",
       "    </tr>\n",
       "  </tbody>\n",
       "</table>\n",
       "</div>"
      ],
      "text/plain": [
       "     cityCenters_nearest  last_price  total_area  rooms  ceiling_height  \\\n",
       "114               5791.0     4000000        21.4      1            2.90   \n",
       "136               3618.0     6500000        51.8      2            3.45   \n",
       "137               4263.0    13310800        85.1      2            2.70   \n",
       "143               6262.0     2990000        30.0      1            2.50   \n",
       "154               3167.0     8200000        80.0      3            4.15   \n",
       "159               4937.0     7050000        66.0      3            3.00   \n",
       "179               2559.0    14800000       108.7      3            4.00   \n",
       "181               3301.0     7900000        71.8      3            3.00   \n",
       "207               1645.0     9000000        72.6      2            2.90   \n",
       "213               1218.0     8700000       111.4      4            3.10   \n",
       "\n",
       "    floor_name  first_weekday_exposition  first_month_exposition  \\\n",
       "114     другой                         3                       2   \n",
       "136     другой                         2                       8   \n",
       "137     другой                         0                       1   \n",
       "143  последний                         2                       6   \n",
       "154     другой                         1                      11   \n",
       "159  последний                         0                       9   \n",
       "179  последний                         3                       4   \n",
       "181     первый                         2                       8   \n",
       "207     другой                         5                       9   \n",
       "213     другой                         0                      10   \n",
       "\n",
       "     first_year_exposition  \n",
       "114                   2019  \n",
       "136                   2018  \n",
       "137                   2018  \n",
       "143                   2016  \n",
       "154                   2018  \n",
       "159                   2017  \n",
       "179                   2019  \n",
       "181                   2017  \n",
       "207                   2018  \n",
       "213                   2016  "
      ]
     },
     "execution_count": 53,
     "metadata": {},
     "output_type": "execute_result"
    }
   ],
   "source": [
    "S_Peterburg_center = (\n",
    "    S_Peterburg\n",
    "    .query('to_the_cetner_km <= 6')\n",
    "    .loc[:, ('cityCenters_nearest', 'last_price', 'total_area', 'rooms', 'ceiling_height', 'floor_name', 'first_weekday_exposition', 'first_month_exposition', 'first_year_exposition')]\n",
    ")\n",
    "S_Peterburg_center.head(10)"
   ]
  },
  {
   "cell_type": "code",
   "execution_count": 54,
   "metadata": {
    "scrolled": true
   },
   "outputs": [
    {
     "data": {
      "text/plain": [
       "count    1429.000000\n",
       "mean       70.590658\n",
       "std        22.199916\n",
       "min        12.000000\n",
       "25%        53.000000\n",
       "50%        70.000000\n",
       "75%        87.100000\n",
       "max       116.000000\n",
       "Name: total_area, dtype: float64"
      ]
     },
     "execution_count": 54,
     "metadata": {},
     "output_type": "execute_result"
    }
   ],
   "source": [
    "S_Peterburg_center['total_area'].describe()"
   ]
  },
  {
   "cell_type": "code",
   "execution_count": 55,
   "metadata": {},
   "outputs": [
    {
     "data": {
      "text/plain": [
       "(1429, 9)"
      ]
     },
     "execution_count": 55,
     "metadata": {},
     "output_type": "execute_result"
    }
   ],
   "source": [
    "S_Peterburg_center.shape"
   ]
  },
  {
   "cell_type": "code",
   "execution_count": 56,
   "metadata": {},
   "outputs": [
    {
     "data": {
      "text/plain": [
       "count    1.429000e+03\n",
       "mean     8.512785e+06\n",
       "std      2.973849e+06\n",
       "min      1.600000e+06\n",
       "25%      6.400000e+06\n",
       "50%      8.000000e+06\n",
       "75%      1.014000e+07\n",
       "max      1.700000e+07\n",
       "Name: last_price, dtype: float64"
      ]
     },
     "execution_count": 56,
     "metadata": {},
     "output_type": "execute_result"
    }
   ],
   "source": [
    "S_Peterburg_center['last_price'].describe()"
   ]
  },
  {
   "cell_type": "code",
   "execution_count": 57,
   "metadata": {},
   "outputs": [
    {
     "data": {
      "text/plain": [
       "count    1429.000000\n",
       "mean        2.472358\n",
       "std         0.992323\n",
       "min         1.000000\n",
       "25%         2.000000\n",
       "50%         2.000000\n",
       "75%         3.000000\n",
       "max         6.000000\n",
       "Name: rooms, dtype: float64"
      ]
     },
     "execution_count": 57,
     "metadata": {},
     "output_type": "execute_result"
    }
   ],
   "source": [
    "S_Peterburg_center['rooms'].describe()"
   ]
  },
  {
   "cell_type": "code",
   "execution_count": 58,
   "metadata": {},
   "outputs": [
    {
     "data": {
      "text/plain": [
       "count    1429.000000\n",
       "mean        3.055955\n",
       "std         0.342853\n",
       "min         2.400000\n",
       "25%         2.800000\n",
       "50%         3.000000\n",
       "75%         3.210000\n",
       "max         5.300000\n",
       "Name: ceiling_height, dtype: float64"
      ]
     },
     "execution_count": 58,
     "metadata": {},
     "output_type": "execute_result"
    }
   ],
   "source": [
    "S_Peterburg_center['ceiling_height'].describe()"
   ]
  },
  {
   "cell_type": "markdown",
   "metadata": {},
   "source": [
    "В центре не замечено особо каких=то крайних значений. Площадь квартир не вызывает вопросов, кол-ва комнат исходя из площади, тоже в пределах нормы, высота потолков выше 2,5 метров, возможно, это связано с тем, что здания старой постройки. Цена, для таких параметров тоже в пределах нормы.\n"
   ]
  },
  {
   "cell_type": "code",
   "execution_count": 59,
   "metadata": {},
   "outputs": [
    {
     "data": {
      "text/html": [
       "<div>\n",
       "<style scoped>\n",
       "    .dataframe tbody tr th:only-of-type {\n",
       "        vertical-align: middle;\n",
       "    }\n",
       "\n",
       "    .dataframe tbody tr th {\n",
       "        vertical-align: top;\n",
       "    }\n",
       "\n",
       "    .dataframe thead th {\n",
       "        text-align: right;\n",
       "    }\n",
       "</style>\n",
       "<table border=\"1\" class=\"dataframe\">\n",
       "  <thead>\n",
       "    <tr style=\"text-align: right;\">\n",
       "      <th></th>\n",
       "      <th>cityCenters_nearest</th>\n",
       "      <th>last_price</th>\n",
       "      <th>total_area</th>\n",
       "      <th>rooms</th>\n",
       "      <th>ceiling_height</th>\n",
       "      <th>first_weekday_exposition</th>\n",
       "      <th>first_month_exposition</th>\n",
       "      <th>first_year_exposition</th>\n",
       "    </tr>\n",
       "  </thead>\n",
       "  <tbody>\n",
       "    <tr>\n",
       "      <td>cityCenters_nearest</td>\n",
       "      <td>1.000000</td>\n",
       "      <td>-0.140245</td>\n",
       "      <td>-0.150120</td>\n",
       "      <td>-0.145454</td>\n",
       "      <td>-0.258692</td>\n",
       "      <td>-0.002668</td>\n",
       "      <td>-0.015244</td>\n",
       "      <td>0.060669</td>\n",
       "    </tr>\n",
       "    <tr>\n",
       "      <td>last_price</td>\n",
       "      <td>-0.140245</td>\n",
       "      <td>1.000000</td>\n",
       "      <td>0.638883</td>\n",
       "      <td>0.355800</td>\n",
       "      <td>0.194200</td>\n",
       "      <td>-0.014030</td>\n",
       "      <td>-0.047486</td>\n",
       "      <td>-0.006565</td>\n",
       "    </tr>\n",
       "    <tr>\n",
       "      <td>total_area</td>\n",
       "      <td>-0.150120</td>\n",
       "      <td>0.638883</td>\n",
       "      <td>1.000000</td>\n",
       "      <td>0.765147</td>\n",
       "      <td>0.234763</td>\n",
       "      <td>-0.035748</td>\n",
       "      <td>-0.013581</td>\n",
       "      <td>-0.087217</td>\n",
       "    </tr>\n",
       "    <tr>\n",
       "      <td>rooms</td>\n",
       "      <td>-0.145454</td>\n",
       "      <td>0.355800</td>\n",
       "      <td>0.765147</td>\n",
       "      <td>1.000000</td>\n",
       "      <td>0.153983</td>\n",
       "      <td>-0.016656</td>\n",
       "      <td>-0.000083</td>\n",
       "      <td>-0.051411</td>\n",
       "    </tr>\n",
       "    <tr>\n",
       "      <td>ceiling_height</td>\n",
       "      <td>-0.258692</td>\n",
       "      <td>0.194200</td>\n",
       "      <td>0.234763</td>\n",
       "      <td>0.153983</td>\n",
       "      <td>1.000000</td>\n",
       "      <td>-0.016512</td>\n",
       "      <td>0.007705</td>\n",
       "      <td>0.004819</td>\n",
       "    </tr>\n",
       "    <tr>\n",
       "      <td>first_weekday_exposition</td>\n",
       "      <td>-0.002668</td>\n",
       "      <td>-0.014030</td>\n",
       "      <td>-0.035748</td>\n",
       "      <td>-0.016656</td>\n",
       "      <td>-0.016512</td>\n",
       "      <td>1.000000</td>\n",
       "      <td>0.012345</td>\n",
       "      <td>0.005747</td>\n",
       "    </tr>\n",
       "    <tr>\n",
       "      <td>first_month_exposition</td>\n",
       "      <td>-0.015244</td>\n",
       "      <td>-0.047486</td>\n",
       "      <td>-0.013581</td>\n",
       "      <td>-0.000083</td>\n",
       "      <td>0.007705</td>\n",
       "      <td>0.012345</td>\n",
       "      <td>1.000000</td>\n",
       "      <td>-0.224548</td>\n",
       "    </tr>\n",
       "    <tr>\n",
       "      <td>first_year_exposition</td>\n",
       "      <td>0.060669</td>\n",
       "      <td>-0.006565</td>\n",
       "      <td>-0.087217</td>\n",
       "      <td>-0.051411</td>\n",
       "      <td>0.004819</td>\n",
       "      <td>0.005747</td>\n",
       "      <td>-0.224548</td>\n",
       "      <td>1.000000</td>\n",
       "    </tr>\n",
       "  </tbody>\n",
       "</table>\n",
       "</div>"
      ],
      "text/plain": [
       "                          cityCenters_nearest  last_price  total_area  \\\n",
       "cityCenters_nearest                  1.000000   -0.140245   -0.150120   \n",
       "last_price                          -0.140245    1.000000    0.638883   \n",
       "total_area                          -0.150120    0.638883    1.000000   \n",
       "rooms                               -0.145454    0.355800    0.765147   \n",
       "ceiling_height                      -0.258692    0.194200    0.234763   \n",
       "first_weekday_exposition            -0.002668   -0.014030   -0.035748   \n",
       "first_month_exposition              -0.015244   -0.047486   -0.013581   \n",
       "first_year_exposition                0.060669   -0.006565   -0.087217   \n",
       "\n",
       "                             rooms  ceiling_height  first_weekday_exposition  \\\n",
       "cityCenters_nearest      -0.145454       -0.258692                 -0.002668   \n",
       "last_price                0.355800        0.194200                 -0.014030   \n",
       "total_area                0.765147        0.234763                 -0.035748   \n",
       "rooms                     1.000000        0.153983                 -0.016656   \n",
       "ceiling_height            0.153983        1.000000                 -0.016512   \n",
       "first_weekday_exposition -0.016656       -0.016512                  1.000000   \n",
       "first_month_exposition   -0.000083        0.007705                  0.012345   \n",
       "first_year_exposition    -0.051411        0.004819                  0.005747   \n",
       "\n",
       "                          first_month_exposition  first_year_exposition  \n",
       "cityCenters_nearest                    -0.015244               0.060669  \n",
       "last_price                             -0.047486              -0.006565  \n",
       "total_area                             -0.013581              -0.087217  \n",
       "rooms                                  -0.000083              -0.051411  \n",
       "ceiling_height                          0.007705               0.004819  \n",
       "first_weekday_exposition                0.012345               0.005747  \n",
       "first_month_exposition                  1.000000              -0.224548  \n",
       "first_year_exposition                  -0.224548               1.000000  "
      ]
     },
     "execution_count": 59,
     "metadata": {},
     "output_type": "execute_result"
    }
   ],
   "source": [
    "S_Peterburg_center.corr()"
   ]
  },
  {
   "cell_type": "markdown",
   "metadata": {},
   "source": [
    "Значимая корреляция наблюдается у закономерных параметров: чем больше площадь квартиры, тем дороже ее цена. Число комнат не так сильно влияет на ценообразованеие, как и высота потолков. По остальным параметроам значимой корреляции нет. "
   ]
  },
  {
   "cell_type": "code",
   "execution_count": 60,
   "metadata": {},
   "outputs": [
    {
     "data": {
      "text/html": [
       "<div>\n",
       "<style scoped>\n",
       "    .dataframe tbody tr th:only-of-type {\n",
       "        vertical-align: middle;\n",
       "    }\n",
       "\n",
       "    .dataframe tbody tr th {\n",
       "        vertical-align: top;\n",
       "    }\n",
       "\n",
       "    .dataframe thead th {\n",
       "        text-align: right;\n",
       "    }\n",
       "</style>\n",
       "<table border=\"1\" class=\"dataframe\">\n",
       "  <thead>\n",
       "    <tr style=\"text-align: right;\">\n",
       "      <th></th>\n",
       "      <th>cityCenters_nearest</th>\n",
       "      <th>last_price</th>\n",
       "      <th>total_area</th>\n",
       "      <th>rooms</th>\n",
       "      <th>ceiling_height</th>\n",
       "      <th>first_weekday_exposition</th>\n",
       "      <th>first_month_exposition</th>\n",
       "      <th>first_year_exposition</th>\n",
       "      <th>to_the_cetner_km</th>\n",
       "    </tr>\n",
       "  </thead>\n",
       "  <tbody>\n",
       "    <tr>\n",
       "      <td>cityCenters_nearest</td>\n",
       "      <td>1.000000</td>\n",
       "      <td>-0.382208</td>\n",
       "      <td>-0.255449</td>\n",
       "      <td>-0.177350</td>\n",
       "      <td>-0.503980</td>\n",
       "      <td>-0.000496</td>\n",
       "      <td>0.003619</td>\n",
       "      <td>0.077729</td>\n",
       "      <td>0.998061</td>\n",
       "    </tr>\n",
       "    <tr>\n",
       "      <td>last_price</td>\n",
       "      <td>-0.382208</td>\n",
       "      <td>1.000000</td>\n",
       "      <td>0.800779</td>\n",
       "      <td>0.487106</td>\n",
       "      <td>0.467794</td>\n",
       "      <td>-0.026895</td>\n",
       "      <td>-0.001693</td>\n",
       "      <td>-0.016955</td>\n",
       "      <td>-0.383421</td>\n",
       "    </tr>\n",
       "    <tr>\n",
       "      <td>total_area</td>\n",
       "      <td>-0.255449</td>\n",
       "      <td>0.800779</td>\n",
       "      <td>1.000000</td>\n",
       "      <td>0.783418</td>\n",
       "      <td>0.385433</td>\n",
       "      <td>-0.026730</td>\n",
       "      <td>0.013623</td>\n",
       "      <td>-0.098452</td>\n",
       "      <td>-0.256470</td>\n",
       "    </tr>\n",
       "    <tr>\n",
       "      <td>rooms</td>\n",
       "      <td>-0.177350</td>\n",
       "      <td>0.487106</td>\n",
       "      <td>0.783418</td>\n",
       "      <td>1.000000</td>\n",
       "      <td>0.155008</td>\n",
       "      <td>-0.006201</td>\n",
       "      <td>0.003041</td>\n",
       "      <td>-0.050389</td>\n",
       "      <td>-0.176946</td>\n",
       "    </tr>\n",
       "    <tr>\n",
       "      <td>ceiling_height</td>\n",
       "      <td>-0.503980</td>\n",
       "      <td>0.467794</td>\n",
       "      <td>0.385433</td>\n",
       "      <td>0.155008</td>\n",
       "      <td>1.000000</td>\n",
       "      <td>-0.028633</td>\n",
       "      <td>0.006066</td>\n",
       "      <td>-0.096152</td>\n",
       "      <td>-0.503539</td>\n",
       "    </tr>\n",
       "    <tr>\n",
       "      <td>first_weekday_exposition</td>\n",
       "      <td>-0.000496</td>\n",
       "      <td>-0.026895</td>\n",
       "      <td>-0.026730</td>\n",
       "      <td>-0.006201</td>\n",
       "      <td>-0.028633</td>\n",
       "      <td>1.000000</td>\n",
       "      <td>-0.015621</td>\n",
       "      <td>0.006967</td>\n",
       "      <td>-0.001084</td>\n",
       "    </tr>\n",
       "    <tr>\n",
       "      <td>first_month_exposition</td>\n",
       "      <td>0.003619</td>\n",
       "      <td>-0.001693</td>\n",
       "      <td>0.013623</td>\n",
       "      <td>0.003041</td>\n",
       "      <td>0.006066</td>\n",
       "      <td>-0.015621</td>\n",
       "      <td>1.000000</td>\n",
       "      <td>-0.310512</td>\n",
       "      <td>0.002643</td>\n",
       "    </tr>\n",
       "    <tr>\n",
       "      <td>first_year_exposition</td>\n",
       "      <td>0.077729</td>\n",
       "      <td>-0.016955</td>\n",
       "      <td>-0.098452</td>\n",
       "      <td>-0.050389</td>\n",
       "      <td>-0.096152</td>\n",
       "      <td>0.006967</td>\n",
       "      <td>-0.310512</td>\n",
       "      <td>1.000000</td>\n",
       "      <td>0.077849</td>\n",
       "    </tr>\n",
       "    <tr>\n",
       "      <td>to_the_cetner_km</td>\n",
       "      <td>0.998061</td>\n",
       "      <td>-0.383421</td>\n",
       "      <td>-0.256470</td>\n",
       "      <td>-0.176946</td>\n",
       "      <td>-0.503539</td>\n",
       "      <td>-0.001084</td>\n",
       "      <td>0.002643</td>\n",
       "      <td>0.077849</td>\n",
       "      <td>1.000000</td>\n",
       "    </tr>\n",
       "  </tbody>\n",
       "</table>\n",
       "</div>"
      ],
      "text/plain": [
       "                          cityCenters_nearest  last_price  total_area  \\\n",
       "cityCenters_nearest                  1.000000   -0.382208   -0.255449   \n",
       "last_price                          -0.382208    1.000000    0.800779   \n",
       "total_area                          -0.255449    0.800779    1.000000   \n",
       "rooms                               -0.177350    0.487106    0.783418   \n",
       "ceiling_height                      -0.503980    0.467794    0.385433   \n",
       "first_weekday_exposition            -0.000496   -0.026895   -0.026730   \n",
       "first_month_exposition               0.003619   -0.001693    0.013623   \n",
       "first_year_exposition                0.077729   -0.016955   -0.098452   \n",
       "to_the_cetner_km                     0.998061   -0.383421   -0.256470   \n",
       "\n",
       "                             rooms  ceiling_height  first_weekday_exposition  \\\n",
       "cityCenters_nearest      -0.177350       -0.503980                 -0.000496   \n",
       "last_price                0.487106        0.467794                 -0.026895   \n",
       "total_area                0.783418        0.385433                 -0.026730   \n",
       "rooms                     1.000000        0.155008                 -0.006201   \n",
       "ceiling_height            0.155008        1.000000                 -0.028633   \n",
       "first_weekday_exposition -0.006201       -0.028633                  1.000000   \n",
       "first_month_exposition    0.003041        0.006066                 -0.015621   \n",
       "first_year_exposition    -0.050389       -0.096152                  0.006967   \n",
       "to_the_cetner_km         -0.176946       -0.503539                 -0.001084   \n",
       "\n",
       "                          first_month_exposition  first_year_exposition  \\\n",
       "cityCenters_nearest                     0.003619               0.077729   \n",
       "last_price                             -0.001693              -0.016955   \n",
       "total_area                              0.013623              -0.098452   \n",
       "rooms                                   0.003041              -0.050389   \n",
       "ceiling_height                          0.006066              -0.096152   \n",
       "first_weekday_exposition               -0.015621               0.006967   \n",
       "first_month_exposition                  1.000000              -0.310512   \n",
       "first_year_exposition                  -0.310512               1.000000   \n",
       "to_the_cetner_km                        0.002643               0.077849   \n",
       "\n",
       "                          to_the_cetner_km  \n",
       "cityCenters_nearest               0.998061  \n",
       "last_price                       -0.383421  \n",
       "total_area                       -0.256470  \n",
       "rooms                            -0.176946  \n",
       "ceiling_height                   -0.503539  \n",
       "first_weekday_exposition         -0.001084  \n",
       "first_month_exposition            0.002643  \n",
       "first_year_exposition             0.077849  \n",
       "to_the_cetner_km                  1.000000  "
      ]
     },
     "execution_count": 60,
     "metadata": {},
     "output_type": "execute_result"
    }
   ],
   "source": [
    "S_Peterburg.corr()"
   ]
  },
  {
   "cell_type": "markdown",
   "metadata": {},
   "source": [
    "Если сравнивать центр Санкт-Петербурга и весь город, то получаются интересные данные: \n",
    "\n",
    "Корреляция между ценой и общей площадью сохраняется значимой, и даже возрастает, по сравнению с центром;\n",
    "\n",
    "Колличество комнат и высота потолков не доходят до особо значимого уровня корреляции, но в ценообразовании оказывают свое влияние вне центра больше, чем в центре Санкт-Петербурга. "
   ]
  },
  {
   "cell_type": "markdown",
   "metadata": {},
   "source": [
    "### Шаг 5. Общий вывод"
   ]
  },
  {
   "cell_type": "markdown",
   "metadata": {},
   "source": [
    "Была проведена работа с полученными данными. После изучения таблицы flats были найдены пропуски. В столбцах, где это было возможно, они были заполнены. \n",
    "\n",
    "Далее мы посмотрели на выбросы. Чтобы сохранить данные для дальнейшей работы, было решено от их не удалять, а сделать новую таблицу без выбросов. И продолжить работу с ней. Уже на основе данный в таблице flats_cut был проведен анализ по ценообразованию.\n",
    "\n",
    "Самое большое влияение на стоимость квартиры имеет площадь этой самой квартиры. Зависимость прямая: чем больше площадь, тем выше цена. В городе Санкт-Петербурге, в цетре (радиус 6 км) а так же во всем городе не выявлено сильного влияния от расположенности к центру. Да, чем дальше от центра, тем квартира дешевле, но не значимо. Чуть больше влияния на ценообразование оказывает колличество комнат и высота потолков по всему городу, а не конкретно в центре. Но все равно значимыми параметроми их назвать нельзя. Можно сделать вывод, что основной параметр в ценообразовании - это площадь продаваемой квартиры, потом колличество комнат, высота потолков и уже после близость к центру. "
   ]
  },
  {
   "cell_type": "markdown",
   "metadata": {},
   "source": [
    "### Чек-лист готовности проекта\n",
    "\n",
    "Поставьте 'x' в выполненных пунктах. Далее нажмите Shift+Enter."
   ]
  },
  {
   "cell_type": "markdown",
   "metadata": {},
   "source": [
    "- [x]  открыт файл\n",
    "- [x]  файлы изучены (выведены первые строки, метод info())\n",
    "- [x]  определены пропущенные значения\n",
    "- [x]  заполнены пропущенные значения\n",
    "- [x]  есть пояснение какие пропущенные значения обнаружены\n",
    "- [x]  изменены типы данных\n",
    "- [x]  есть пояснение в каких столбцах изменены типы и почему\n",
    "- [x]  посчитано и добавлено в таблицу: цена квадратного метра\n",
    "- [x]  посчитано и добавлено в таблицу: день недели, месяц и год публикации объявления\n",
    "- [x]  посчитано и добавлено в таблицу: этаж квартиры; варианты — первый, последний, другой\n",
    "- [x]  посчитано и добавлено в таблицу: соотношение жилой и общей площади, а также отношение площади кухни к общей\n",
    "- [x]  изучены следующие параметры: площадь, цена, число комнат, высота потолков\n",
    "- [x]  построены гистограммы для каждого параметра\n",
    "- [x]  выполнено задание: \"Изучите время продажи квартиры. Постройте гистограмму. Посчитайте среднее и медиану. Опишите, сколько обычно занимает продажа. Когда можно считать, что продажи прошли очень быстро, а когда необычно долго?\"\n",
    "- [x]  выполнено задание: \"Уберите редкие и выбивающиеся значения. Опишите, какие особенности обнаружили.\"\n",
    "- [x]  выполнено задание: \"Какие факторы больше всего влияют на стоимость квартиры? Изучите, зависит ли цена от квадратного метра, числа комнат, этажа (первого или последнего), удалённости от центра. Также изучите зависимость от даты размещения: дня недели, месяца и года. \"Выберите 10 населённых пунктов с наибольшим числом объявлений. Посчитайте среднюю цену квадратного метра в этих населённых пунктах. Выделите населённые пункты с самой высокой и низкой стоимостью жилья. Эти данные можно найти по имени в столбце '*locality_name'*. \"\n",
    "- [x]  выполнено задание: \"Изучите предложения квартир: для каждой квартиры есть информация о расстоянии до центра. Выделите квартиры в Санкт-Петербурге (*'locality_name'*). Ваша задача — выяснить, какая область входит в центр. Создайте столбец с расстоянием до центра в километрах: округлите до целых значений. После этого посчитайте среднюю цену для каждого километра. Постройте график: он должен показывать, как цена зависит от удалённости от центра. Определите границу, где график сильно меняется — это и будет центральная зона. \"\n",
    "- [x]  выполнено задание: \"Выделите сегмент квартир в центре. Проанализируйте эту территорию и изучите следующие параметры: площадь, цена, число комнат, высота потолков. Также выделите факторы, которые влияют на стоимость квартиры (число комнат, этаж, удалённость от центра, дата размещения объявления). Сделайте выводы. Отличаются ли они от общих выводов по всему городу?\"\n",
    "- [x]  в каждом этапе есть выводы\n",
    "- [x]  есть общий вывод"
   ]
  },
  {
   "cell_type": "code",
   "execution_count": null,
   "metadata": {},
   "outputs": [],
   "source": []
  }
 ],
 "metadata": {
  "kernelspec": {
   "display_name": "Python 3",
   "language": "python",
   "name": "python3"
  },
  "language_info": {
   "codemirror_mode": {
    "name": "ipython",
    "version": 3
   },
   "file_extension": ".py",
   "mimetype": "text/x-python",
   "name": "python",
   "nbconvert_exporter": "python",
   "pygments_lexer": "ipython3",
   "version": "3.7.4"
  }
 },
 "nbformat": 4,
 "nbformat_minor": 2
}
